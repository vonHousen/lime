{
 "cells": [
  {
   "cell_type": "code",
   "execution_count": 1,
   "metadata": {
    "pycharm": {
     "name": "#%%\n"
    }
   },
   "outputs": [],
   "source": [
    "import pandas as pd\n",
    "import numpy as np\n",
    "import sklearn.ensemble\n",
    "import sklearn.neural_network\n",
    "import sklearn.svm\n",
    "import sklearn.naive_bayes\n",
    "import sklearn.tree\n",
    "import lime.lime_tabular_mod\n",
    "import matplotlib.pyplot as plt\n",
    "import doc.mod.utils.DatasetRepository as dr\n",
    "from tqdm import tqdm\n",
    "\n",
    "import importlib\n",
    "importlib.reload(lime.lime_tabular_mod)\n",
    "repo = dr.DatasetRepository(\"../data\")\n",
    "\n",
    "\n",
    "pd.set_option(\"display.max_columns\", None)\n",
    "pd.set_option(\"mode.chained_assignment\", None)\n",
    "plt.style.use({\"figure.facecolor\": \"white\"})"
   ]
  },
  {
   "cell_type": "markdown",
   "metadata": {},
   "source": [
    "### Load dataset: Fetal Health"
   ]
  },
  {
   "cell_type": "code",
   "execution_count": 2,
   "metadata": {
    "pycharm": {
     "name": "#%%\n"
    }
   },
   "outputs": [
    {
     "data": {
      "text/html": [
       "<div>\n",
       "<style scoped>\n",
       "    .dataframe tbody tr th:only-of-type {\n",
       "        vertical-align: middle;\n",
       "    }\n",
       "\n",
       "    .dataframe tbody tr th {\n",
       "        vertical-align: top;\n",
       "    }\n",
       "\n",
       "    .dataframe thead th {\n",
       "        text-align: right;\n",
       "    }\n",
       "</style>\n",
       "<table border=\"1\" class=\"dataframe\">\n",
       "  <thead>\n",
       "    <tr style=\"text-align: right;\">\n",
       "      <th></th>\n",
       "      <th>baseline value</th>\n",
       "      <th>accelerations</th>\n",
       "      <th>fetal_movement</th>\n",
       "      <th>uterine_contractions</th>\n",
       "      <th>light_decelerations</th>\n",
       "      <th>severe_decelerations</th>\n",
       "      <th>prolongued_decelerations</th>\n",
       "      <th>abnormal_short_term_variability</th>\n",
       "      <th>mean_value_of_short_term_variability</th>\n",
       "      <th>percentage_of_time_with_abnormal_long_term_variability</th>\n",
       "      <th>mean_value_of_long_term_variability</th>\n",
       "      <th>histogram_width</th>\n",
       "      <th>histogram_min</th>\n",
       "      <th>histogram_max</th>\n",
       "      <th>histogram_number_of_peaks</th>\n",
       "      <th>histogram_number_of_zeroes</th>\n",
       "      <th>histogram_mode</th>\n",
       "      <th>histogram_mean</th>\n",
       "      <th>histogram_median</th>\n",
       "      <th>histogram_variance</th>\n",
       "      <th>histogram_tendency</th>\n",
       "    </tr>\n",
       "  </thead>\n",
       "  <tbody>\n",
       "    <tr>\n",
       "      <th>593</th>\n",
       "      <td>120.0</td>\n",
       "      <td>0.004</td>\n",
       "      <td>0.010</td>\n",
       "      <td>0.004</td>\n",
       "      <td>0.000</td>\n",
       "      <td>0.0</td>\n",
       "      <td>0.000</td>\n",
       "      <td>37.0</td>\n",
       "      <td>1.5</td>\n",
       "      <td>0.0</td>\n",
       "      <td>11.3</td>\n",
       "      <td>96.0</td>\n",
       "      <td>78.0</td>\n",
       "      <td>174.0</td>\n",
       "      <td>4.0</td>\n",
       "      <td>0.0</td>\n",
       "      <td>119.0</td>\n",
       "      <td>132.0</td>\n",
       "      <td>128.0</td>\n",
       "      <td>51.0</td>\n",
       "      <td>0.0</td>\n",
       "    </tr>\n",
       "    <tr>\n",
       "      <th>1233</th>\n",
       "      <td>125.0</td>\n",
       "      <td>0.000</td>\n",
       "      <td>0.000</td>\n",
       "      <td>0.008</td>\n",
       "      <td>0.000</td>\n",
       "      <td>0.0</td>\n",
       "      <td>0.000</td>\n",
       "      <td>32.0</td>\n",
       "      <td>1.1</td>\n",
       "      <td>3.0</td>\n",
       "      <td>13.0</td>\n",
       "      <td>51.0</td>\n",
       "      <td>96.0</td>\n",
       "      <td>147.0</td>\n",
       "      <td>4.0</td>\n",
       "      <td>0.0</td>\n",
       "      <td>126.0</td>\n",
       "      <td>125.0</td>\n",
       "      <td>127.0</td>\n",
       "      <td>2.0</td>\n",
       "      <td>0.0</td>\n",
       "    </tr>\n",
       "    <tr>\n",
       "      <th>216</th>\n",
       "      <td>127.0</td>\n",
       "      <td>0.000</td>\n",
       "      <td>0.005</td>\n",
       "      <td>0.000</td>\n",
       "      <td>0.000</td>\n",
       "      <td>0.0</td>\n",
       "      <td>0.000</td>\n",
       "      <td>63.0</td>\n",
       "      <td>0.5</td>\n",
       "      <td>4.0</td>\n",
       "      <td>11.3</td>\n",
       "      <td>89.0</td>\n",
       "      <td>62.0</td>\n",
       "      <td>151.0</td>\n",
       "      <td>4.0</td>\n",
       "      <td>0.0</td>\n",
       "      <td>129.0</td>\n",
       "      <td>128.0</td>\n",
       "      <td>130.0</td>\n",
       "      <td>1.0</td>\n",
       "      <td>1.0</td>\n",
       "    </tr>\n",
       "    <tr>\n",
       "      <th>15</th>\n",
       "      <td>130.0</td>\n",
       "      <td>0.006</td>\n",
       "      <td>0.380</td>\n",
       "      <td>0.004</td>\n",
       "      <td>0.004</td>\n",
       "      <td>0.0</td>\n",
       "      <td>0.001</td>\n",
       "      <td>19.0</td>\n",
       "      <td>2.3</td>\n",
       "      <td>0.0</td>\n",
       "      <td>8.7</td>\n",
       "      <td>107.0</td>\n",
       "      <td>67.0</td>\n",
       "      <td>174.0</td>\n",
       "      <td>3.0</td>\n",
       "      <td>0.0</td>\n",
       "      <td>134.0</td>\n",
       "      <td>127.0</td>\n",
       "      <td>133.0</td>\n",
       "      <td>43.0</td>\n",
       "      <td>0.0</td>\n",
       "    </tr>\n",
       "    <tr>\n",
       "      <th>602</th>\n",
       "      <td>144.0</td>\n",
       "      <td>0.010</td>\n",
       "      <td>0.007</td>\n",
       "      <td>0.001</td>\n",
       "      <td>0.001</td>\n",
       "      <td>0.0</td>\n",
       "      <td>0.000</td>\n",
       "      <td>71.0</td>\n",
       "      <td>0.8</td>\n",
       "      <td>0.0</td>\n",
       "      <td>2.7</td>\n",
       "      <td>94.0</td>\n",
       "      <td>82.0</td>\n",
       "      <td>176.0</td>\n",
       "      <td>3.0</td>\n",
       "      <td>0.0</td>\n",
       "      <td>156.0</td>\n",
       "      <td>154.0</td>\n",
       "      <td>155.0</td>\n",
       "      <td>6.0</td>\n",
       "      <td>1.0</td>\n",
       "    </tr>\n",
       "    <tr>\n",
       "      <th>...</th>\n",
       "      <td>...</td>\n",
       "      <td>...</td>\n",
       "      <td>...</td>\n",
       "      <td>...</td>\n",
       "      <td>...</td>\n",
       "      <td>...</td>\n",
       "      <td>...</td>\n",
       "      <td>...</td>\n",
       "      <td>...</td>\n",
       "      <td>...</td>\n",
       "      <td>...</td>\n",
       "      <td>...</td>\n",
       "      <td>...</td>\n",
       "      <td>...</td>\n",
       "      <td>...</td>\n",
       "      <td>...</td>\n",
       "      <td>...</td>\n",
       "      <td>...</td>\n",
       "      <td>...</td>\n",
       "      <td>...</td>\n",
       "      <td>...</td>\n",
       "    </tr>\n",
       "    <tr>\n",
       "      <th>1070</th>\n",
       "      <td>133.0</td>\n",
       "      <td>0.008</td>\n",
       "      <td>0.000</td>\n",
       "      <td>0.004</td>\n",
       "      <td>0.006</td>\n",
       "      <td>0.0</td>\n",
       "      <td>0.000</td>\n",
       "      <td>16.0</td>\n",
       "      <td>2.6</td>\n",
       "      <td>0.0</td>\n",
       "      <td>0.0</td>\n",
       "      <td>98.0</td>\n",
       "      <td>82.0</td>\n",
       "      <td>180.0</td>\n",
       "      <td>5.0</td>\n",
       "      <td>0.0</td>\n",
       "      <td>131.0</td>\n",
       "      <td>138.0</td>\n",
       "      <td>136.0</td>\n",
       "      <td>54.0</td>\n",
       "      <td>0.0</td>\n",
       "    </tr>\n",
       "    <tr>\n",
       "      <th>713</th>\n",
       "      <td>120.0</td>\n",
       "      <td>0.008</td>\n",
       "      <td>0.000</td>\n",
       "      <td>0.005</td>\n",
       "      <td>0.000</td>\n",
       "      <td>0.0</td>\n",
       "      <td>0.000</td>\n",
       "      <td>43.0</td>\n",
       "      <td>1.4</td>\n",
       "      <td>5.0</td>\n",
       "      <td>18.4</td>\n",
       "      <td>106.0</td>\n",
       "      <td>50.0</td>\n",
       "      <td>156.0</td>\n",
       "      <td>8.0</td>\n",
       "      <td>0.0</td>\n",
       "      <td>129.0</td>\n",
       "      <td>129.0</td>\n",
       "      <td>130.0</td>\n",
       "      <td>11.0</td>\n",
       "      <td>1.0</td>\n",
       "    </tr>\n",
       "    <tr>\n",
       "      <th>1746</th>\n",
       "      <td>134.0</td>\n",
       "      <td>0.009</td>\n",
       "      <td>0.000</td>\n",
       "      <td>0.010</td>\n",
       "      <td>0.005</td>\n",
       "      <td>0.0</td>\n",
       "      <td>0.000</td>\n",
       "      <td>57.0</td>\n",
       "      <td>1.2</td>\n",
       "      <td>0.0</td>\n",
       "      <td>0.0</td>\n",
       "      <td>101.0</td>\n",
       "      <td>86.0</td>\n",
       "      <td>187.0</td>\n",
       "      <td>3.0</td>\n",
       "      <td>0.0</td>\n",
       "      <td>151.0</td>\n",
       "      <td>148.0</td>\n",
       "      <td>155.0</td>\n",
       "      <td>47.0</td>\n",
       "      <td>1.0</td>\n",
       "    </tr>\n",
       "    <tr>\n",
       "      <th>2090</th>\n",
       "      <td>133.0</td>\n",
       "      <td>0.000</td>\n",
       "      <td>0.001</td>\n",
       "      <td>0.005</td>\n",
       "      <td>0.000</td>\n",
       "      <td>0.0</td>\n",
       "      <td>0.000</td>\n",
       "      <td>78.0</td>\n",
       "      <td>0.8</td>\n",
       "      <td>44.0</td>\n",
       "      <td>3.6</td>\n",
       "      <td>14.0</td>\n",
       "      <td>130.0</td>\n",
       "      <td>144.0</td>\n",
       "      <td>1.0</td>\n",
       "      <td>0.0</td>\n",
       "      <td>136.0</td>\n",
       "      <td>134.0</td>\n",
       "      <td>137.0</td>\n",
       "      <td>0.0</td>\n",
       "      <td>0.0</td>\n",
       "    </tr>\n",
       "    <tr>\n",
       "      <th>2084</th>\n",
       "      <td>128.0</td>\n",
       "      <td>0.001</td>\n",
       "      <td>0.006</td>\n",
       "      <td>0.006</td>\n",
       "      <td>0.000</td>\n",
       "      <td>0.0</td>\n",
       "      <td>0.000</td>\n",
       "      <td>76.0</td>\n",
       "      <td>1.7</td>\n",
       "      <td>25.0</td>\n",
       "      <td>1.9</td>\n",
       "      <td>22.0</td>\n",
       "      <td>124.0</td>\n",
       "      <td>146.0</td>\n",
       "      <td>2.0</td>\n",
       "      <td>0.0</td>\n",
       "      <td>128.0</td>\n",
       "      <td>127.0</td>\n",
       "      <td>130.0</td>\n",
       "      <td>1.0</td>\n",
       "      <td>-1.0</td>\n",
       "    </tr>\n",
       "  </tbody>\n",
       "</table>\n",
       "<p>1700 rows × 21 columns</p>\n",
       "</div>"
      ],
      "text/plain": [
       "      baseline value  accelerations  fetal_movement  uterine_contractions  \\\n",
       "593            120.0          0.004           0.010                 0.004   \n",
       "1233           125.0          0.000           0.000                 0.008   \n",
       "216            127.0          0.000           0.005                 0.000   \n",
       "15             130.0          0.006           0.380                 0.004   \n",
       "602            144.0          0.010           0.007                 0.001   \n",
       "...              ...            ...             ...                   ...   \n",
       "1070           133.0          0.008           0.000                 0.004   \n",
       "713            120.0          0.008           0.000                 0.005   \n",
       "1746           134.0          0.009           0.000                 0.010   \n",
       "2090           133.0          0.000           0.001                 0.005   \n",
       "2084           128.0          0.001           0.006                 0.006   \n",
       "\n",
       "      light_decelerations  severe_decelerations  prolongued_decelerations  \\\n",
       "593                 0.000                   0.0                     0.000   \n",
       "1233                0.000                   0.0                     0.000   \n",
       "216                 0.000                   0.0                     0.000   \n",
       "15                  0.004                   0.0                     0.001   \n",
       "602                 0.001                   0.0                     0.000   \n",
       "...                   ...                   ...                       ...   \n",
       "1070                0.006                   0.0                     0.000   \n",
       "713                 0.000                   0.0                     0.000   \n",
       "1746                0.005                   0.0                     0.000   \n",
       "2090                0.000                   0.0                     0.000   \n",
       "2084                0.000                   0.0                     0.000   \n",
       "\n",
       "      abnormal_short_term_variability  mean_value_of_short_term_variability  \\\n",
       "593                              37.0                                   1.5   \n",
       "1233                             32.0                                   1.1   \n",
       "216                              63.0                                   0.5   \n",
       "15                               19.0                                   2.3   \n",
       "602                              71.0                                   0.8   \n",
       "...                               ...                                   ...   \n",
       "1070                             16.0                                   2.6   \n",
       "713                              43.0                                   1.4   \n",
       "1746                             57.0                                   1.2   \n",
       "2090                             78.0                                   0.8   \n",
       "2084                             76.0                                   1.7   \n",
       "\n",
       "      percentage_of_time_with_abnormal_long_term_variability  \\\n",
       "593                                                 0.0        \n",
       "1233                                                3.0        \n",
       "216                                                 4.0        \n",
       "15                                                  0.0        \n",
       "602                                                 0.0        \n",
       "...                                                 ...        \n",
       "1070                                                0.0        \n",
       "713                                                 5.0        \n",
       "1746                                                0.0        \n",
       "2090                                               44.0        \n",
       "2084                                               25.0        \n",
       "\n",
       "      mean_value_of_long_term_variability  histogram_width  histogram_min  \\\n",
       "593                                  11.3             96.0           78.0   \n",
       "1233                                 13.0             51.0           96.0   \n",
       "216                                  11.3             89.0           62.0   \n",
       "15                                    8.7            107.0           67.0   \n",
       "602                                   2.7             94.0           82.0   \n",
       "...                                   ...              ...            ...   \n",
       "1070                                  0.0             98.0           82.0   \n",
       "713                                  18.4            106.0           50.0   \n",
       "1746                                  0.0            101.0           86.0   \n",
       "2090                                  3.6             14.0          130.0   \n",
       "2084                                  1.9             22.0          124.0   \n",
       "\n",
       "      histogram_max  histogram_number_of_peaks  histogram_number_of_zeroes  \\\n",
       "593           174.0                        4.0                         0.0   \n",
       "1233          147.0                        4.0                         0.0   \n",
       "216           151.0                        4.0                         0.0   \n",
       "15            174.0                        3.0                         0.0   \n",
       "602           176.0                        3.0                         0.0   \n",
       "...             ...                        ...                         ...   \n",
       "1070          180.0                        5.0                         0.0   \n",
       "713           156.0                        8.0                         0.0   \n",
       "1746          187.0                        3.0                         0.0   \n",
       "2090          144.0                        1.0                         0.0   \n",
       "2084          146.0                        2.0                         0.0   \n",
       "\n",
       "      histogram_mode  histogram_mean  histogram_median  histogram_variance  \\\n",
       "593            119.0           132.0             128.0                51.0   \n",
       "1233           126.0           125.0             127.0                 2.0   \n",
       "216            129.0           128.0             130.0                 1.0   \n",
       "15             134.0           127.0             133.0                43.0   \n",
       "602            156.0           154.0             155.0                 6.0   \n",
       "...              ...             ...               ...                 ...   \n",
       "1070           131.0           138.0             136.0                54.0   \n",
       "713            129.0           129.0             130.0                11.0   \n",
       "1746           151.0           148.0             155.0                47.0   \n",
       "2090           136.0           134.0             137.0                 0.0   \n",
       "2084           128.0           127.0             130.0                 1.0   \n",
       "\n",
       "      histogram_tendency  \n",
       "593                  0.0  \n",
       "1233                 0.0  \n",
       "216                  1.0  \n",
       "15                   0.0  \n",
       "602                  1.0  \n",
       "...                  ...  \n",
       "1070                 0.0  \n",
       "713                  1.0  \n",
       "1746                 1.0  \n",
       "2090                 0.0  \n",
       "2084                -1.0  \n",
       "\n",
       "[1700 rows x 21 columns]"
      ]
     },
     "execution_count": 2,
     "metadata": {},
     "output_type": "execute_result"
    }
   ],
   "source": [
    "dataset = repo.get_fetal_health_dataset()\n",
    "dataset.train_data"
   ]
  },
  {
   "cell_type": "markdown",
   "metadata": {},
   "source": [
    "## Check performance of different classifiers on selected dataset (with their default settings)"
   ]
  },
  {
   "cell_type": "code",
   "execution_count": 3,
   "metadata": {
    "pycharm": {
     "name": "#%%\n"
    }
   },
   "outputs": [
    {
     "name": "stderr",
     "output_type": "stream",
     "text": [
      "c:\\users\\kamil zych\\documents\\mgr\\lime\\venv\\lib\\site-packages\\sklearn\\svm\\_base.py:977: ConvergenceWarning: Liblinear failed to converge, increase the number of iterations.\n",
      "  \"the number of iterations.\", ConvergenceWarning)\n"
     ]
    }
   ],
   "source": [
    "models = [\n",
    "    (\"Random Forest\", sklearn.ensemble.RandomForestClassifier(n_jobs=-1)),\n",
    "    (\"AdaBoost\", sklearn.ensemble.AdaBoostClassifier()),\n",
    "    (\"DecisionTree\", sklearn.tree.DecisionTreeClassifier()),\n",
    "    (\"Neural Network\", sklearn.neural_network.MLPClassifier()),\n",
    "    (\"SVM\", sklearn.svm.LinearSVC()),\n",
    "    (\"Naive Bayes\", sklearn.naive_bayes.GaussianNB()),\n",
    "    (\"kNN\", sklearn.neighbors.KNeighborsClassifier())\n",
    "]\n",
    "precision_for_classifier = {}\n",
    "recall_for_classifier = {}\n",
    "f1_for_classifier = {}\n",
    "for (classifier_name, model) in models:\n",
    "    x = dataset.train_data.to_numpy()\n",
    "    y = dataset.train_labels.to_numpy()\n",
    "    model.fit(x, y)\n",
    "\n",
    "    x = dataset.test_data.to_numpy()\n",
    "    y_true = dataset.test_labels.to_numpy()\n",
    "    y_predicted = model.predict(x)\n",
    "\n",
    "    precision_for_classifier[classifier_name] = sklearn.metrics.precision_score(y_true=y_true, y_pred=y_predicted, average=\"macro\")\n",
    "    recall_for_classifier[classifier_name] = sklearn.metrics.recall_score(y_true=y_true, y_pred=y_predicted, average=\"macro\")\n",
    "    f1_for_classifier[classifier_name] = sklearn.metrics.f1_score(y_true=y_true, y_pred=y_predicted, average=\"macro\")"
   ]
  },
  {
   "cell_type": "code",
   "execution_count": 4,
   "metadata": {
    "pycharm": {
     "name": "#%%\n"
    }
   },
   "outputs": [
    {
     "data": {
      "image/png": "[encoded data removed]",
      "text/plain": [
       "<Figure size 1008x288 with 1 Axes>"
      ]
     },
     "metadata": {},
     "output_type": "display_data"
    }
   ],
   "source": [
    "plt.figure(figsize=(14,4))\n",
    "plt.bar(f1_for_classifier.keys(), f1_for_classifier.values(), width=0.5)\n",
    "plt.title(\"f1_score\")\n",
    "plt.grid(axis=\"y\")\n",
    "plt.show()"
   ]
  },
  {
   "cell_type": "markdown",
   "metadata": {
    "pycharm": {
     "name": "#%% md\n"
    }
   },
   "source": [
    "## Use LIME to explain prediction\n",
    "### Create explainer object\n",
    "At first create explainer object that makes use of training data.\n",
    "It may be used by discretizer inner object and enhance local surrogate's performance."
   ]
  },
  {
   "cell_type": "code",
   "execution_count": 5,
   "metadata": {
    "pycharm": {
     "name": "#%%\n"
    }
   },
   "outputs": [],
   "source": [
    "explainer = lime.lime_tabular_mod.LimeTabularExplainerMod(\n",
    "    dataset.train_data.to_numpy(),\n",
    "    feature_names = dataset.train_data.columns.to_list(),\n",
    "    class_names = dataset.train_labels.drop_duplicates().to_list(), # should be equal to model.classes_\n",
    "    discretize_continuous=False,\n",
    "    sample_around_instance=True,\n",
    "    categorical_features=dataset.categorical_features\n",
    ")"
   ]
  },
  {
   "cell_type": "code",
   "execution_count": 6,
   "metadata": {
    "pycharm": {
     "name": "#%%\n"
    }
   },
   "outputs": [
    {
     "name": "stderr",
     "output_type": "stream",
     "text": [
      "100%|██████████| 426/426 [04:30<00:00,  1.58it/s]\n"
     ]
    }
   ],
   "source": [
    "test_data_subset = dataset.test_data.to_numpy()\n",
    "\n",
    "labels_count = 3\n",
    "quantiles_count = 50\n",
    "test_instances_count = test_data_subset.shape[0]\n",
    "\n",
    "scores_for_surrogate_model = np.empty(shape=(test_instances_count, labels_count), dtype=\"float32\")\n",
    "losses_for_surrogate_model = np.empty(shape=(test_instances_count, labels_count), dtype=\"float32\")\n",
    "fidelity_loss_on_explanation = np.empty(shape=(test_instances_count,), dtype=\"float32\")\n",
    "fidelity_loss_on_generated_data = np.empty(shape=(test_instances_count,), dtype=\"float32\")\n",
    "fidelity_loss_distribution_quantiles = np.empty(shape=(test_instances_count, quantiles_count), dtype=\"float32\")\n",
    "\n",
    "for idx, test_instance in enumerate(tqdm(test_data_subset)):\n",
    "    explanation = explainer.explain_instance(\n",
    "        test_instance.reshape(-1),\n",
    "        model.predict_proba,\n",
    "        num_features = 4,\n",
    "        top_labels = labels_count,\n",
    "        distance_metric=\"minkowski\",\n",
    "        minkowski_norm=100.\n",
    "    )\n",
    "    scores_for_surrogate_model[idx, :] = explanation.get_scores_for_surrogate_model()\n",
    "    losses_for_surrogate_model[idx, :] = explanation.get_losses_for_surrogate_model()\n",
    "    fidelity_loss_on_explanation[idx] = explanation.get_fidelity_loss_on_explanation()\n",
    "    fidelity_loss_on_generated_data[idx] = explanation.get_fidelity_loss_on_generated_data()\n",
    "    fidelity_loss_distribution_quantiles[idx, :] = explanation.get_fidelity_loss_distribution(quantiles=quantiles_count)"
   ]
  },
  {
   "cell_type": "code",
   "execution_count": 7,
   "metadata": {
    "pycharm": {
     "name": "#%%\n"
    }
   },
   "outputs": [
    {
     "name": "stdout",
     "output_type": "stream",
     "text": [
      "label #0 mean score: 0.2959223687648773\n",
      "label #1 mean score: 0.2333185225725174\n",
      "label #2 mean score: 0.17784550786018372\n"
     ]
    },
    {
     "data": {
      "image/png": "[encoded data removed]",
      "text/plain": [
       "<Figure size 432x288 with 1 Axes>"
      ]
     },
     "metadata": {},
     "output_type": "display_data"
    },
    {
     "data": {
      "image/png": "[encoded data removed]",
      "text/plain": [
       "<Figure size 432x288 with 1 Axes>"
      ]
     },
     "metadata": {},
     "output_type": "display_data"
    },
    {
     "data": {
      "image/png": "[encoded data removed]",
      "text/plain": [
       "<Figure size 432x288 with 1 Axes>"
      ]
     },
     "metadata": {},
     "output_type": "display_data"
    }
   ],
   "source": [
    "for idx in range(labels_count):\n",
    "    mean_score = np.mean(scores_for_surrogate_model[:, idx])\n",
    "    print(f\"label #{idx} mean score: {mean_score}\", flush=True)\n",
    "    plt.hist(scores_for_surrogate_model[:, idx], bins=30)\n",
    "    plt.axvline(mean_score, color=\"red\", linestyle=\"--\")\n",
    "    plt.title(f\"Histogram for label #{idx} scores\")\n",
    "    plt.show()"
   ]
  },
  {
   "cell_type": "code",
   "execution_count": 8,
   "metadata": {
    "pycharm": {
     "name": "#%%\n"
    }
   },
   "outputs": [
    {
     "name": "stdout",
     "output_type": "stream",
     "text": [
      "label #0 mean loss: 0.03750890493392944\n",
      "label #1 mean loss: 0.0308552049100399\n",
      "label #2 mean loss: 0.01463326159864664\n"
     ]
    },
    {
     "data": {
      "image/png": "[encoded data removed]",
      "text/plain": [
       "<Figure size 432x288 with 1 Axes>"
      ]
     },
     "metadata": {},
     "output_type": "display_data"
    },
    {
     "data": {
      "image/png": "[encoded data removed]",
      "text/plain": [
       "<Figure size 432x288 with 1 Axes>"
      ]
     },
     "metadata": {},
     "output_type": "display_data"
    },
    {
     "data": {
      "image/png": "[encoded data removed]",
      "text/plain": [
       "<Figure size 432x288 with 1 Axes>"
      ]
     },
     "metadata": {},
     "output_type": "display_data"
    }
   ],
   "source": [
    "for idx in range(labels_count):\n",
    "    mean_loss = np.mean(losses_for_surrogate_model[:, idx])\n",
    "    print(f\"label #{idx} mean loss: {mean_loss}\")\n",
    "    plt.hist(losses_for_surrogate_model[:, idx], bins=30)\n",
    "    plt.axvline(mean_loss, color=\"red\", linestyle=\"--\")\n",
    "    plt.title(f\"Histogram for label #{idx} losses\")\n",
    "    plt.show()"
   ]
  },
  {
   "cell_type": "code",
   "execution_count": 9,
   "metadata": {
    "pycharm": {
     "name": "#%%\n"
    }
   },
   "outputs": [
    {
     "name": "stdout",
     "output_type": "stream",
     "text": [
      "Mean fidelity loss on explanation: 0.10129614919424057\n"
     ]
    },
    {
     "data": {
      "image/png": "[encoded data removed]",
      "text/plain": [
       "<Figure size 432x288 with 1 Axes>"
      ]
     },
     "metadata": {},
     "output_type": "display_data"
    }
   ],
   "source": [
    "mean_fidelity_loss_on_explanation = np.mean(fidelity_loss_on_explanation)\n",
    "print(f\"Mean fidelity loss on explanation: {mean_fidelity_loss_on_explanation}\")\n",
    "plt.hist(fidelity_loss_on_explanation, bins=30)\n",
    "plt.axvline(mean_fidelity_loss_on_explanation, color=\"red\", linestyle=\"--\")\n",
    "plt.title(f\"Histogram for fidelity losses on explanation\")\n",
    "plt.show()"
   ]
  },
  {
   "cell_type": "code",
   "execution_count": 10,
   "metadata": {
    "pycharm": {
     "name": "#%%\n"
    }
   },
   "outputs": [
    {
     "name": "stdout",
     "output_type": "stream",
     "text": [
      "Mean fidelity loss on generated data: 0.08466550707817078\n"
     ]
    },
    {
     "data": {
      "image/png": "[encoded data removed]",
      "text/plain": [
       "<Figure size 432x288 with 1 Axes>"
      ]
     },
     "metadata": {},
     "output_type": "display_data"
    }
   ],
   "source": [
    "mean_fidelity_loss_on_generated_data = np.mean(fidelity_loss_on_generated_data)\n",
    "print(f\"Mean fidelity loss on generated data: {mean_fidelity_loss_on_generated_data}\")\n",
    "plt.hist(fidelity_loss_on_generated_data, bins=30)\n",
    "plt.axvline(mean_fidelity_loss_on_generated_data, color=\"red\", linestyle=\"--\")\n",
    "plt.title(f\"Histogram for fidelity losses on generated data\")\n",
    "plt.show()"
   ]
  },
  {
   "cell_type": "code",
   "execution_count": 11,
   "metadata": {
    "pycharm": {
     "name": "#%%\n"
    }
   },
   "outputs": [
    {
     "data": {
      "image/png": "[encoded data removed]",
      "text/plain": [
       "<Figure size 432x288 with 1 Axes>"
      ]
     },
     "metadata": {},
     "output_type": "display_data"
    }
   ],
   "source": [
    "plt.plot(np.mean(fidelity_loss_distribution_quantiles, axis=0))\n",
    "plt.ylabel(f\"Fidelity loss of samples\")\n",
    "plt.xlabel(f\"Quantiles of samples' distance\")\n",
    "plt.title(f\"Mean distribution of fidelity loss on quantified distance\")\n",
    "plt.show()"
   ]
  },
  {
   "cell_type": "code",
   "execution_count": 11,
   "metadata": {
    "pycharm": {
     "name": "#%%\n"
    }
   },
   "outputs": [],
   "source": []
  }
 ],
 "metadata": {
  "kernelspec": {
   "display_name": "Python 3",
   "language": "python",
   "name": "python3"
  },
  "language_info": {
   "codemirror_mode": {
    "name": "ipython",
    "version": 3
   },
   "file_extension": ".py",
   "mimetype": "text/x-python",
   "name": "python",
   "nbconvert_exporter": "python",
   "pygments_lexer": "ipython3",
   "version": "3.7.2"
  }
 },
 "nbformat": 4,
 "nbformat_minor": 1
}