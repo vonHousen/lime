{
 "cells": [
  {
   "cell_type": "code",
   "execution_count": 1,
   "metadata": {},
   "outputs": [],
   "source": [
    "import pandas as pd\n",
    "import numpy as np\n",
    "import sklearn.ensemble\n",
    "# import lime.lime_tabular as lime_tab\n",
    "import lime.lime_tabular_mod as lime_tab\n",
    "import matplotlib.pyplot as plt\n",
    "import random\n",
    "\n",
    "import importlib\n",
    "importlib.reload(lime_tab)\n",
    "\n",
    "pd.set_option(\"display.max_columns\", None)\n",
    "pd.set_option(\"mode.chained_assignment\", None)\n",
    "plt.style.use({\"figure.facecolor\": \"white\"})"
   ]
  },
  {
   "cell_type": "markdown",
   "metadata": {
    "pycharm": {
     "name": "#%% md\n"
    }
   },
   "source": [
    "### Load iris dataset"
   ]
  },
  {
   "cell_type": "code",
   "execution_count": 2,
   "metadata": {
    "pycharm": {
     "name": "#%%\n"
    }
   },
   "outputs": [
    {
     "data": {
      "text/plain": "     sepal_length  sepal_width  petal_length  petal_width            label\n87            6.3          2.3           4.4          1.3  Iris-versicolor\n112           6.8          3.0           5.5          2.1   Iris-virginica\n89            5.5          2.5           4.0          1.3  Iris-versicolor\n44            5.1          3.8           1.9          0.4      Iris-setosa\n70            5.9          3.2           4.8          1.8  Iris-versicolor\n..            ...          ...           ...          ...              ...\n16            5.4          3.9           1.3          0.4      Iris-setosa\n64            5.6          2.9           3.6          1.3  Iris-versicolor\n14            5.8          4.0           1.2          0.2      Iris-setosa\n22            4.6          3.6           1.0          0.2      Iris-setosa\n133           6.3          2.8           5.1          1.5   Iris-virginica\n\n[150 rows x 5 columns]",
      "text/html": "<div>\n<style scoped>\n    .dataframe tbody tr th:only-of-type {\n        vertical-align: middle;\n    }\n\n    .dataframe tbody tr th {\n        vertical-align: top;\n    }\n\n    .dataframe thead th {\n        text-align: right;\n    }\n</style>\n<table border=\"1\" class=\"dataframe\">\n  <thead>\n    <tr style=\"text-align: right;\">\n      <th></th>\n      <th>sepal_length</th>\n      <th>sepal_width</th>\n      <th>petal_length</th>\n      <th>petal_width</th>\n      <th>label</th>\n    </tr>\n  </thead>\n  <tbody>\n    <tr>\n      <th>87</th>\n      <td>6.3</td>\n      <td>2.3</td>\n      <td>4.4</td>\n      <td>1.3</td>\n      <td>Iris-versicolor</td>\n    </tr>\n    <tr>\n      <th>112</th>\n      <td>6.8</td>\n      <td>3.0</td>\n      <td>5.5</td>\n      <td>2.1</td>\n      <td>Iris-virginica</td>\n    </tr>\n    <tr>\n      <th>89</th>\n      <td>5.5</td>\n      <td>2.5</td>\n      <td>4.0</td>\n      <td>1.3</td>\n      <td>Iris-versicolor</td>\n    </tr>\n    <tr>\n      <th>44</th>\n      <td>5.1</td>\n      <td>3.8</td>\n      <td>1.9</td>\n      <td>0.4</td>\n      <td>Iris-setosa</td>\n    </tr>\n    <tr>\n      <th>70</th>\n      <td>5.9</td>\n      <td>3.2</td>\n      <td>4.8</td>\n      <td>1.8</td>\n      <td>Iris-versicolor</td>\n    </tr>\n    <tr>\n      <th>...</th>\n      <td>...</td>\n      <td>...</td>\n      <td>...</td>\n      <td>...</td>\n      <td>...</td>\n    </tr>\n    <tr>\n      <th>16</th>\n      <td>5.4</td>\n      <td>3.9</td>\n      <td>1.3</td>\n      <td>0.4</td>\n      <td>Iris-setosa</td>\n    </tr>\n    <tr>\n      <th>64</th>\n      <td>5.6</td>\n      <td>2.9</td>\n      <td>3.6</td>\n      <td>1.3</td>\n      <td>Iris-versicolor</td>\n    </tr>\n    <tr>\n      <th>14</th>\n      <td>5.8</td>\n      <td>4.0</td>\n      <td>1.2</td>\n      <td>0.2</td>\n      <td>Iris-setosa</td>\n    </tr>\n    <tr>\n      <th>22</th>\n      <td>4.6</td>\n      <td>3.6</td>\n      <td>1.0</td>\n      <td>0.2</td>\n      <td>Iris-setosa</td>\n    </tr>\n    <tr>\n      <th>133</th>\n      <td>6.3</td>\n      <td>2.8</td>\n      <td>5.1</td>\n      <td>1.5</td>\n      <td>Iris-virginica</td>\n    </tr>\n  </tbody>\n</table>\n<p>150 rows × 5 columns</p>\n</div>"
     },
     "execution_count": 2,
     "metadata": {},
     "output_type": "execute_result"
    }
   ],
   "source": [
    "iris_dataset = pd.read_csv(\n",
    "    \"../data/iris-classification/iris.data\",\n",
    "    names=[\n",
    "        \"sepal_length\",\n",
    "        \"sepal_width\",\n",
    "        \"petal_length\",\n",
    "        \"petal_width\",\n",
    "        \"label\"\n",
    "    ]).sample(frac=1)\n",
    "iris_dataset"
   ]
  },
  {
   "cell_type": "markdown",
   "metadata": {
    "pycharm": {
     "name": "#%% md\n"
    }
   },
   "source": [
    "### Prepare dataset "
   ]
  },
  {
   "cell_type": "code",
   "execution_count": 3,
   "metadata": {
    "pycharm": {
     "name": "#%%\n"
    }
   },
   "outputs": [
    {
     "name": "stdout",
     "output_type": "stream",
     "text": [
      "Attributes: ['sepal_length', 'sepal_width', 'petal_length', 'petal_width']\n"
     ]
    }
   ],
   "source": [
    "labels_column_name = \"label\"\n",
    "# jackknife_idx = random.choice(iris_dataset.index.to_numpy())\n",
    "jackknife_idx = 118\n",
    "train_data = iris_dataset.loc[iris_dataset.index != jackknife_idx]\n",
    "train_x = train_data.drop(columns=labels_column_name).to_numpy()\n",
    "train_y = train_data[labels_column_name].to_numpy()\n",
    "test_data = iris_dataset.loc[iris_dataset.index == jackknife_idx]\n",
    "test_x = test_data.drop(columns=labels_column_name).to_numpy()\n",
    "test_y = test_data[labels_column_name].to_numpy()\n",
    "\n",
    "attributes = iris_dataset.columns.tolist()\n",
    "attributes.remove(labels_column_name)\n",
    "print(f\"Attributes: {attributes}\")"
   ]
  },
  {
   "cell_type": "code",
   "execution_count": 4,
   "metadata": {
    "pycharm": {
     "name": "#%%\n"
    }
   },
   "outputs": [
    {
     "name": "stdout",
     "output_type": "stream",
     "text": [
      "Predicted: ['Iris-virginica']. It's accuracy: 1.0\n"
     ]
    }
   ],
   "source": [
    "model = sklearn.ensemble.RandomForestClassifier()\n",
    "model.fit(train_x, train_y)\n",
    "\n",
    "result = model.predict(test_x)\n",
    "accuracy = sklearn.metrics.accuracy_score(test_y, result)\n",
    "print(f\"Predicted: {result}. It's accuracy: {accuracy}\")"
   ]
  },
  {
   "cell_type": "markdown",
   "metadata": {
    "pycharm": {
     "name": "#%% md\n"
    }
   },
   "source": [
    "### Use LIME to explain local prediction"
   ]
  },
  {
   "cell_type": "code",
   "execution_count": 5,
   "metadata": {
    "pycharm": {
     "name": "#%%\n"
    }
   },
   "outputs": [],
   "source": [
    "explainer = lime_tab.LimeTabularExplainerMod(\n",
    "    train_x,\n",
    "    feature_names = attributes,\n",
    "    class_names = model.classes_,\n",
    "    with_kfold = 5\n",
    ")"
   ]
  },
  {
   "cell_type": "markdown",
   "metadata": {},
   "source": [
    "Show probabilities for random instance (given by random forest on test dataset)"
   ]
  },
  {
   "cell_type": "code",
   "execution_count": 6,
   "metadata": {
    "pycharm": {
     "name": "#%%\n"
    }
   },
   "outputs": [
    {
     "name": "stdout",
     "output_type": "stream",
     "text": [
      "{'Iris-setosa': 0.0, 'Iris-versicolor': 0.0, 'Iris-virginica': 1.0}\n"
     ]
    }
   ],
   "source": [
    "probabilities = model.predict_proba(test_x)[0,:]\n",
    "probabilities_for_labels = {}\n",
    "for label, probability in zip(model.classes_, probabilities):\n",
    "    probabilities_for_labels[label] = probability\n",
    "print(probabilities_for_labels)\n",
    "predicted_label_id = np.argmax(probabilities)"
   ]
  },
  {
   "cell_type": "markdown",
   "metadata": {},
   "source": [
    "Explain the instance"
   ]
  },
  {
   "cell_type": "code",
   "execution_count": 26,
   "metadata": {
    "pycharm": {
     "name": "#%%\n"
    }
   },
   "outputs": [
    {
     "name": "stderr",
     "output_type": "stream",
     "text": [
      "c:\\users\\kamil zych\\documents\\mgr\\lime\\venv\\lib\\site-packages\\ipykernel_launcher.py:10: UserWarning: Matplotlib is currently using module://ipykernel.pylab.backend_inline, which is a non-GUI backend, so cannot show the figure.\n",
      "  # Remove the CWD from sys.path while we load stuff.\n"
     ]
    },
    {
     "data": {
      "text/plain": "array([0., 0., 1.])"
     },
     "execution_count": 26,
     "metadata": {},
     "output_type": "execute_result"
    },
    {
     "data": {
      "text/plain": "<Figure size 576x288 with 1 Axes>",
      "image/png": "[encoded data removed]"
     },
     "metadata": {},
     "output_type": "display_data"
    }
   ],
   "source": [
    "explanation = explainer.explain_instance(\n",
    "    test_x.ravel(),\n",
    "    model.predict_proba,\n",
    "    num_features = 4,\n",
    "    top_labels = 3\n",
    ")\n",
    "fig = explanation.as_pyplot_figure(explanation.top_labels[0])\n",
    "fig.set_size_inches(8, 4)\n",
    "fig.savefig(\"default_explanation.png\", dpi=100,  bbox_inches='tight', pad_inches=0.2)\n",
    "fig.show()\n",
    "explanation.predict_proba   # probabilites from explained model"
   ]
  },
  {
   "cell_type": "code",
   "execution_count": 8,
   "outputs": [
    {
     "data": {
      "text/plain": "     sepal_length  sepal_width  petal_length  petal_width           label\n118           7.7          2.6           6.9          2.3  Iris-virginica",
      "text/html": "<div>\n<style scoped>\n    .dataframe tbody tr th:only-of-type {\n        vertical-align: middle;\n    }\n\n    .dataframe tbody tr th {\n        vertical-align: top;\n    }\n\n    .dataframe thead th {\n        text-align: right;\n    }\n</style>\n<table border=\"1\" class=\"dataframe\">\n  <thead>\n    <tr style=\"text-align: right;\">\n      <th></th>\n      <th>sepal_length</th>\n      <th>sepal_width</th>\n      <th>petal_length</th>\n      <th>petal_width</th>\n      <th>label</th>\n    </tr>\n  </thead>\n  <tbody>\n    <tr>\n      <th>118</th>\n      <td>7.7</td>\n      <td>2.6</td>\n      <td>6.9</td>\n      <td>2.3</td>\n      <td>Iris-virginica</td>\n    </tr>\n  </tbody>\n</table>\n</div>"
     },
     "execution_count": 8,
     "metadata": {},
     "output_type": "execute_result"
    }
   ],
   "source": [
    "est_data"
   ],
   "metadata": {
    "collapsed": false,
    "pycharm": {
     "name": "#%%\n"
    }
   }
  },
  {
   "cell_type": "code",
   "execution_count": 9,
   "outputs": [
    {
     "name": "stdout",
     "output_type": "stream",
     "text": [
      "[0.0, 0.0, 1.0]\n",
      "[-0.04541329785885795, 0.015423098299428895, 1.0299901995594292]\n",
      "[0.0, 0.014753112, 0.9852469]\n"
     ]
    }
   ],
   "source": [
    "print(explanation.get_prediction_for_explained_model())\n",
    "print(explanation.get_prediction_for_surrogate_model())\n",
    "print(explanation.get_prediction_for_surrogate_model(normalized=True))"
   ],
   "metadata": {
    "collapsed": false,
    "pycharm": {
     "name": "#%%\n"
    }
   }
  },
  {
   "cell_type": "code",
   "execution_count": 10,
   "outputs": [
    {
     "name": "stdout",
     "output_type": "stream",
     "text": [
      "MSE on training set: [0.08073213 0.05544361 0.02716655]\n",
      "MSE on cv-test  set: [0.08095571 0.0556049  0.02726196]\n",
      "std on cv-test  set: [0.00156512 0.00153567 0.00199042]\n"
     ]
    }
   ],
   "source": [
    "print(\"MSE on training set:\", np.array(explanation.get_losses_for_surrogate_model()))\n",
    "print(\"MSE on cv-test  set:\", np.mean(explanation.get_losses_for_cv_model(), axis=1))\n",
    "print(\"std on cv-test  set:\", np.std(explanation.get_losses_for_cv_model(), axis=1))"
   ],
   "metadata": {
    "collapsed": false,
    "pycharm": {
     "name": "#%%\n"
    }
   }
  },
  {
   "cell_type": "code",
   "execution_count": 11,
   "outputs": [
    {
     "data": {
      "text/plain": "array([[0.08223877, 0.08103081, 0.0804947 , 0.08274109, 0.07827318],\n       [0.05683143, 0.05498491, 0.05581861, 0.0573766 , 0.05301297],\n       [0.02848365, 0.03054967, 0.02642157, 0.02561478, 0.02524013]])"
     },
     "execution_count": 11,
     "metadata": {},
     "output_type": "execute_result"
    }
   ],
   "source": [
    "explanation.get_losses_for_cv_model(out=\"raw\")"
   ],
   "metadata": {
    "collapsed": false,
    "pycharm": {
     "name": "#%%\n"
    }
   }
  },
  {
   "cell_type": "code",
   "execution_count": 12,
   "outputs": [
    {
     "data": {
      "text/plain": "array([0.05583416, 0.05550861, 0.05423277, 0.05523092, 0.05214748])"
     },
     "execution_count": 12,
     "metadata": {},
     "output_type": "execute_result"
    }
   ],
   "source": [
    "explanation.get_fidelity_loss_on_kfold(\"raw\")"
   ],
   "metadata": {
    "collapsed": false,
    "pycharm": {
     "name": "#%%\n"
    }
   }
  },
  {
   "cell_type": "code",
   "execution_count": 13,
   "outputs": [
    {
     "data": {
      "text/plain": "[(2, 0.45207910561458103),\n (3, 0.43071147898613327),\n (1, 0.03820011716166032),\n (0, 0.034443407673970715)]"
     },
     "execution_count": 13,
     "metadata": {},
     "output_type": "execute_result"
    }
   ],
   "source": [
    "top_features = explanation.as_map()[explanation.top_labels[0]]\n",
    "top_features"
   ],
   "metadata": {
    "collapsed": false,
    "pycharm": {
     "name": "#%%\n"
    }
   }
  },
  {
   "cell_type": "code",
   "execution_count": 14,
   "outputs": [
    {
     "data": {
      "text/plain": "[(2, -0.2674392232708202),\n (3, -0.18226682264171581),\n (0, -0.016744632588719006),\n (1, -0.009563183285312526)]"
     },
     "execution_count": 14,
     "metadata": {},
     "output_type": "execute_result"
    }
   ],
   "source": [
    "second_top_features = explanation.as_map()[explanation.top_labels[1]]\n",
    "second_top_features"
   ],
   "metadata": {
    "collapsed": false,
    "pycharm": {
     "name": "#%%\n"
    }
   }
  },
  {
   "cell_type": "code",
   "execution_count": 15,
   "outputs": [
    {
     "data": {
      "text/plain": "{0: [(3, -0.24844465634441737),\n  (2, -0.18463988234376072),\n  (1, -0.028636933876347772),\n  (0, -0.01769877508525171)],\n 1: [(2, -0.2674392232708202),\n  (3, -0.18226682264171581),\n  (0, -0.016744632588719006),\n  (1, -0.009563183285312526)],\n 2: [(2, 0.45207910561458103),\n  (3, 0.43071147898613327),\n  (1, 0.03820011716166032),\n  (0, 0.034443407673970715)]}"
     },
     "execution_count": 15,
     "metadata": {},
     "output_type": "execute_result"
    }
   ],
   "source": [
    "explanation.as_map()"
   ],
   "metadata": {
    "collapsed": false,
    "pycharm": {
     "name": "#%%\n"
    }
   }
  },
  {
   "cell_type": "code",
   "execution_count": 16,
   "outputs": [
    {
     "data": {
      "text/plain": "{0: ['sepal_length <= 5.10',\n  '5.10 < sepal_length <= 5.80',\n  '5.80 < sepal_length <= 6.40',\n  'sepal_length > 6.40'],\n 1: ['sepal_width <= 2.80',\n  '2.80 < sepal_width <= 3.00',\n  '3.00 < sepal_width <= 3.30',\n  'sepal_width > 3.30'],\n 2: ['petal_length <= 1.60',\n  '1.60 < petal_length <= 4.30',\n  '4.30 < petal_length <= 5.10',\n  'petal_length > 5.10'],\n 3: ['petal_width <= 0.30',\n  '0.30 < petal_width <= 1.30',\n  '1.30 < petal_width <= 1.80',\n  'petal_width > 1.80']}"
     },
     "execution_count": 16,
     "metadata": {},
     "output_type": "execute_result"
    }
   ],
   "source": [
    "explainer.discretizer.names"
   ],
   "metadata": {
    "collapsed": false,
    "pycharm": {
     "name": "#%%\n"
    }
   }
  },
  {
   "cell_type": "code",
   "execution_count": 17,
   "outputs": [
    {
     "data": {
      "text/plain": "{0: [5.1, 5.8, 6.4, 7.9],\n 1: [2.8, 3.0, 3.3, 4.4],\n 2: [1.6, 4.3, 5.1, 6.7],\n 3: [0.3, 1.3, 1.8, 2.5]}"
     },
     "execution_count": 17,
     "metadata": {},
     "output_type": "execute_result"
    }
   ],
   "source": [
    "explainer.discretizer.maxs"
   ],
   "metadata": {
    "collapsed": false,
    "pycharm": {
     "name": "#%%\n"
    }
   }
  },
  {
   "cell_type": "markdown",
   "metadata": {},
   "source": [
    "Update some attributes to see if probabilities would change"
   ]
  },
  {
   "cell_type": "code",
   "execution_count": 18,
   "outputs": [
    {
     "data": {
      "text/plain": "[(2, 0.45207910561458103),\n (3, 0.43071147898613327),\n (1, 0.03820011716166032),\n (0, 0.034443407673970715)]"
     },
     "execution_count": 18,
     "metadata": {},
     "output_type": "execute_result"
    }
   ],
   "source": [
    "top_features = explanation.as_map()[predicted_label_id]\n",
    "top_features"
   ],
   "metadata": {
    "collapsed": false,
    "pycharm": {
     "name": "#%%\n"
    }
   }
  }
 ],
 "metadata": {
  "kernelspec": {
   "display_name": "Python 3",
   "language": "python",
   "name": "python3"
  },
  "language_info": {
   "codemirror_mode": {
    "name": "ipython",
    "version": 3
   },
   "file_extension": ".py",
   "mimetype": "text/x-python",
   "name": "python",
   "nbconvert_exporter": "python",
   "pygments_lexer": "ipython3",
   "version": "3.8.0"
  }
 },
 "nbformat": 4,
 "nbformat_minor": 1
}