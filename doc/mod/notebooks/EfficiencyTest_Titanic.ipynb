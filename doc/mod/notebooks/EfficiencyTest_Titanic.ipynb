{
 "cells": [
  {
   "cell_type": "code",
   "execution_count": 1,
   "metadata": {
    "pycharm": {
     "name": "#%%\n"
    }
   },
   "outputs": [],
   "source": [
    "import pandas as pd\n",
    "import numpy as np\n",
    "import sklearn.ensemble\n",
    "import sklearn.neural_network\n",
    "import sklearn.svm\n",
    "import sklearn.naive_bayes\n",
    "import sklearn.tree\n",
    "import lime.lime_tabular_mod\n",
    "import matplotlib.pyplot as plt\n",
    "import doc.mod.utils.DatasetRepository as dr\n",
    "from tqdm import tqdm\n",
    "\n",
    "import importlib\n",
    "importlib.reload(lime.lime_tabular_mod)\n",
    "repo = dr.DatasetRepository(\"../data\")\n",
    "\n",
    "\n",
    "pd.set_option(\"display.max_columns\", None)\n",
    "pd.set_option(\"mode.chained_assignment\", None)\n",
    "plt.style.use({\"figure.facecolor\": \"white\"})"
   ]
  },
  {
   "cell_type": "markdown",
   "metadata": {},
   "source": [
    "### Load dataset: Titanic"
   ]
  },
  {
   "cell_type": "code",
   "execution_count": 2,
   "metadata": {
    "pycharm": {
     "name": "#%%\n"
    }
   },
   "outputs": [
    {
     "data": {
      "text/html": [
       "<div>\n",
       "<style scoped>\n",
       "    .dataframe tbody tr th:only-of-type {\n",
       "        vertical-align: middle;\n",
       "    }\n",
       "\n",
       "    .dataframe tbody tr th {\n",
       "        vertical-align: top;\n",
       "    }\n",
       "\n",
       "    .dataframe thead th {\n",
       "        text-align: right;\n",
       "    }\n",
       "</style>\n",
       "<table border=\"1\" class=\"dataframe\">\n",
       "  <thead>\n",
       "    <tr style=\"text-align: right;\">\n",
       "      <th></th>\n",
       "      <th>Pclass</th>\n",
       "      <th>Sex</th>\n",
       "      <th>Age</th>\n",
       "      <th>SibSp</th>\n",
       "      <th>Parch</th>\n",
       "      <th>Fare</th>\n",
       "      <th>embarked_C</th>\n",
       "      <th>embarked_Q</th>\n",
       "      <th>embarked_S</th>\n",
       "      <th>embarked_unknown</th>\n",
       "      <th>cabin_level_A</th>\n",
       "      <th>cabin_level_B</th>\n",
       "      <th>cabin_level_C</th>\n",
       "      <th>cabin_level_D</th>\n",
       "      <th>cabin_level_E</th>\n",
       "      <th>cabin_level_F</th>\n",
       "      <th>cabin_level_G</th>\n",
       "      <th>cabin_level_T</th>\n",
       "      <th>cabin_level_unknown</th>\n",
       "    </tr>\n",
       "    <tr>\n",
       "      <th>PassengerId</th>\n",
       "      <th></th>\n",
       "      <th></th>\n",
       "      <th></th>\n",
       "      <th></th>\n",
       "      <th></th>\n",
       "      <th></th>\n",
       "      <th></th>\n",
       "      <th></th>\n",
       "      <th></th>\n",
       "      <th></th>\n",
       "      <th></th>\n",
       "      <th></th>\n",
       "      <th></th>\n",
       "      <th></th>\n",
       "      <th></th>\n",
       "      <th></th>\n",
       "      <th></th>\n",
       "      <th></th>\n",
       "      <th></th>\n",
       "    </tr>\n",
       "  </thead>\n",
       "  <tbody>\n",
       "    <tr>\n",
       "      <th>619</th>\n",
       "      <td>2</td>\n",
       "      <td>0</td>\n",
       "      <td>4.000000</td>\n",
       "      <td>2</td>\n",
       "      <td>1</td>\n",
       "      <td>39.0000</td>\n",
       "      <td>0</td>\n",
       "      <td>0</td>\n",
       "      <td>1</td>\n",
       "      <td>0</td>\n",
       "      <td>0</td>\n",
       "      <td>0</td>\n",
       "      <td>0</td>\n",
       "      <td>0</td>\n",
       "      <td>0</td>\n",
       "      <td>1</td>\n",
       "      <td>0</td>\n",
       "      <td>0</td>\n",
       "      <td>0</td>\n",
       "    </tr>\n",
       "    <tr>\n",
       "      <th>61</th>\n",
       "      <td>3</td>\n",
       "      <td>1</td>\n",
       "      <td>22.000000</td>\n",
       "      <td>0</td>\n",
       "      <td>0</td>\n",
       "      <td>7.2292</td>\n",
       "      <td>1</td>\n",
       "      <td>0</td>\n",
       "      <td>0</td>\n",
       "      <td>0</td>\n",
       "      <td>0</td>\n",
       "      <td>0</td>\n",
       "      <td>0</td>\n",
       "      <td>0</td>\n",
       "      <td>0</td>\n",
       "      <td>0</td>\n",
       "      <td>0</td>\n",
       "      <td>0</td>\n",
       "      <td>1</td>\n",
       "    </tr>\n",
       "    <tr>\n",
       "      <th>428</th>\n",
       "      <td>2</td>\n",
       "      <td>0</td>\n",
       "      <td>19.000000</td>\n",
       "      <td>0</td>\n",
       "      <td>0</td>\n",
       "      <td>26.0000</td>\n",
       "      <td>0</td>\n",
       "      <td>0</td>\n",
       "      <td>1</td>\n",
       "      <td>0</td>\n",
       "      <td>0</td>\n",
       "      <td>0</td>\n",
       "      <td>0</td>\n",
       "      <td>0</td>\n",
       "      <td>0</td>\n",
       "      <td>0</td>\n",
       "      <td>0</td>\n",
       "      <td>0</td>\n",
       "      <td>1</td>\n",
       "    </tr>\n",
       "    <tr>\n",
       "      <th>762</th>\n",
       "      <td>3</td>\n",
       "      <td>1</td>\n",
       "      <td>41.000000</td>\n",
       "      <td>0</td>\n",
       "      <td>0</td>\n",
       "      <td>7.1250</td>\n",
       "      <td>0</td>\n",
       "      <td>0</td>\n",
       "      <td>1</td>\n",
       "      <td>0</td>\n",
       "      <td>0</td>\n",
       "      <td>0</td>\n",
       "      <td>0</td>\n",
       "      <td>0</td>\n",
       "      <td>0</td>\n",
       "      <td>0</td>\n",
       "      <td>0</td>\n",
       "      <td>0</td>\n",
       "      <td>1</td>\n",
       "    </tr>\n",
       "    <tr>\n",
       "      <th>116</th>\n",
       "      <td>3</td>\n",
       "      <td>1</td>\n",
       "      <td>21.000000</td>\n",
       "      <td>0</td>\n",
       "      <td>0</td>\n",
       "      <td>7.9250</td>\n",
       "      <td>0</td>\n",
       "      <td>0</td>\n",
       "      <td>1</td>\n",
       "      <td>0</td>\n",
       "      <td>0</td>\n",
       "      <td>0</td>\n",
       "      <td>0</td>\n",
       "      <td>0</td>\n",
       "      <td>0</td>\n",
       "      <td>0</td>\n",
       "      <td>0</td>\n",
       "      <td>0</td>\n",
       "      <td>1</td>\n",
       "    </tr>\n",
       "    <tr>\n",
       "      <th>...</th>\n",
       "      <td>...</td>\n",
       "      <td>...</td>\n",
       "      <td>...</td>\n",
       "      <td>...</td>\n",
       "      <td>...</td>\n",
       "      <td>...</td>\n",
       "      <td>...</td>\n",
       "      <td>...</td>\n",
       "      <td>...</td>\n",
       "      <td>...</td>\n",
       "      <td>...</td>\n",
       "      <td>...</td>\n",
       "      <td>...</td>\n",
       "      <td>...</td>\n",
       "      <td>...</td>\n",
       "      <td>...</td>\n",
       "      <td>...</td>\n",
       "      <td>...</td>\n",
       "      <td>...</td>\n",
       "    </tr>\n",
       "    <tr>\n",
       "      <th>351</th>\n",
       "      <td>3</td>\n",
       "      <td>1</td>\n",
       "      <td>23.000000</td>\n",
       "      <td>0</td>\n",
       "      <td>0</td>\n",
       "      <td>9.2250</td>\n",
       "      <td>0</td>\n",
       "      <td>0</td>\n",
       "      <td>1</td>\n",
       "      <td>0</td>\n",
       "      <td>0</td>\n",
       "      <td>0</td>\n",
       "      <td>0</td>\n",
       "      <td>0</td>\n",
       "      <td>0</td>\n",
       "      <td>0</td>\n",
       "      <td>0</td>\n",
       "      <td>0</td>\n",
       "      <td>1</td>\n",
       "    </tr>\n",
       "    <tr>\n",
       "      <th>169</th>\n",
       "      <td>1</td>\n",
       "      <td>1</td>\n",
       "      <td>29.699118</td>\n",
       "      <td>0</td>\n",
       "      <td>0</td>\n",
       "      <td>25.9250</td>\n",
       "      <td>0</td>\n",
       "      <td>0</td>\n",
       "      <td>1</td>\n",
       "      <td>0</td>\n",
       "      <td>0</td>\n",
       "      <td>0</td>\n",
       "      <td>0</td>\n",
       "      <td>0</td>\n",
       "      <td>0</td>\n",
       "      <td>0</td>\n",
       "      <td>0</td>\n",
       "      <td>0</td>\n",
       "      <td>1</td>\n",
       "    </tr>\n",
       "    <tr>\n",
       "      <th>786</th>\n",
       "      <td>3</td>\n",
       "      <td>1</td>\n",
       "      <td>25.000000</td>\n",
       "      <td>0</td>\n",
       "      <td>0</td>\n",
       "      <td>7.2500</td>\n",
       "      <td>0</td>\n",
       "      <td>0</td>\n",
       "      <td>1</td>\n",
       "      <td>0</td>\n",
       "      <td>0</td>\n",
       "      <td>0</td>\n",
       "      <td>0</td>\n",
       "      <td>0</td>\n",
       "      <td>0</td>\n",
       "      <td>0</td>\n",
       "      <td>0</td>\n",
       "      <td>0</td>\n",
       "      <td>1</td>\n",
       "    </tr>\n",
       "    <tr>\n",
       "      <th>690</th>\n",
       "      <td>1</td>\n",
       "      <td>0</td>\n",
       "      <td>15.000000</td>\n",
       "      <td>0</td>\n",
       "      <td>1</td>\n",
       "      <td>211.3375</td>\n",
       "      <td>0</td>\n",
       "      <td>0</td>\n",
       "      <td>1</td>\n",
       "      <td>0</td>\n",
       "      <td>0</td>\n",
       "      <td>1</td>\n",
       "      <td>0</td>\n",
       "      <td>0</td>\n",
       "      <td>0</td>\n",
       "      <td>0</td>\n",
       "      <td>0</td>\n",
       "      <td>0</td>\n",
       "      <td>0</td>\n",
       "    </tr>\n",
       "    <tr>\n",
       "      <th>385</th>\n",
       "      <td>3</td>\n",
       "      <td>1</td>\n",
       "      <td>29.699118</td>\n",
       "      <td>0</td>\n",
       "      <td>0</td>\n",
       "      <td>7.8958</td>\n",
       "      <td>0</td>\n",
       "      <td>0</td>\n",
       "      <td>1</td>\n",
       "      <td>0</td>\n",
       "      <td>0</td>\n",
       "      <td>0</td>\n",
       "      <td>0</td>\n",
       "      <td>0</td>\n",
       "      <td>0</td>\n",
       "      <td>0</td>\n",
       "      <td>0</td>\n",
       "      <td>0</td>\n",
       "      <td>1</td>\n",
       "    </tr>\n",
       "  </tbody>\n",
       "</table>\n",
       "<p>801 rows × 19 columns</p>\n",
       "</div>"
      ],
      "text/plain": [
       "             Pclass  Sex        Age  SibSp  Parch      Fare  embarked_C  \\\n",
       "PassengerId                                                               \n",
       "619               2    0   4.000000      2      1   39.0000           0   \n",
       "61                3    1  22.000000      0      0    7.2292           1   \n",
       "428               2    0  19.000000      0      0   26.0000           0   \n",
       "762               3    1  41.000000      0      0    7.1250           0   \n",
       "116               3    1  21.000000      0      0    7.9250           0   \n",
       "...             ...  ...        ...    ...    ...       ...         ...   \n",
       "351               3    1  23.000000      0      0    9.2250           0   \n",
       "169               1    1  29.699118      0      0   25.9250           0   \n",
       "786               3    1  25.000000      0      0    7.2500           0   \n",
       "690               1    0  15.000000      0      1  211.3375           0   \n",
       "385               3    1  29.699118      0      0    7.8958           0   \n",
       "\n",
       "             embarked_Q  embarked_S  embarked_unknown  cabin_level_A  \\\n",
       "PassengerId                                                            \n",
       "619                   0           1                 0              0   \n",
       "61                    0           0                 0              0   \n",
       "428                   0           1                 0              0   \n",
       "762                   0           1                 0              0   \n",
       "116                   0           1                 0              0   \n",
       "...                 ...         ...               ...            ...   \n",
       "351                   0           1                 0              0   \n",
       "169                   0           1                 0              0   \n",
       "786                   0           1                 0              0   \n",
       "690                   0           1                 0              0   \n",
       "385                   0           1                 0              0   \n",
       "\n",
       "             cabin_level_B  cabin_level_C  cabin_level_D  cabin_level_E  \\\n",
       "PassengerId                                                               \n",
       "619                      0              0              0              0   \n",
       "61                       0              0              0              0   \n",
       "428                      0              0              0              0   \n",
       "762                      0              0              0              0   \n",
       "116                      0              0              0              0   \n",
       "...                    ...            ...            ...            ...   \n",
       "351                      0              0              0              0   \n",
       "169                      0              0              0              0   \n",
       "786                      0              0              0              0   \n",
       "690                      1              0              0              0   \n",
       "385                      0              0              0              0   \n",
       "\n",
       "             cabin_level_F  cabin_level_G  cabin_level_T  cabin_level_unknown  \n",
       "PassengerId                                                                    \n",
       "619                      1              0              0                    0  \n",
       "61                       0              0              0                    1  \n",
       "428                      0              0              0                    1  \n",
       "762                      0              0              0                    1  \n",
       "116                      0              0              0                    1  \n",
       "...                    ...            ...            ...                  ...  \n",
       "351                      0              0              0                    1  \n",
       "169                      0              0              0                    1  \n",
       "786                      0              0              0                    1  \n",
       "690                      0              0              0                    0  \n",
       "385                      0              0              0                    1  \n",
       "\n",
       "[801 rows x 19 columns]"
      ]
     },
     "execution_count": 2,
     "metadata": {},
     "output_type": "execute_result"
    }
   ],
   "source": [
    "dataset = repo.get_titanic_dataset()\n",
    "dataset.train_data"
   ]
  },
  {
   "cell_type": "markdown",
   "metadata": {},
   "source": [
    "## Check performance of different classifiers on selected dataset (with their default settings)"
   ]
  },
  {
   "cell_type": "code",
   "execution_count": 3,
   "metadata": {
    "pycharm": {
     "name": "#%%\n"
    }
   },
   "outputs": [
    {
     "name": "stderr",
     "output_type": "stream",
     "text": [
      "c:\\users\\kamil zych\\documents\\mgr\\lime\\venv\\lib\\site-packages\\sklearn\\svm\\_base.py:977: ConvergenceWarning: Liblinear failed to converge, increase the number of iterations.\n",
      "  \"the number of iterations.\", ConvergenceWarning)\n"
     ]
    }
   ],
   "source": [
    "models = [\n",
    "    (\"Random Forest\", sklearn.ensemble.RandomForestClassifier(n_jobs=-1)),\n",
    "    (\"AdaBoost\", sklearn.ensemble.AdaBoostClassifier()),\n",
    "    (\"DecisionTree\", sklearn.tree.DecisionTreeClassifier()),\n",
    "    (\"Neural Network\", sklearn.neural_network.MLPClassifier()),\n",
    "    (\"SVM\", sklearn.svm.LinearSVC()),\n",
    "    (\"Naive Bayes\", sklearn.naive_bayes.GaussianNB()),\n",
    "    (\"kNN\", sklearn.neighbors.KNeighborsClassifier())\n",
    "]\n",
    "precision_for_classifier = {}\n",
    "recall_for_classifier = {}\n",
    "f1_for_classifier = {}\n",
    "for (classifier_name, model) in models:\n",
    "    x = dataset.train_data.to_numpy()\n",
    "    y = dataset.train_labels.to_numpy()\n",
    "    model.fit(x, y)\n",
    "\n",
    "    x = dataset.test_data.to_numpy()\n",
    "    y_true = dataset.test_labels.to_numpy()\n",
    "    y_predicted = model.predict(x)\n",
    "\n",
    "    precision_for_classifier[classifier_name] = sklearn.metrics.precision_score(y_true=y_true, y_pred=y_predicted, average=\"macro\")\n",
    "    recall_for_classifier[classifier_name] = sklearn.metrics.recall_score(y_true=y_true, y_pred=y_predicted, average=\"macro\")\n",
    "    f1_for_classifier[classifier_name] = sklearn.metrics.f1_score(y_true=y_true, y_pred=y_predicted, average=\"macro\")"
   ]
  },
  {
   "cell_type": "code",
   "execution_count": 4,
   "metadata": {
    "pycharm": {
     "name": "#%%\n"
    }
   },
   "outputs": [
    {
     "data": {
      "image/png": "[encoded data removed]",
      "text/plain": [
       "<Figure size 1008x288 with 1 Axes>"
      ]
     },
     "metadata": {},
     "output_type": "display_data"
    }
   ],
   "source": [
    "plt.figure(figsize=(14,4))\n",
    "plt.bar(f1_for_classifier.keys(), f1_for_classifier.values(), width=0.5)\n",
    "plt.title(\"f1_score\")\n",
    "plt.grid(axis=\"y\")\n",
    "plt.show()"
   ]
  },
  {
   "cell_type": "markdown",
   "metadata": {
    "pycharm": {
     "name": "#%% md\n"
    }
   },
   "source": [
    "## Use LIME to explain prediction\n",
    "### Create explainer object\n",
    "At first create explainer object that makes use of training data.\n",
    "It may be used by discretizer inner object and enhance local surrogate's performance."
   ]
  },
  {
   "cell_type": "code",
   "execution_count": 5,
   "metadata": {
    "pycharm": {
     "name": "#%%\n"
    }
   },
   "outputs": [],
   "source": [
    "explainer = lime.lime_tabular_mod.LimeTabularExplainerMod(\n",
    "    dataset.train_data.to_numpy(),\n",
    "    feature_names = dataset.train_data.columns.to_list(),\n",
    "    class_names = dataset.train_labels.drop_duplicates().to_list(),\n",
    "    discretize_continuous=False,\n",
    "    sample_around_instance=True,\n",
    "    categorical_features=dataset.categorical_features\n",
    ")"
   ]
  },
  {
   "cell_type": "code",
   "execution_count": 6,
   "metadata": {
    "pycharm": {
     "name": "#%%\n"
    }
   },
   "outputs": [
    {
     "name": "stderr",
     "output_type": "stream",
     "text": [
      "100%|██████████| 90/90 [00:24<00:00,  3.62it/s]\n"
     ]
    }
   ],
   "source": [
    "test_data_subset = dataset.test_data.to_numpy()\n",
    "\n",
    "labels_count = 2\n",
    "quantiles_count = 30\n",
    "test_instances_count = test_data_subset.shape[0]\n",
    "\n",
    "scores_for_surrogate_model = np.empty(shape=(test_instances_count, labels_count), dtype=\"float32\")\n",
    "losses_for_surrogate_model = np.empty(shape=(test_instances_count, labels_count), dtype=\"float32\")\n",
    "fidelity_loss_on_explanation = np.empty(shape=(test_instances_count,), dtype=\"float32\")\n",
    "fidelity_loss_on_generated_data = np.empty(shape=(test_instances_count,), dtype=\"float32\")\n",
    "fidelity_loss_distribution_quantiles = np.empty(shape=(test_instances_count, quantiles_count), dtype=\"float32\")\n",
    "\n",
    "for idx, test_instance in enumerate(tqdm(test_data_subset)):\n",
    "    explanation = explainer.explain_instance(\n",
    "        test_instance.reshape(-1),\n",
    "        model.predict_proba,\n",
    "        num_features = 4,\n",
    "        top_labels = labels_count,\n",
    "        distance_metric=\"minkowski\",\n",
    "        minkowski_norm=100.\n",
    "    )\n",
    "    scores_for_surrogate_model[idx, :] = explanation.get_scores_for_surrogate_model()\n",
    "    losses_for_surrogate_model[idx, :] = explanation.get_losses_for_surrogate_model()\n",
    "    fidelity_loss_on_explanation[idx] = explanation.get_fidelity_loss_on_explanation()\n",
    "    fidelity_loss_on_generated_data[idx] = explanation.get_fidelity_loss_on_generated_data()\n",
    "    fidelity_loss_distribution_quantiles[idx, :] = explanation.get_fidelity_loss_distribution(quantiles=quantiles_count)"
   ]
  },
  {
   "cell_type": "code",
   "execution_count": 7,
   "metadata": {
    "pycharm": {
     "name": "#%%\n"
    }
   },
   "outputs": [
    {
     "name": "stdout",
     "output_type": "stream",
     "text": [
      "label #0 mean score: 0.5315560102462769\n",
      "label #1 mean score: 0.5315560102462769\n"
     ]
    },
    {
     "data": {
      "image/png": "[encoded data removed]",
      "text/plain": [
       "<Figure size 432x288 with 1 Axes>"
      ]
     },
     "metadata": {},
     "output_type": "display_data"
    },
    {
     "data": {
      "image/png": "[encoded data removed]",
      "text/plain": [
       "<Figure size 432x288 with 1 Axes>"
      ]
     },
     "metadata": {},
     "output_type": "display_data"
    }
   ],
   "source": [
    "for idx in range(labels_count):\n",
    "    mean_score = np.mean(scores_for_surrogate_model[:, idx])\n",
    "    print(f\"label #{idx} mean score: {mean_score}\", flush=True)\n",
    "    plt.hist(scores_for_surrogate_model[:, idx], bins=30)\n",
    "    plt.axvline(mean_score, color=\"red\", linestyle=\"--\")\n",
    "    plt.title(f\"Histogram for label #{idx} scores\")\n",
    "    plt.show()"
   ]
  },
  {
   "cell_type": "code",
   "execution_count": 8,
   "metadata": {
    "pycharm": {
     "name": "#%%\n"
    }
   },
   "outputs": [
    {
     "name": "stdout",
     "output_type": "stream",
     "text": [
      "label #0 mean loss: 0.04568145051598549\n",
      "label #1 mean loss: 0.04568145051598549\n"
     ]
    },
    {
     "data": {
      "image/png": "[encoded data removed]",
      "text/plain": [
       "<Figure size 432x288 with 1 Axes>"
      ]
     },
     "metadata": {},
     "output_type": "display_data"
    },
    {
     "data": {
      "image/png": "[encoded data removed]",
      "text/plain": [
       "<Figure size 432x288 with 1 Axes>"
      ]
     },
     "metadata": {},
     "output_type": "display_data"
    }
   ],
   "source": [
    "for idx in range(labels_count):\n",
    "    mean_loss = np.mean(losses_for_surrogate_model[:, idx])\n",
    "    print(f\"label #{idx} mean loss: {mean_loss}\")\n",
    "    plt.hist(losses_for_surrogate_model[:, idx], bins=30)\n",
    "    plt.axvline(mean_loss, color=\"red\", linestyle=\"--\")\n",
    "    plt.title(f\"Histogram for label #{idx} losses\")\n",
    "    plt.show()"
   ]
  },
  {
   "cell_type": "code",
   "execution_count": 9,
   "metadata": {
    "pycharm": {
     "name": "#%%\n"
    }
   },
   "outputs": [
    {
     "name": "stdout",
     "output_type": "stream",
     "text": [
      "Mean fidelity loss on explanation: 0.0850430577993393\n"
     ]
    },
    {
     "data": {
      "image/png": "[encoded data removed]",
      "text/plain": [
       "<Figure size 432x288 with 1 Axes>"
      ]
     },
     "metadata": {},
     "output_type": "display_data"
    }
   ],
   "source": [
    "mean_fidelity_loss_on_explanation = np.mean(fidelity_loss_on_explanation)\n",
    "print(f\"Mean fidelity loss on explanation: {mean_fidelity_loss_on_explanation}\")\n",
    "plt.hist(fidelity_loss_on_explanation, bins=30)\n",
    "plt.axvline(mean_fidelity_loss_on_explanation, color=\"red\", linestyle=\"--\")\n",
    "plt.title(f\"Histogram for fidelity losses on explanation\")\n",
    "plt.show()"
   ]
  },
  {
   "cell_type": "code",
   "execution_count": 10,
   "metadata": {
    "pycharm": {
     "name": "#%%\n"
    }
   },
   "outputs": [
    {
     "name": "stdout",
     "output_type": "stream",
     "text": [
      "Mean fidelity loss on generated data: 0.06814491748809814\n"
     ]
    },
    {
     "data": {
      "image/png": "[encoded data removed]",
      "text/plain": [
       "<Figure size 432x288 with 1 Axes>"
      ]
     },
     "metadata": {},
     "output_type": "display_data"
    }
   ],
   "source": [
    "mean_fidelity_loss_on_generated_data = np.mean(fidelity_loss_on_generated_data)\n",
    "print(f\"Mean fidelity loss on generated data: {mean_fidelity_loss_on_generated_data}\")\n",
    "plt.hist(fidelity_loss_on_generated_data, bins=30)\n",
    "plt.axvline(mean_fidelity_loss_on_generated_data, color=\"red\", linestyle=\"--\")\n",
    "plt.title(f\"Histogram for fidelity losses on generated data\")\n",
    "plt.show()"
   ]
  },
  {
   "cell_type": "code",
   "execution_count": 11,
   "metadata": {
    "pycharm": {
     "name": "#%%\n"
    }
   },
   "outputs": [
    {
     "data": {
      "image/png": "[encoded data removed]",
      "text/plain": [
       "<Figure size 432x288 with 1 Axes>"
      ]
     },
     "metadata": {},
     "output_type": "display_data"
    }
   ],
   "source": [
    "plt.plot(np.mean(fidelity_loss_distribution_quantiles, axis=0))\n",
    "plt.ylabel(f\"Fidelity loss of samples\")\n",
    "plt.xlabel(f\"Quantiles of samples' distance\")\n",
    "plt.title(f\"Mean distribution of fidelity loss on quantified distance\")\n",
    "plt.show()"
   ]
  },
  {
   "cell_type": "code",
   "execution_count": 11,
   "metadata": {
    "pycharm": {
     "name": "#%%\n"
    }
   },
   "outputs": [],
   "source": []
  }
 ],
 "metadata": {
  "kernelspec": {
   "display_name": "Python 3",
   "language": "python",
   "name": "python3"
  },
  "language_info": {
   "codemirror_mode": {
    "name": "ipython",
    "version": 3
   },
   "file_extension": ".py",
   "mimetype": "text/x-python",
   "name": "python",
   "nbconvert_exporter": "python",
   "pygments_lexer": "ipython3",
   "version": "3.7.2"
  }
 },
 "nbformat": 4,
 "nbformat_minor": 1
}