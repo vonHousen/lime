{
 "cells": [
  {
   "cell_type": "code",
   "execution_count": 1,
   "metadata": {},
   "outputs": [],
   "source": [
    "import pandas as pd\n",
    "import numpy as np\n",
    "import sklearn.ensemble\n",
    "# import lime.lime_tabular as lime_tab\n",
    "# import lime.lime_tabular_mod as lime_tab\n",
    "import lime.lime_tabular_multiregressor as lime_tab\n",
    "\n",
    "import matplotlib.pyplot as plt\n",
    "import random\n",
    "\n",
    "import importlib\n",
    "importlib.reload(lime_tab)\n",
    "\n",
    "pd.set_option(\"display.max_columns\", None)\n",
    "pd.set_option(\"mode.chained_assignment\", None)\n",
    "plt.style.use({\"figure.facecolor\": \"white\"})"
   ]
  },
  {
   "cell_type": "markdown",
   "metadata": {
    "pycharm": {
     "name": "#%% md\n"
    }
   },
   "source": [
    "### Load iris dataset"
   ]
  },
  {
   "cell_type": "code",
   "execution_count": 2,
   "metadata": {
    "pycharm": {
     "name": "#%%\n"
    }
   },
   "outputs": [
    {
     "data": {
      "text/plain": "     sepal_length  sepal_width  petal_length  petal_width            label\n101           5.8          2.7           5.1          1.9   Iris-virginica\n32            5.2          4.1           1.5          0.1      Iris-setosa\n23            5.1          3.3           1.7          0.5      Iris-setosa\n1             4.9          3.0           1.4          0.2      Iris-setosa\n91            6.1          3.0           4.6          1.4  Iris-versicolor\n..            ...          ...           ...          ...              ...\n76            6.8          2.8           4.8          1.4  Iris-versicolor\n41            4.5          2.3           1.3          0.3      Iris-setosa\n130           7.4          2.8           6.1          1.9   Iris-virginica\n8             4.4          2.9           1.4          0.2      Iris-setosa\n74            6.4          2.9           4.3          1.3  Iris-versicolor\n\n[150 rows x 5 columns]",
      "text/html": "<div>\n<style scoped>\n    .dataframe tbody tr th:only-of-type {\n        vertical-align: middle;\n    }\n\n    .dataframe tbody tr th {\n        vertical-align: top;\n    }\n\n    .dataframe thead th {\n        text-align: right;\n    }\n</style>\n<table border=\"1\" class=\"dataframe\">\n  <thead>\n    <tr style=\"text-align: right;\">\n      <th></th>\n      <th>sepal_length</th>\n      <th>sepal_width</th>\n      <th>petal_length</th>\n      <th>petal_width</th>\n      <th>label</th>\n    </tr>\n  </thead>\n  <tbody>\n    <tr>\n      <th>101</th>\n      <td>5.8</td>\n      <td>2.7</td>\n      <td>5.1</td>\n      <td>1.9</td>\n      <td>Iris-virginica</td>\n    </tr>\n    <tr>\n      <th>32</th>\n      <td>5.2</td>\n      <td>4.1</td>\n      <td>1.5</td>\n      <td>0.1</td>\n      <td>Iris-setosa</td>\n    </tr>\n    <tr>\n      <th>23</th>\n      <td>5.1</td>\n      <td>3.3</td>\n      <td>1.7</td>\n      <td>0.5</td>\n      <td>Iris-setosa</td>\n    </tr>\n    <tr>\n      <th>1</th>\n      <td>4.9</td>\n      <td>3.0</td>\n      <td>1.4</td>\n      <td>0.2</td>\n      <td>Iris-setosa</td>\n    </tr>\n    <tr>\n      <th>91</th>\n      <td>6.1</td>\n      <td>3.0</td>\n      <td>4.6</td>\n      <td>1.4</td>\n      <td>Iris-versicolor</td>\n    </tr>\n    <tr>\n      <th>...</th>\n      <td>...</td>\n      <td>...</td>\n      <td>...</td>\n      <td>...</td>\n      <td>...</td>\n    </tr>\n    <tr>\n      <th>76</th>\n      <td>6.8</td>\n      <td>2.8</td>\n      <td>4.8</td>\n      <td>1.4</td>\n      <td>Iris-versicolor</td>\n    </tr>\n    <tr>\n      <th>41</th>\n      <td>4.5</td>\n      <td>2.3</td>\n      <td>1.3</td>\n      <td>0.3</td>\n      <td>Iris-setosa</td>\n    </tr>\n    <tr>\n      <th>130</th>\n      <td>7.4</td>\n      <td>2.8</td>\n      <td>6.1</td>\n      <td>1.9</td>\n      <td>Iris-virginica</td>\n    </tr>\n    <tr>\n      <th>8</th>\n      <td>4.4</td>\n      <td>2.9</td>\n      <td>1.4</td>\n      <td>0.2</td>\n      <td>Iris-setosa</td>\n    </tr>\n    <tr>\n      <th>74</th>\n      <td>6.4</td>\n      <td>2.9</td>\n      <td>4.3</td>\n      <td>1.3</td>\n      <td>Iris-versicolor</td>\n    </tr>\n  </tbody>\n</table>\n<p>150 rows × 5 columns</p>\n</div>"
     },
     "execution_count": 2,
     "metadata": {},
     "output_type": "execute_result"
    }
   ],
   "source": [
    "iris_dataset = pd.read_csv(\n",
    "    \"../data/iris-classification/iris.data\",\n",
    "    names=[\n",
    "        \"sepal_length\",\n",
    "        \"sepal_width\",\n",
    "        \"petal_length\",\n",
    "        \"petal_width\",\n",
    "        \"label\"\n",
    "    ]).sample(frac=1)\n",
    "iris_dataset"
   ]
  },
  {
   "cell_type": "markdown",
   "metadata": {
    "pycharm": {
     "name": "#%% md\n"
    }
   },
   "source": [
    "### Prepare dataset "
   ]
  },
  {
   "cell_type": "code",
   "execution_count": 3,
   "metadata": {
    "pycharm": {
     "name": "#%%\n"
    }
   },
   "outputs": [
    {
     "name": "stdout",
     "output_type": "stream",
     "text": [
      "Attributes: ['sepal_length', 'sepal_width', 'petal_length', 'petal_width']\n"
     ]
    }
   ],
   "source": [
    "labels_column_name = \"label\"\n",
    "# jackknife_idx = random.choice(iris_dataset.index.to_numpy())\n",
    "jackknife_idx = 118\n",
    "train_data = iris_dataset.loc[iris_dataset.index != jackknife_idx]\n",
    "train_x = train_data.drop(columns=labels_column_name).to_numpy()\n",
    "train_y = train_data[labels_column_name].to_numpy()\n",
    "test_data = iris_dataset.loc[iris_dataset.index == jackknife_idx]\n",
    "test_x = test_data.drop(columns=labels_column_name).to_numpy()\n",
    "test_y = test_data[labels_column_name].to_numpy()\n",
    "\n",
    "attributes = iris_dataset.columns.tolist()\n",
    "attributes.remove(labels_column_name)\n",
    "print(f\"Attributes: {attributes}\")"
   ]
  },
  {
   "cell_type": "code",
   "execution_count": 4,
   "metadata": {
    "pycharm": {
     "name": "#%%\n"
    }
   },
   "outputs": [
    {
     "name": "stdout",
     "output_type": "stream",
     "text": [
      "Predicted: ['Iris-virginica']. It's accuracy: 1.0\n"
     ]
    }
   ],
   "source": [
    "model = sklearn.ensemble.RandomForestClassifier()\n",
    "model.fit(train_x, train_y)\n",
    "\n",
    "result = model.predict(test_x)\n",
    "accuracy = sklearn.metrics.accuracy_score(test_y, result)\n",
    "print(f\"Predicted: {result}. It's accuracy: {accuracy}\")"
   ]
  },
  {
   "cell_type": "markdown",
   "metadata": {
    "pycharm": {
     "name": "#%% md\n"
    }
   },
   "source": [
    "### Use LIME to explain local prediction"
   ]
  },
  {
   "cell_type": "code",
   "execution_count": 5,
   "metadata": {
    "pycharm": {
     "name": "#%%\n"
    }
   },
   "outputs": [],
   "source": [
    "explainer = lime_tab.LTEMultiRegressionTree(\n",
    "    train_x,\n",
    "    feature_names = attributes,\n",
    "    class_names = model.classes_\n",
    ")"
   ]
  },
  {
   "cell_type": "markdown",
   "metadata": {},
   "source": [
    "Show probabilities for random instance (given by random forest on test dataset)"
   ]
  },
  {
   "cell_type": "code",
   "execution_count": 6,
   "metadata": {
    "pycharm": {
     "name": "#%%\n"
    }
   },
   "outputs": [
    {
     "name": "stdout",
     "output_type": "stream",
     "text": [
      "{'Iris-setosa': 0.0, 'Iris-versicolor': 0.0, 'Iris-virginica': 1.0}\n"
     ]
    }
   ],
   "source": [
    "probabilities = model.predict_proba(test_x)[0,:]\n",
    "probabilities_for_labels = {}\n",
    "for label, probability in zip(model.classes_, probabilities):\n",
    "    probabilities_for_labels[label] = probability\n",
    "print(probabilities_for_labels)\n",
    "predicted_label_id = np.argmax(probabilities)"
   ]
  },
  {
   "cell_type": "markdown",
   "metadata": {},
   "source": [
    "Explain the instance"
   ]
  },
  {
   "cell_type": "code",
   "execution_count": 7,
   "metadata": {
    "pycharm": {
     "name": "#%%\n"
    }
   },
   "outputs": [
    {
     "data": {
      "text/plain": "array([0., 0., 1.])"
     },
     "execution_count": 7,
     "metadata": {},
     "output_type": "execute_result"
    },
    {
     "data": {
      "text/plain": "<Figure size 432x288 with 1 Axes>",
      "image/png": "[encoded data removed]"
     },
     "metadata": {},
     "output_type": "display_data"
    }
   ],
   "source": [
    "explanation = explainer.explain_instance(\n",
    "    test_x.ravel(),\n",
    "    model.predict_proba,\n",
    "    num_features = 4,\n",
    "    top_labels = 3\n",
    ")\n",
    "explanation.as_pyplot_figure(explanation.top_labels[0])\n",
    "explanation.predict_proba   # probabilites from explained model"
   ]
  },
  {
   "cell_type": "code",
   "execution_count": 8,
   "outputs": [
    {
     "data": {
      "text/plain": "     sepal_length  sepal_width  petal_length  petal_width           label\n118           7.7          2.6           6.9          2.3  Iris-virginica",
      "text/html": "<div>\n<style scoped>\n    .dataframe tbody tr th:only-of-type {\n        vertical-align: middle;\n    }\n\n    .dataframe tbody tr th {\n        vertical-align: top;\n    }\n\n    .dataframe thead th {\n        text-align: right;\n    }\n</style>\n<table border=\"1\" class=\"dataframe\">\n  <thead>\n    <tr style=\"text-align: right;\">\n      <th></th>\n      <th>sepal_length</th>\n      <th>sepal_width</th>\n      <th>petal_length</th>\n      <th>petal_width</th>\n      <th>label</th>\n    </tr>\n  </thead>\n  <tbody>\n    <tr>\n      <th>118</th>\n      <td>7.7</td>\n      <td>2.6</td>\n      <td>6.9</td>\n      <td>2.3</td>\n      <td>Iris-virginica</td>\n    </tr>\n  </tbody>\n</table>\n</div>"
     },
     "execution_count": 8,
     "metadata": {},
     "output_type": "execute_result"
    }
   ],
   "source": [
    "test_data"
   ],
   "metadata": {
    "collapsed": false,
    "pycharm": {
     "name": "#%%\n"
    }
   }
  },
  {
   "cell_type": "code",
   "execution_count": 9,
   "outputs": [
    {
     "name": "stdout",
     "output_type": "stream",
     "text": [
      "[0.0, 0.0, 1.0]\n",
      "[0.0, 0.0, 1.0]\n",
      "[0.21194155761708544, 0.21194155761708544, 0.5761168847658291]\n"
     ]
    }
   ],
   "source": [
    "print(explanation.get_prediction_for_explained_model())\n",
    "print(explanation.get_prediction_for_surrogate_model())\n",
    "print(explanation.get_prediction_for_surrogate_model(normalized=True))\n"
   ],
   "metadata": {
    "collapsed": false,
    "pycharm": {
     "name": "#%%\n"
    }
   }
  },
  {
   "cell_type": "code",
   "execution_count": 10,
   "outputs": [
    {
     "data": {
      "text/plain": "[(2, 0.5250412812508669),\n (3, 0.46726902039504076),\n (1, 0.004188394239213121),\n (0, 0.0035013041148790796)]"
     },
     "execution_count": 10,
     "metadata": {},
     "output_type": "execute_result"
    }
   ],
   "source": [
    "top_features = explanation.as_map()[explanation.top_labels[0]]\n",
    "top_features"
   ],
   "metadata": {
    "collapsed": false,
    "pycharm": {
     "name": "#%%\n"
    }
   }
  },
  {
   "cell_type": "code",
   "execution_count": 11,
   "outputs": [
    {
     "data": {
      "text/plain": "[(2, 0.533197580438627),\n (3, 0.44875687841214135),\n (0, 0.010127745985238032),\n (1, 0.007917795163993673)]"
     },
     "execution_count": 11,
     "metadata": {},
     "output_type": "execute_result"
    }
   ],
   "source": [
    "second_top_features = explanation.as_map()[explanation.top_labels[1]]\n",
    "second_top_features"
   ],
   "metadata": {
    "collapsed": false,
    "pycharm": {
     "name": "#%%\n"
    }
   }
  },
  {
   "cell_type": "code",
   "execution_count": 12,
   "outputs": [
    {
     "data": {
      "text/plain": "{0: [(2, 0.5076510620237175),\n  (3, 0.4811212323870503),\n  (1, 0.008566647753452084),\n  (0, 0.0026610578357799306)],\n 1: [(2, 0.533197580438627),\n  (3, 0.44875687841214135),\n  (0, 0.010127745985238032),\n  (1, 0.007917795163993673)],\n 2: [(2, 0.5250412812508669),\n  (3, 0.46726902039504076),\n  (1, 0.004188394239213121),\n  (0, 0.0035013041148790796)]}"
     },
     "execution_count": 12,
     "metadata": {},
     "output_type": "execute_result"
    }
   ],
   "source": [
    "explanation.as_map()"
   ],
   "metadata": {
    "collapsed": false,
    "pycharm": {
     "name": "#%%\n"
    }
   }
  },
  {
   "cell_type": "code",
   "execution_count": 13,
   "outputs": [
    {
     "data": {
      "text/plain": "{0: ['sepal_length <= 5.10',\n  '5.10 < sepal_length <= 5.80',\n  '5.80 < sepal_length <= 6.40',\n  'sepal_length > 6.40'],\n 1: ['sepal_width <= 2.80',\n  '2.80 < sepal_width <= 3.00',\n  '3.00 < sepal_width <= 3.30',\n  'sepal_width > 3.30'],\n 2: ['petal_length <= 1.60',\n  '1.60 < petal_length <= 4.30',\n  '4.30 < petal_length <= 5.10',\n  'petal_length > 5.10'],\n 3: ['petal_width <= 0.30',\n  '0.30 < petal_width <= 1.30',\n  '1.30 < petal_width <= 1.80',\n  'petal_width > 1.80']}"
     },
     "execution_count": 13,
     "metadata": {},
     "output_type": "execute_result"
    }
   ],
   "source": [
    "explainer.discretizer.names"
   ],
   "metadata": {
    "collapsed": false,
    "pycharm": {
     "name": "#%%\n"
    }
   }
  },
  {
   "cell_type": "code",
   "execution_count": 14,
   "outputs": [
    {
     "data": {
      "text/plain": "{0: [5.1, 5.8, 6.4, 7.9],\n 1: [2.8, 3.0, 3.3, 4.4],\n 2: [1.6, 4.3, 5.1, 6.7],\n 3: [0.3, 1.3, 1.8, 2.5]}"
     },
     "execution_count": 14,
     "metadata": {},
     "output_type": "execute_result"
    }
   ],
   "source": [
    "explainer.discretizer.maxs"
   ],
   "metadata": {
    "collapsed": false,
    "pycharm": {
     "name": "#%%\n"
    }
   }
  },
  {
   "cell_type": "markdown",
   "metadata": {},
   "source": [
    "Update some attributes to see if probabilities would change"
   ]
  },
  {
   "cell_type": "code",
   "execution_count": 15,
   "outputs": [
    {
     "data": {
      "text/plain": "[(2, 0.5250412812508669),\n (3, 0.46726902039504076),\n (1, 0.004188394239213121),\n (0, 0.0035013041148790796)]"
     },
     "execution_count": 15,
     "metadata": {},
     "output_type": "execute_result"
    }
   ],
   "source": [
    "top_features = explanation.as_map()[predicted_label_id]\n",
    "top_features"
   ],
   "metadata": {
    "collapsed": false,
    "pycharm": {
     "name": "#%%\n"
    }
   }
  }
 ],
 "metadata": {
  "kernelspec": {
   "display_name": "Python 3",
   "language": "python",
   "name": "python3"
  },
  "language_info": {
   "codemirror_mode": {
    "name": "ipython",
    "version": 3
   },
   "file_extension": ".py",
   "mimetype": "text/x-python",
   "name": "python",
   "nbconvert_exporter": "python",
   "pygments_lexer": "ipython3",
   "version": "3.8.0"
  }
 },
 "nbformat": 4,
 "nbformat_minor": 1
}