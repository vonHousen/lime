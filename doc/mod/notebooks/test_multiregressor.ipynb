{
 "cells": [
  {
   "cell_type": "code",
   "execution_count": 1,
   "metadata": {},
   "outputs": [],
   "source": [
    "import pandas as pd\n",
    "import numpy as np\n",
    "import sklearn.ensemble\n",
    "# import lime.lime_tabular as lime_tab\n",
    "# import lime.lime_tabular_mod as lime_tab\n",
    "import lime.lime_tabular_multiregressor as lime_tab\n",
    "\n",
    "import matplotlib.pyplot as plt\n",
    "import random\n",
    "\n",
    "import importlib\n",
    "importlib.reload(lime_tab)\n",
    "\n",
    "pd.set_option(\"display.max_columns\", None)\n",
    "pd.set_option(\"mode.chained_assignment\", None)\n",
    "plt.style.use({\"figure.facecolor\": \"white\"})"
   ]
  },
  {
   "cell_type": "markdown",
   "metadata": {
    "pycharm": {
     "name": "#%% md\n"
    }
   },
   "source": [
    "### Load iris dataset"
   ]
  },
  {
   "cell_type": "code",
   "execution_count": 2,
   "metadata": {
    "pycharm": {
     "name": "#%%\n"
    }
   },
   "outputs": [
    {
     "data": {
      "text/plain": "     sepal_length  sepal_width  petal_length  petal_width            label\n87            6.3          2.3           4.4          1.3  Iris-versicolor\n79            5.7          2.6           3.5          1.0  Iris-versicolor\n109           7.2          3.6           6.1          2.5   Iris-virginica\n23            5.1          3.3           1.7          0.5      Iris-setosa\n115           6.4          3.2           5.3          2.3   Iris-virginica\n..            ...          ...           ...          ...              ...\n75            6.6          3.0           4.4          1.4  Iris-versicolor\n104           6.5          3.0           5.8          2.2   Iris-virginica\n54            6.5          2.8           4.6          1.5  Iris-versicolor\n59            5.2          2.7           3.9          1.4  Iris-versicolor\n51            6.4          3.2           4.5          1.5  Iris-versicolor\n\n[150 rows x 5 columns]",
      "text/html": "<div>\n<style scoped>\n    .dataframe tbody tr th:only-of-type {\n        vertical-align: middle;\n    }\n\n    .dataframe tbody tr th {\n        vertical-align: top;\n    }\n\n    .dataframe thead th {\n        text-align: right;\n    }\n</style>\n<table border=\"1\" class=\"dataframe\">\n  <thead>\n    <tr style=\"text-align: right;\">\n      <th></th>\n      <th>sepal_length</th>\n      <th>sepal_width</th>\n      <th>petal_length</th>\n      <th>petal_width</th>\n      <th>label</th>\n    </tr>\n  </thead>\n  <tbody>\n    <tr>\n      <th>87</th>\n      <td>6.3</td>\n      <td>2.3</td>\n      <td>4.4</td>\n      <td>1.3</td>\n      <td>Iris-versicolor</td>\n    </tr>\n    <tr>\n      <th>79</th>\n      <td>5.7</td>\n      <td>2.6</td>\n      <td>3.5</td>\n      <td>1.0</td>\n      <td>Iris-versicolor</td>\n    </tr>\n    <tr>\n      <th>109</th>\n      <td>7.2</td>\n      <td>3.6</td>\n      <td>6.1</td>\n      <td>2.5</td>\n      <td>Iris-virginica</td>\n    </tr>\n    <tr>\n      <th>23</th>\n      <td>5.1</td>\n      <td>3.3</td>\n      <td>1.7</td>\n      <td>0.5</td>\n      <td>Iris-setosa</td>\n    </tr>\n    <tr>\n      <th>115</th>\n      <td>6.4</td>\n      <td>3.2</td>\n      <td>5.3</td>\n      <td>2.3</td>\n      <td>Iris-virginica</td>\n    </tr>\n    <tr>\n      <th>...</th>\n      <td>...</td>\n      <td>...</td>\n      <td>...</td>\n      <td>...</td>\n      <td>...</td>\n    </tr>\n    <tr>\n      <th>75</th>\n      <td>6.6</td>\n      <td>3.0</td>\n      <td>4.4</td>\n      <td>1.4</td>\n      <td>Iris-versicolor</td>\n    </tr>\n    <tr>\n      <th>104</th>\n      <td>6.5</td>\n      <td>3.0</td>\n      <td>5.8</td>\n      <td>2.2</td>\n      <td>Iris-virginica</td>\n    </tr>\n    <tr>\n      <th>54</th>\n      <td>6.5</td>\n      <td>2.8</td>\n      <td>4.6</td>\n      <td>1.5</td>\n      <td>Iris-versicolor</td>\n    </tr>\n    <tr>\n      <th>59</th>\n      <td>5.2</td>\n      <td>2.7</td>\n      <td>3.9</td>\n      <td>1.4</td>\n      <td>Iris-versicolor</td>\n    </tr>\n    <tr>\n      <th>51</th>\n      <td>6.4</td>\n      <td>3.2</td>\n      <td>4.5</td>\n      <td>1.5</td>\n      <td>Iris-versicolor</td>\n    </tr>\n  </tbody>\n</table>\n<p>150 rows × 5 columns</p>\n</div>"
     },
     "execution_count": 2,
     "metadata": {},
     "output_type": "execute_result"
    }
   ],
   "source": [
    "iris_dataset = pd.read_csv(\n",
    "    \"../data/iris-classification/iris.data\",\n",
    "    names=[\n",
    "        \"sepal_length\",\n",
    "        \"sepal_width\",\n",
    "        \"petal_length\",\n",
    "        \"petal_width\",\n",
    "        \"label\"\n",
    "    ]).sample(frac=1)\n",
    "iris_dataset"
   ]
  },
  {
   "cell_type": "markdown",
   "metadata": {
    "pycharm": {
     "name": "#%% md\n"
    }
   },
   "source": [
    "### Prepare dataset "
   ]
  },
  {
   "cell_type": "code",
   "execution_count": 3,
   "metadata": {
    "pycharm": {
     "name": "#%%\n"
    }
   },
   "outputs": [
    {
     "name": "stdout",
     "output_type": "stream",
     "text": [
      "Attributes: ['sepal_length', 'sepal_width', 'petal_length', 'petal_width']\n"
     ]
    }
   ],
   "source": [
    "labels_column_name = \"label\"\n",
    "# jackknife_idx = random.choice(iris_dataset.index.to_numpy())\n",
    "jackknife_idx = 118\n",
    "train_data = iris_dataset.loc[iris_dataset.index != jackknife_idx]\n",
    "train_x = train_data.drop(columns=labels_column_name).to_numpy()\n",
    "train_y = train_data[labels_column_name].to_numpy()\n",
    "test_data = iris_dataset.loc[iris_dataset.index == jackknife_idx]\n",
    "test_x = test_data.drop(columns=labels_column_name).to_numpy()\n",
    "test_y = test_data[labels_column_name].to_numpy()\n",
    "\n",
    "attributes = iris_dataset.columns.tolist()\n",
    "attributes.remove(labels_column_name)\n",
    "print(f\"Attributes: {attributes}\")"
   ]
  },
  {
   "cell_type": "code",
   "execution_count": 4,
   "metadata": {
    "pycharm": {
     "name": "#%%\n"
    }
   },
   "outputs": [
    {
     "name": "stdout",
     "output_type": "stream",
     "text": [
      "Predicted: ['Iris-virginica']. It's accuracy: 1.0\n"
     ]
    }
   ],
   "source": [
    "model = sklearn.ensemble.RandomForestClassifier()\n",
    "model.fit(train_x, train_y)\n",
    "\n",
    "result = model.predict(test_x)\n",
    "accuracy = sklearn.metrics.accuracy_score(test_y, result)\n",
    "print(f\"Predicted: {result}. It's accuracy: {accuracy}\")"
   ]
  },
  {
   "cell_type": "markdown",
   "metadata": {
    "pycharm": {
     "name": "#%% md\n"
    }
   },
   "source": [
    "### Use LIME to explain local prediction"
   ]
  },
  {
   "cell_type": "code",
   "execution_count": 5,
   "metadata": {
    "pycharm": {
     "name": "#%%\n"
    }
   },
   "outputs": [],
   "source": [
    "explainer = lime_tab.LTEMultiRegressionTree(\n",
    "    train_x,\n",
    "    feature_names = attributes,\n",
    "    class_names = model.classes_,\n",
    "    with_kfold = 5,\n",
    "    discretize_continuous=False,\n",
    "    use_inversed_data_for_training=True\n",
    ")"
   ]
  },
  {
   "cell_type": "markdown",
   "metadata": {},
   "source": [
    "Show probabilities for random instance (given by random forest on test dataset)"
   ]
  },
  {
   "cell_type": "code",
   "execution_count": 6,
   "metadata": {
    "pycharm": {
     "name": "#%%\n"
    }
   },
   "outputs": [
    {
     "name": "stdout",
     "output_type": "stream",
     "text": [
      "{'Iris-setosa': 0.0, 'Iris-versicolor': 0.0, 'Iris-virginica': 1.0}\n"
     ]
    }
   ],
   "source": [
    "probabilities = model.predict_proba(test_x)[0,:]\n",
    "probabilities_for_labels = {}\n",
    "for label, probability in zip(model.classes_, probabilities):\n",
    "    probabilities_for_labels[label] = probability\n",
    "print(probabilities_for_labels)\n",
    "predicted_label_id = np.argmax(probabilities)"
   ]
  },
  {
   "cell_type": "markdown",
   "metadata": {},
   "source": [
    "Explain the instance"
   ]
  },
  {
   "cell_type": "code",
   "execution_count": 7,
   "metadata": {
    "pycharm": {
     "name": "#%%\n"
    }
   },
   "outputs": [
    {
     "data": {
      "text/plain": "array([0., 0., 1.])"
     },
     "execution_count": 7,
     "metadata": {},
     "output_type": "execute_result"
    },
    {
     "data": {
      "text/plain": "<Figure size 432x288 with 1 Axes>",
      "image/png": "[encoded data removed]"
     },
     "metadata": {},
     "output_type": "display_data"
    }
   ],
   "source": [
    "explanation = explainer.explain_instance(\n",
    "    test_x.ravel(),\n",
    "    model.predict_proba,\n",
    "    num_features = 4,\n",
    "    top_labels = 3\n",
    ")\n",
    "explanation.as_pyplot_figure(explanation.top_labels[0])\n",
    "explanation.predict_proba   # probabilites from explained model"
   ]
  },
  {
   "cell_type": "code",
   "execution_count": 8,
   "outputs": [
    {
     "data": {
      "text/plain": "     sepal_length  sepal_width  petal_length  petal_width           label\n118           7.7          2.6           6.9          2.3  Iris-virginica",
      "text/html": "<div>\n<style scoped>\n    .dataframe tbody tr th:only-of-type {\n        vertical-align: middle;\n    }\n\n    .dataframe tbody tr th {\n        vertical-align: top;\n    }\n\n    .dataframe thead th {\n        text-align: right;\n    }\n</style>\n<table border=\"1\" class=\"dataframe\">\n  <thead>\n    <tr style=\"text-align: right;\">\n      <th></th>\n      <th>sepal_length</th>\n      <th>sepal_width</th>\n      <th>petal_length</th>\n      <th>petal_width</th>\n      <th>label</th>\n    </tr>\n  </thead>\n  <tbody>\n    <tr>\n      <th>118</th>\n      <td>7.7</td>\n      <td>2.6</td>\n      <td>6.9</td>\n      <td>2.3</td>\n      <td>Iris-virginica</td>\n    </tr>\n  </tbody>\n</table>\n</div>"
     },
     "execution_count": 8,
     "metadata": {},
     "output_type": "execute_result"
    }
   ],
   "source": [
    "test_data"
   ],
   "metadata": {
    "collapsed": false,
    "pycharm": {
     "name": "#%%\n"
    }
   }
  },
  {
   "cell_type": "code",
   "execution_count": 9,
   "outputs": [
    {
     "name": "stdout",
     "output_type": "stream",
     "text": [
      "[0.0, 0.0, 1.0]\n",
      "[0.0044825292216900785, 0.012395694018213879, 0.9875613410443524]\n",
      "[0.0044627166, 0.012340905, 0.9831964]\n"
     ]
    }
   ],
   "source": [
    "print(explanation.get_prediction_for_explained_model())\n",
    "print(explanation.get_prediction_for_surrogate_model())\n",
    "print(explanation.get_prediction_for_surrogate_model(normalized=True))"
   ],
   "metadata": {
    "collapsed": false,
    "pycharm": {
     "name": "#%%\n"
    }
   }
  },
  {
   "cell_type": "code",
   "execution_count": 10,
   "outputs": [
    {
     "name": "stdout",
     "output_type": "stream",
     "text": [
      "MSE on training set: [0.00127802 0.00626612 0.00366742]\n",
      "MSE on cv-test  set: [0.00134362 0.00660672 0.00526209]\n",
      "std on cv-test  set: [9.60521397e-05 6.60473438e-04 1.50046976e-03]\n"
     ]
    }
   ],
   "source": [
    "print(\"MSE on training set:\", np.array(explanation.get_losses_for_surrogate_model()))\n",
    "print(\"MSE on cv-test  set:\", np.mean(explanation.get_losses_for_cv_model(), axis=1))\n",
    "print(\"std on cv-test  set:\", np.std(explanation.get_losses_for_cv_model(), axis=1))"
   ],
   "metadata": {
    "collapsed": false,
    "pycharm": {
     "name": "#%%\n"
    }
   }
  },
  {
   "cell_type": "code",
   "execution_count": 11,
   "outputs": [
    {
     "data": {
      "text/plain": "array(['Iris-setosa', 'Iris-versicolor', 'Iris-virginica'], dtype=object)"
     },
     "execution_count": 11,
     "metadata": {},
     "output_type": "execute_result"
    }
   ],
   "source": [
    "model.classes_"
   ],
   "metadata": {
    "collapsed": false,
    "pycharm": {
     "name": "#%%\n"
    }
   }
  },
  {
   "cell_type": "code",
   "execution_count": 12,
   "outputs": [],
   "source": [
    "import pydotplus\n",
    "import collections"
   ],
   "metadata": {
    "collapsed": false,
    "pycharm": {
     "name": "#%%\n"
    }
   }
  },
  {
   "cell_type": "code",
   "execution_count": 13,
   "outputs": [
    {
     "data": {
      "text/plain": "<Figure size 1008x720 with 1 Axes>",
      "image/png": "[encoded data removed]"
     },
     "metadata": {},
     "output_type": "display_data"
    }
   ],
   "source": [
    "plt.figure(figsize=(14,10))\n",
    "sklearn.tree.plot_tree(\n",
    "    explanation.local_surrogates_ensemble[2],\n",
    "    feature_names=attributes,\n",
    "    class_names=model.classes_,\n",
    "    fontsize=10,\n",
    "    rounded=True,\n",
    "    label=\"root\",\n",
    "    impurity=False,\n",
    "    proportion=True\n",
    ")\n",
    "plt.show()"
   ],
   "metadata": {
    "collapsed": false,
    "pycharm": {
     "name": "#%%\n"
    }
   }
  },
  {
   "cell_type": "code",
   "execution_count": 14,
   "outputs": [
    {
     "data": {
      "text/plain": "['sepal_length', 'sepal_width', 'petal_length', 'petal_width']"
     },
     "execution_count": 14,
     "metadata": {},
     "output_type": "execute_result"
    }
   ],
   "source": [
    "attributes"
   ],
   "metadata": {
    "collapsed": false,
    "pycharm": {
     "name": "#%%\n"
    }
   }
  },
  {
   "cell_type": "code",
   "execution_count": 15,
   "outputs": [
    {
     "data": {
      "text/plain": "array([[7.7, 2.6, 6.9, 2.3]])"
     },
     "execution_count": 15,
     "metadata": {},
     "output_type": "execute_result"
    }
   ],
   "source": [
    "a = test_x\n",
    "# a = train_x[[0],:]\n",
    "a"
   ],
   "metadata": {
    "collapsed": false,
    "pycharm": {
     "name": "#%%\n"
    }
   }
  },
  {
   "cell_type": "code",
   "execution_count": 16,
   "outputs": [
    {
     "data": {
      "text/plain": "True"
     },
     "execution_count": 16,
     "metadata": {},
     "output_type": "execute_result"
    }
   ],
   "source": [
    "clf = explanation.local_surrogates_ensemble[2]\n",
    "dot_data = sklearn.tree.export_graphviz(\n",
    "    clf,\n",
    "    feature_names=attributes,\n",
    "    class_names=model.classes_,\n",
    "    label=\"root\",\n",
    "    out_file=None,\n",
    "    filled=True,\n",
    "    impurity=False,\n",
    "    proportion=True,\n",
    "    rounded=True,\n",
    "    rotate=True,\n",
    ")\n",
    "graph = pydotplus.graph_from_dot_data(dot_data)\n",
    "colors = ('brown', 'forestgreen')\n",
    "edges = collections.defaultdict(list)\n",
    "\n",
    "# empty all nodes, i.e.set color to white\n",
    "for node in graph.get_node_list():\n",
    "    node.set_fillcolor('white')\n",
    "\n",
    "decision_path = clf.decision_path(a)\n",
    "for n, node_value in enumerate(decision_path.toarray()[0]):\n",
    "    if node_value == 0:\n",
    "        continue\n",
    "    node = graph.get_node(str(n))[0]\n",
    "    node.set_fillcolor('turquoise')\n",
    "\n",
    "graph.write_png('tree.png')"
   ],
   "metadata": {
    "collapsed": false,
    "pycharm": {
     "name": "#%%\n"
    }
   }
  },
  {
   "cell_type": "code",
   "execution_count": 16,
   "outputs": [],
   "source": [],
   "metadata": {
    "collapsed": false,
    "pycharm": {
     "name": "#%%\n"
    }
   }
  },
  {
   "cell_type": "code",
   "execution_count": 17,
   "outputs": [
    {
     "data": {
      "text/plain": "array([0.00322826, 0.00339329, 0.00321066, 0.00329484, 0.00300163])"
     },
     "execution_count": 17,
     "metadata": {},
     "output_type": "execute_result"
    }
   ],
   "source": [
    "explanation.get_fidelity_loss_on_kfold()"
   ],
   "metadata": {
    "collapsed": false,
    "pycharm": {
     "name": "#%%\n"
    }
   }
  },
  {
   "cell_type": "code",
   "execution_count": 18,
   "outputs": [
    {
     "data": {
      "text/plain": "[(2, 0.5402234176277462),\n (3, 0.4450034742561617),\n (1, 0.012347706983978485),\n (0, 0.0024254011321136223)]"
     },
     "execution_count": 18,
     "metadata": {},
     "output_type": "execute_result"
    }
   ],
   "source": [
    "top_features = explanation.as_map()[explanation.top_labels[0]]\n",
    "top_features"
   ],
   "metadata": {
    "collapsed": false,
    "pycharm": {
     "name": "#%%\n"
    }
   }
  },
  {
   "cell_type": "code",
   "execution_count": 19,
   "outputs": [
    {
     "data": {
      "text/plain": "[(2, 0.5806983137687267),\n (3, 0.40515818418221294),\n (1, 0.013377118997563773),\n (0, 0.0007663830514965023)]"
     },
     "execution_count": 19,
     "metadata": {},
     "output_type": "execute_result"
    }
   ],
   "source": [
    "second_top_features = explanation.as_map()[explanation.top_labels[1]]\n",
    "second_top_features"
   ],
   "metadata": {
    "collapsed": false,
    "pycharm": {
     "name": "#%%\n"
    }
   }
  },
  {
   "cell_type": "code",
   "execution_count": 20,
   "outputs": [
    {
     "data": {
      "text/plain": "{0: [(3, 0.604562457249134),\n  (2, 0.394859283097029),\n  (0, 0.0005782596538369139),\n  (1, 0.0)],\n 1: [(2, 0.5806983137687267),\n  (3, 0.40515818418221294),\n  (1, 0.013377118997563773),\n  (0, 0.0007663830514965023)],\n 2: [(2, 0.5402234176277462),\n  (3, 0.4450034742561617),\n  (1, 0.012347706983978485),\n  (0, 0.0024254011321136223)]}"
     },
     "execution_count": 20,
     "metadata": {},
     "output_type": "execute_result"
    }
   ],
   "source": [
    "explanation.as_map()"
   ],
   "metadata": {
    "collapsed": false,
    "pycharm": {
     "name": "#%%\n"
    }
   }
  },
  {
   "cell_type": "code",
   "execution_count": 21,
   "outputs": [
    {
     "ename": "AttributeError",
     "evalue": "'NoneType' object has no attribute 'names'",
     "output_type": "error",
     "traceback": [
      "\u001B[1;31m---------------------------------------------------------------------------\u001B[0m",
      "\u001B[1;31mAttributeError\u001B[0m                            Traceback (most recent call last)",
      "\u001B[1;32m<ipython-input-21-47c84a4d3081>\u001B[0m in \u001B[0;36m<module>\u001B[1;34m\u001B[0m\n\u001B[1;32m----> 1\u001B[1;33m \u001B[0mexplainer\u001B[0m\u001B[1;33m.\u001B[0m\u001B[0mdiscretizer\u001B[0m\u001B[1;33m.\u001B[0m\u001B[0mnames\u001B[0m\u001B[1;33m\u001B[0m\u001B[1;33m\u001B[0m\u001B[0m\n\u001B[0m\u001B[0;32m      2\u001B[0m \u001B[1;33m\u001B[0m\u001B[0m\n",
      "\u001B[1;31mAttributeError\u001B[0m: 'NoneType' object has no attribute 'names'"
     ]
    }
   ],
   "source": [
    "explainer.discretizer.names"
   ],
   "metadata": {
    "collapsed": false,
    "pycharm": {
     "name": "#%%\n"
    }
   }
  },
  {
   "cell_type": "code",
   "execution_count": null,
   "outputs": [],
   "source": [
    "explainer.discretizer.maxs"
   ],
   "metadata": {
    "collapsed": false,
    "pycharm": {
     "name": "#%%\n"
    }
   }
  },
  {
   "cell_type": "markdown",
   "metadata": {},
   "source": [
    "Update some attributes to see if probabilities would change"
   ]
  },
  {
   "cell_type": "code",
   "execution_count": null,
   "outputs": [],
   "source": [
    "top_features = explanation.as_map()[predicted_label_id]\n",
    "top_features"
   ],
   "metadata": {
    "collapsed": false,
    "pycharm": {
     "name": "#%%\n"
    }
   }
  }
 ],
 "metadata": {
  "kernelspec": {
   "display_name": "Python 3",
   "language": "python",
   "name": "python3"
  },
  "language_info": {
   "codemirror_mode": {
    "name": "ipython",
    "version": 3
   },
   "file_extension": ".py",
   "mimetype": "text/x-python",
   "name": "python",
   "nbconvert_exporter": "python",
   "pygments_lexer": "ipython3",
   "version": "3.8.0"
  }
 },
 "nbformat": 4,
 "nbformat_minor": 1
}