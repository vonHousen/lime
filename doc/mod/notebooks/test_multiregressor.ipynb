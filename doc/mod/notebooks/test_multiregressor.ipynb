{
 "cells": [
  {
   "cell_type": "code",
   "execution_count": 1,
   "metadata": {},
   "outputs": [],
   "source": [
    "import pandas as pd\n",
    "import numpy as np\n",
    "import sklearn.ensemble\n",
    "import lime.lime_tabular_multiregressor as lime_tab\n",
    "import matplotlib.pyplot as plt\n",
    "\n",
    "import importlib\n",
    "importlib.reload(lime_tab)\n",
    "\n",
    "pd.set_option(\"display.max_columns\", None)\n",
    "pd.set_option(\"mode.chained_assignment\", None)\n",
    "plt.style.use({\"figure.facecolor\": \"white\"})"
   ]
  },
  {
   "cell_type": "markdown",
   "metadata": {
    "pycharm": {
     "name": "#%% md\n"
    }
   },
   "source": [
    "### Load iris dataset"
   ]
  },
  {
   "cell_type": "code",
   "execution_count": 2,
   "metadata": {
    "pycharm": {
     "name": "#%%\n"
    }
   },
   "outputs": [
    {
     "data": {
      "text/plain": "     sepal_length  sepal_width  petal_length  petal_width            label\n74            6.4          2.9           4.3          1.3  Iris-versicolor\n127           6.1          3.0           4.9          1.8   Iris-virginica\n66            5.6          3.0           4.5          1.5  Iris-versicolor\n13            4.3          3.0           1.1          0.1      Iris-setosa\n90            5.5          2.6           4.4          1.2  Iris-versicolor\n..            ...          ...           ...          ...              ...\n6             4.6          3.4           1.4          0.3      Iris-setosa\n8             4.4          2.9           1.4          0.2      Iris-setosa\n78            6.0          2.9           4.5          1.5  Iris-versicolor\n103           6.3          2.9           5.6          1.8   Iris-virginica\n33            5.5          4.2           1.4          0.2      Iris-setosa\n\n[150 rows x 5 columns]",
      "text/html": "<div>\n<style scoped>\n    .dataframe tbody tr th:only-of-type {\n        vertical-align: middle;\n    }\n\n    .dataframe tbody tr th {\n        vertical-align: top;\n    }\n\n    .dataframe thead th {\n        text-align: right;\n    }\n</style>\n<table border=\"1\" class=\"dataframe\">\n  <thead>\n    <tr style=\"text-align: right;\">\n      <th></th>\n      <th>sepal_length</th>\n      <th>sepal_width</th>\n      <th>petal_length</th>\n      <th>petal_width</th>\n      <th>label</th>\n    </tr>\n  </thead>\n  <tbody>\n    <tr>\n      <th>74</th>\n      <td>6.4</td>\n      <td>2.9</td>\n      <td>4.3</td>\n      <td>1.3</td>\n      <td>Iris-versicolor</td>\n    </tr>\n    <tr>\n      <th>127</th>\n      <td>6.1</td>\n      <td>3.0</td>\n      <td>4.9</td>\n      <td>1.8</td>\n      <td>Iris-virginica</td>\n    </tr>\n    <tr>\n      <th>66</th>\n      <td>5.6</td>\n      <td>3.0</td>\n      <td>4.5</td>\n      <td>1.5</td>\n      <td>Iris-versicolor</td>\n    </tr>\n    <tr>\n      <th>13</th>\n      <td>4.3</td>\n      <td>3.0</td>\n      <td>1.1</td>\n      <td>0.1</td>\n      <td>Iris-setosa</td>\n    </tr>\n    <tr>\n      <th>90</th>\n      <td>5.5</td>\n      <td>2.6</td>\n      <td>4.4</td>\n      <td>1.2</td>\n      <td>Iris-versicolor</td>\n    </tr>\n    <tr>\n      <th>...</th>\n      <td>...</td>\n      <td>...</td>\n      <td>...</td>\n      <td>...</td>\n      <td>...</td>\n    </tr>\n    <tr>\n      <th>6</th>\n      <td>4.6</td>\n      <td>3.4</td>\n      <td>1.4</td>\n      <td>0.3</td>\n      <td>Iris-setosa</td>\n    </tr>\n    <tr>\n      <th>8</th>\n      <td>4.4</td>\n      <td>2.9</td>\n      <td>1.4</td>\n      <td>0.2</td>\n      <td>Iris-setosa</td>\n    </tr>\n    <tr>\n      <th>78</th>\n      <td>6.0</td>\n      <td>2.9</td>\n      <td>4.5</td>\n      <td>1.5</td>\n      <td>Iris-versicolor</td>\n    </tr>\n    <tr>\n      <th>103</th>\n      <td>6.3</td>\n      <td>2.9</td>\n      <td>5.6</td>\n      <td>1.8</td>\n      <td>Iris-virginica</td>\n    </tr>\n    <tr>\n      <th>33</th>\n      <td>5.5</td>\n      <td>4.2</td>\n      <td>1.4</td>\n      <td>0.2</td>\n      <td>Iris-setosa</td>\n    </tr>\n  </tbody>\n</table>\n<p>150 rows × 5 columns</p>\n</div>"
     },
     "execution_count": 2,
     "metadata": {},
     "output_type": "execute_result"
    }
   ],
   "source": [
    "iris_dataset = pd.read_csv(\n",
    "    \"../data/iris-classification/iris.data\",\n",
    "    names=[\n",
    "        \"sepal_length\",\n",
    "        \"sepal_width\",\n",
    "        \"petal_length\",\n",
    "        \"petal_width\",\n",
    "        \"label\"\n",
    "    ]).sample(frac=1)\n",
    "iris_dataset"
   ]
  },
  {
   "cell_type": "markdown",
   "metadata": {
    "pycharm": {
     "name": "#%% md\n"
    }
   },
   "source": [
    "### Prepare dataset and explained model"
   ]
  },
  {
   "cell_type": "code",
   "execution_count": 3,
   "metadata": {
    "pycharm": {
     "name": "#%%\n"
    }
   },
   "outputs": [
    {
     "name": "stdout",
     "output_type": "stream",
     "text": [
      "Labels: ['Iris-setosa' 'Iris-versicolor' 'Iris-virginica']\n",
      "Attributes: ['petal_length', 'petal_width', 'sepal_length', 'sepal_width']\n"
     ]
    }
   ],
   "source": [
    "labels_column_name = \"label\"\n",
    "train_set = iris_dataset.drop(columns=labels_column_name).values\n",
    "train_labels = iris_dataset[labels_column_name].values\n",
    "jackknife_idx = np.random.randint(0, train_set.shape[0])\n",
    "test_set = train_set[[jackknife_idx], :]\n",
    "test_labels = train_labels[[jackknife_idx]]\n",
    "\n",
    "\n",
    "unique_labels = np.unique(train_labels)\n",
    "attributes = iris_dataset.columns.tolist()\n",
    "attributes.remove(labels_column_name)\n",
    "unique_labels.sort()\n",
    "attributes.sort()\n",
    "print(f\"Labels: {unique_labels}\")\n",
    "print(f\"Attributes: {attributes}\")"
   ]
  },
  {
   "cell_type": "code",
   "execution_count": 4,
   "metadata": {
    "pycharm": {
     "name": "#%%\n"
    }
   },
   "outputs": [
    {
     "name": "stdout",
     "output_type": "stream",
     "text": [
      "Predicted: ['Iris-versicolor']. It's accuracy: 1.0\n"
     ]
    }
   ],
   "source": [
    "random_forest = sklearn.ensemble.RandomForestClassifier(n_estimators = 42)\n",
    "random_forest.fit(train_set, train_labels)\n",
    "\n",
    "result = random_forest.predict(test_set)\n",
    "accuracy = sklearn.metrics.accuracy_score(test_labels, result)\n",
    "print(f\"Predicted: {result}. It's accuracy: {accuracy}\")"
   ]
  },
  {
   "cell_type": "markdown",
   "metadata": {
    "pycharm": {
     "name": "#%% md\n"
    }
   },
   "source": [
    "### Use LIME to explain local prediction"
   ]
  },
  {
   "cell_type": "code",
   "execution_count": 5,
   "metadata": {
    "pycharm": {
     "name": "#%%\n"
    }
   },
   "outputs": [],
   "source": [
    "explainer = lime_tab.LTEMultiRegressionTree(\n",
    "    train_set,\n",
    "    feature_names = attributes,\n",
    "    class_names = train_labels\n",
    ")"
   ]
  },
  {
   "cell_type": "markdown",
   "metadata": {},
   "source": [
    "Show probabilities for random instance (given by random forest on test dataset)"
   ]
  },
  {
   "cell_type": "code",
   "execution_count": 6,
   "metadata": {
    "pycharm": {
     "name": "#%%\n"
    }
   },
   "outputs": [
    {
     "name": "stdout",
     "output_type": "stream",
     "text": [
      "{'Iris-setosa': 0.0, 'Iris-versicolor': 0.9761904761904762, 'Iris-virginica': 0.023809523809523808}\n"
     ]
    }
   ],
   "source": [
    "sample_idx = np.random.randint(low=0, high=test_set.shape[0])\n",
    "instance = test_set[sample_idx]\n",
    "probabilities = random_forest.predict_proba(instance.reshape(1,-1))[0,:]\n",
    "probabilities_for_labels = {}\n",
    "for label, probability in zip(random_forest.classes_, probabilities):\n",
    "    probabilities_for_labels[label] = probability\n",
    "print(probabilities_for_labels)\n",
    "predicted_label_id = np.argmax(probabilities)"
   ]
  },
  {
   "cell_type": "markdown",
   "metadata": {},
   "source": [
    "Explain the instance"
   ]
  },
  {
   "cell_type": "code",
   "execution_count": 7,
   "metadata": {
    "pycharm": {
     "name": "#%%\n"
    }
   },
   "outputs": [
    {
     "data": {
      "text/plain": "array([0.        , 0.97619048, 0.02380952])"
     },
     "execution_count": 7,
     "metadata": {},
     "output_type": "execute_result"
    },
    {
     "data": {
      "text/plain": "<Figure size 432x288 with 1 Axes>",
      "image/png": "[encoded data removed]"
     },
     "metadata": {},
     "output_type": "display_data"
    }
   ],
   "source": [
    "importlib.reload(lime_tab)\n",
    "explanation = explainer.explain_instance(\n",
    "    instance,\n",
    "    random_forest.predict_proba,\n",
    "    num_features = 4,\n",
    "    top_labels = 3\n",
    ")\n",
    "explanation.as_pyplot_figure(explanation.top_labels[0])\n",
    "explanation.predict_proba   # probabilites from explained model"
   ]
  },
  {
   "cell_type": "code",
   "execution_count": 8,
   "outputs": [
    {
     "name": "stdout",
     "output_type": "stream",
     "text": [
      "[0.0, 0.9761904761904762, 0.023809523809523808]\n",
      "[0.0, 0.6555555555555554, 0.3444444444444444]\n",
      "[0.23055190703547074, 0.44409192791390173, 0.3253561650506277]\n"
     ]
    }
   ],
   "source": [
    "print(explanation.get_prediction_for_explained_model())\n",
    "print(explanation.get_prediction_for_surrogate_model())\n",
    "print(explanation.get_prediction_for_surrogate_model(normalized=True))\n"
   ],
   "metadata": {
    "collapsed": false,
    "pycharm": {
     "name": "#%%\n"
    }
   }
  },
  {
   "cell_type": "code",
   "execution_count": 9,
   "outputs": [
    {
     "data": {
      "text/plain": "[(2, 0.0), (3, 0.0), (1, 0.0), (0, 0.0)]"
     },
     "execution_count": 9,
     "metadata": {},
     "output_type": "execute_result"
    }
   ],
   "source": [
    "top_features = explanation.as_map()[explanation.top_labels[0]]\n",
    "top_features"
   ],
   "metadata": {
    "collapsed": false,
    "pycharm": {
     "name": "#%%\n"
    }
   }
  },
  {
   "cell_type": "code",
   "execution_count": 10,
   "outputs": [
    {
     "data": {
      "text/plain": "[(1, 0.0), (2, 0.0), (3, 0.0), (0, 0.0)]"
     },
     "execution_count": 10,
     "metadata": {},
     "output_type": "execute_result"
    }
   ],
   "source": [
    "second_top_features = explanation.as_map()[explanation.top_labels[1]]\n",
    "second_top_features"
   ],
   "metadata": {
    "collapsed": false,
    "pycharm": {
     "name": "#%%\n"
    }
   }
  },
  {
   "cell_type": "code",
   "execution_count": 11,
   "outputs": [
    {
     "data": {
      "text/plain": "{0: [(2, 0.0), (3, 0.0), (1, 0.0), (0, 0.0)],\n 2: [(1, 0.0), (2, 0.0), (3, 0.0), (0, 0.0)],\n 1: [(2, 0.0), (3, 0.0), (1, 0.0), (0, 0.0)]}"
     },
     "execution_count": 11,
     "metadata": {},
     "output_type": "execute_result"
    }
   ],
   "source": [
    "explanation.as_map()"
   ],
   "metadata": {
    "collapsed": false,
    "pycharm": {
     "name": "#%%\n"
    }
   }
  },
  {
   "cell_type": "code",
   "execution_count": 12,
   "outputs": [
    {
     "data": {
      "text/plain": "{0: ['petal_length <= 5.10',\n  '5.10 < petal_length <= 5.80',\n  '5.80 < petal_length <= 6.40',\n  'petal_length > 6.40'],\n 1: ['petal_width <= 2.80',\n  '2.80 < petal_width <= 3.00',\n  '3.00 < petal_width <= 3.30',\n  'petal_width > 3.30'],\n 2: ['sepal_length <= 1.60',\n  '1.60 < sepal_length <= 4.35',\n  '4.35 < sepal_length <= 5.10',\n  'sepal_length > 5.10'],\n 3: ['sepal_width <= 0.30',\n  '0.30 < sepal_width <= 1.30',\n  '1.30 < sepal_width <= 1.80',\n  'sepal_width > 1.80']}"
     },
     "execution_count": 12,
     "metadata": {},
     "output_type": "execute_result"
    }
   ],
   "source": [
    "explainer.discretizer.names"
   ],
   "metadata": {
    "collapsed": false,
    "pycharm": {
     "name": "#%%\n"
    }
   }
  },
  {
   "cell_type": "code",
   "execution_count": 13,
   "outputs": [
    {
     "data": {
      "text/plain": "{0: [5.1, 5.8, 6.4, 7.9],\n 1: [2.8, 3.0, 3.3, 4.4],\n 2: [1.6, 4.35, 5.1, 6.9],\n 3: [0.3, 1.3, 1.8, 2.5]}"
     },
     "execution_count": 13,
     "metadata": {},
     "output_type": "execute_result"
    }
   ],
   "source": [
    "explainer.discretizer.maxs"
   ],
   "metadata": {
    "collapsed": false,
    "pycharm": {
     "name": "#%%\n"
    }
   }
  },
  {
   "cell_type": "markdown",
   "metadata": {},
   "source": [
    "Update some attributes to see if probabilities would change"
   ]
  },
  {
   "cell_type": "code",
   "execution_count": 14,
   "outputs": [
    {
     "data": {
      "text/plain": "[(2, 0.0), (3, 0.0), (1, 0.0), (0, 0.0)]"
     },
     "execution_count": 14,
     "metadata": {},
     "output_type": "execute_result"
    }
   ],
   "source": [
    "top_features = explanation.as_map()[predicted_label_id]\n",
    "top_features"
   ],
   "metadata": {
    "collapsed": false,
    "pycharm": {
     "name": "#%%\n"
    }
   }
  },
  {
   "cell_type": "code",
   "execution_count": 15,
   "outputs": [
    {
     "data": {
      "text/plain": "array([6.5, 2.8, 4.6, 1.5])"
     },
     "execution_count": 15,
     "metadata": {},
     "output_type": "execute_result"
    }
   ],
   "source": [
    "instance\n"
   ],
   "metadata": {
    "collapsed": false,
    "pycharm": {
     "name": "#%%\n"
    }
   }
  }
 ],
 "metadata": {
  "kernelspec": {
   "display_name": "Python 3",
   "language": "python",
   "name": "python3"
  },
  "language_info": {
   "codemirror_mode": {
    "name": "ipython",
    "version": 3
   },
   "file_extension": ".py",
   "mimetype": "text/x-python",
   "name": "python",
   "nbconvert_exporter": "python",
   "pygments_lexer": "ipython3",
   "version": "3.8.0"
  }
 },
 "nbformat": 4,
 "nbformat_minor": 1
}