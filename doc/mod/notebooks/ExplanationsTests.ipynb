{
 "cells": [
  {
   "cell_type": "code",
   "execution_count": 1,
   "outputs": [],
   "source": [
    "import pandas as pd\n",
    "import numpy as np\n",
    "import sklearn.ensemble\n",
    "import os.path\n",
    "import sklearn.neural_network\n",
    "import sklearn.svm\n",
    "import sklearn.naive_bayes\n",
    "import sklearn.tree\n",
    "import lime.lime_tabular_mod\n",
    "import lime.lime_tabular_multiregressor\n",
    "import lime.lime_tabular_multiclassifier\n",
    "import lime.lime_tabular_singleclassifier\n",
    "import matplotlib.pyplot as plt\n",
    "import doc.mod.utils.DatasetRepository as dr\n",
    "import doc.mod.utils.ResultsProcessing as rp\n",
    "from tqdm import tqdm\n",
    "import random\n",
    "\n",
    "repo = dr.DatasetRepository(\"../data\")\n",
    "\n",
    "pd.set_option(\"display.max_columns\", None)\n",
    "pd.set_option(\"mode.chained_assignment\", None)\n",
    "plt.style.use({\"figure.facecolor\": \"white\"})"
   ],
   "metadata": {
    "collapsed": false,
    "pycharm": {
     "name": "#%%\n"
    }
   }
  },
  {
   "cell_type": "code",
   "execution_count": 2,
   "outputs": [],
   "source": [
    "version_str = \"v1\"\n",
    "def perform_explain_test(labels_count,\n",
    "                         version_str,\n",
    "                         dataset_name,\n",
    "                         dataset,\n",
    "                         test_instance,\n",
    "                         models):\n",
    "    precision_for_classifier = {}\n",
    "    recall_for_classifier = {}\n",
    "    f1_for_classifier = {}\n",
    "    for (classifier_name, model) in models:\n",
    "        x = dataset.train_data.to_numpy()\n",
    "        y = dataset.train_labels.to_numpy()\n",
    "        model.fit(x, y)\n",
    "\n",
    "        x = dataset.test_data.to_numpy()\n",
    "        y_true = dataset.test_labels.to_numpy()\n",
    "        y_predicted = model.predict(x)\n",
    "\n",
    "        precision_for_classifier[classifier_name] = sklearn.metrics.precision_score(y_true=y_true, y_pred=y_predicted, average=\"macro\")\n",
    "        recall_for_classifier[classifier_name] = sklearn.metrics.recall_score(y_true=y_true, y_pred=y_predicted, average=\"macro\")\n",
    "        f1_for_classifier[classifier_name] = sklearn.metrics.f1_score(y_true=y_true, y_pred=y_predicted, average=\"macro\")\n",
    "\n",
    "        results_file = f\"saved_results/{dataset_name}/explanation/{classifier_name}_{version_str}.png\"\n",
    "        if not os.path.isfile(results_file):\n",
    "\n",
    "            explainer_multiregressor = lime.lime_tabular_multiregressor.LTEMultiRegressionTree(\n",
    "                dataset.train_data.to_numpy(),\n",
    "                feature_names = dataset.train_data.columns.to_list(),\n",
    "                class_names = model.classes_,\n",
    "                discretize_continuous=False,\n",
    "                sample_around_instance=True,\n",
    "                categorical_features=dataset.categorical_features,\n",
    "                with_kfold=5,\n",
    "                use_inversed_data_for_training=True\n",
    "            )\n",
    "            explanation = explainer_multiregressor.explain_instance(\n",
    "                test_instance,\n",
    "                model.predict_proba,\n",
    "                num_features = 4,\n",
    "                top_labels = labels_count,\n",
    "                distance_metric=\"minkowski\",\n",
    "                minkowski_norm=100.\n",
    "            )\n",
    "            explanation.render_explanation_tree(results_file)"
   ],
   "metadata": {
    "collapsed": false,
    "pycharm": {
     "name": "#%%\n"
    }
   }
  },
  {
   "cell_type": "code",
   "execution_count": 3,
   "outputs": [
    {
     "name": "stderr",
     "output_type": "stream",
     "text": [
      "c:\\users\\kamil zych\\documents\\mgr\\lime\\venv\\lib\\site-packages\\sklearn\\metrics\\_classification.py:1221: UndefinedMetricWarning: Precision is ill-defined and being set to 0.0 in labels with no predicted samples. Use `zero_division` parameter to control this behavior.\n",
      "  _warn_prf(average, modifier, msg_start, len(result))\n",
      "c:\\users\\kamil zych\\documents\\mgr\\lime\\venv\\lib\\site-packages\\sklearn\\metrics\\_classification.py:1221: UndefinedMetricWarning: Precision is ill-defined and being set to 0.0 in labels with no predicted samples. Use `zero_division` parameter to control this behavior.\n",
      "  _warn_prf(average, modifier, msg_start, len(result))\n",
      "c:\\users\\kamil zych\\documents\\mgr\\lime\\venv\\lib\\site-packages\\sklearn\\metrics\\_classification.py:1221: UndefinedMetricWarning: Precision is ill-defined and being set to 0.0 in labels with no predicted samples. Use `zero_division` parameter to control this behavior.\n",
      "  _warn_prf(average, modifier, msg_start, len(result))\n",
      "c:\\users\\kamil zych\\documents\\mgr\\lime\\venv\\lib\\site-packages\\sklearn\\metrics\\_classification.py:1221: UndefinedMetricWarning: Precision is ill-defined and being set to 0.0 in labels with no predicted samples. Use `zero_division` parameter to control this behavior.\n",
      "  _warn_prf(average, modifier, msg_start, len(result))\n"
     ]
    }
   ],
   "source": [
    "for labels_count, dataset_name, dataset in [\n",
    "    (3, \"FetalHealth\", repo.get_fetal_health_dataset(random_state=42)),\n",
    "    (2, \"HeartDisease\", repo.get_heart_disease_dataset(random_state=42)),\n",
    "    (2, \"Mushrooms\", repo.get_mushrooms_dataset(random_state=42)),\n",
    "    (2, \"Titanic\", repo.get_titanic_dataset(random_state=42)),\n",
    "    (6, \"Wine\", repo.get_wines_dataset(random_state=42)),\n",
    " ]:\n",
    "    test_data_subset = dataset.test_data.to_numpy()\n",
    "    test_instance = random.choice(test_data_subset)\n",
    "    models = [\n",
    "        (\"Random Forest\", sklearn.ensemble.RandomForestClassifier(n_jobs=-1)),\n",
    "        (\"AdaBoost\", sklearn.ensemble.AdaBoostClassifier()),\n",
    "        (\"DecisionTree\", sklearn.tree.DecisionTreeClassifier()),\n",
    "        (\"Neural Network\", sklearn.neural_network.MLPClassifier()),\n",
    "        # (\"SVM\", sklearn.svm.LinearSVC()), do not provide predict_proba\n",
    "        (\"Naive Bayes\", sklearn.naive_bayes.GaussianNB()),\n",
    "        (\"kNN\", sklearn.neighbors.KNeighborsClassifier())\n",
    "    ]\n",
    "    perform_explain_test(\n",
    "        labels_count,\n",
    "        version_str,\n",
    "        dataset_name,\n",
    "        dataset,\n",
    "        test_instance,\n",
    "        models\n",
    "    )\n"
   ],
   "metadata": {
    "collapsed": false,
    "pycharm": {
     "name": "#%%\n"
    }
   }
  },
  {
   "cell_type": "code",
   "execution_count": 3,
   "outputs": [],
   "source": [],
   "metadata": {
    "collapsed": false,
    "pycharm": {
     "name": "#%%\n"
    }
   }
  }
 ],
 "metadata": {
  "kernelspec": {
   "display_name": "Python 3",
   "language": "python",
   "name": "python3"
  },
  "language_info": {
   "codemirror_mode": {
    "name": "ipython",
    "version": 3
   },
   "file_extension": ".py",
   "mimetype": "text/x-python",
   "name": "python",
   "nbconvert_exporter": "python",
   "pygments_lexer": "ipython3",
   "version": "3.7.2"
  }
 },
 "nbformat": 4,
 "nbformat_minor": 1
}