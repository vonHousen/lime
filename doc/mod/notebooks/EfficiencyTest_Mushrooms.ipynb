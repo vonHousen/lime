{
 "cells": [
  {
   "cell_type": "code",
   "execution_count": 1,
   "metadata": {
    "pycharm": {
     "name": "#%%\n"
    }
   },
   "outputs": [],
   "source": [
    "import pandas as pd\n",
    "import numpy as np\n",
    "import sklearn.ensemble\n",
    "import sklearn.neural_network\n",
    "import sklearn.svm\n",
    "import sklearn.naive_bayes\n",
    "import sklearn.tree\n",
    "import lime.lime_tabular_mod\n",
    "import lime.lime_tabular_multiregressor\n",
    "import matplotlib.pyplot as plt\n",
    "import doc.mod.utils.DatasetRepository as dr\n",
    "import doc.mod.utils.ResultsProcessing as rp\n",
    "from tqdm import tqdm\n",
    "\n",
    "repo = dr.DatasetRepository(\"../data\")\n",
    "\n",
    "\n",
    "pd.set_option(\"display.max_columns\", None)\n",
    "pd.set_option(\"mode.chained_assignment\", None)\n",
    "plt.style.use({\"figure.facecolor\": \"white\"})"
   ]
  },
  {
   "cell_type": "markdown",
   "metadata": {},
   "source": [
    "\n",
    "\n",
    "\n",
    "\n",
    "# Dataset: Mushrooms"
   ]
  },
  {
   "cell_type": "code",
   "execution_count": 2,
   "metadata": {
    "pycharm": {
     "name": "#%%\n"
    }
   },
   "outputs": [
    {
     "data": {
      "text/plain": "      cap-shape_bell  cap-shape_conical  cap-shape_convex  cap-shape_flat  \\\n445                0                  0                 1               0   \n4293               0                  0                 0               1   \n2774               0                  0                 1               0   \n4668               0                  0                 1               0   \n2737               0                  0                 1               0   \n...              ...                ...               ...             ...   \n6996               0                  0                 0               0   \n1998               0                  0                 1               0   \n7988               1                  0                 0               0   \n4387               0                  0                 1               0   \n7254               0                  0                 0               0   \n\n      cap-shape_knobbed  cap-shape_sunken  cap-surface_fibrous  \\\n445                   0                 0                    0   \n4293                  0                 0                    1   \n2774                  0                 0                    1   \n4668                  0                 0                    0   \n2737                  0                 0                    0   \n...                 ...               ...                  ...   \n6996                  1                 0                    0   \n1998                  0                 0                    0   \n7988                  0                 0                    0   \n4387                  0                 0                    1   \n7254                  1                 0                    0   \n\n      cap-surface_grooves  cap-surface_scaly  cap-surface_smooth  \\\n445                     0                  1                   0   \n4293                    0                  0                   0   \n2774                    0                  0                   0   \n4668                    0                  1                   0   \n2737                    0                  1                   0   \n...                   ...                ...                 ...   \n6996                    0                  1                   0   \n1998                    0                  0                   1   \n7988                    0                  0                   1   \n4387                    0                  0                   0   \n7254                    0                  0                   1   \n\n      cap-color_brown  cap-color_buff  cap-color_cinnamon  cap-color_gray  \\\n445                 1               0                   0               0   \n4293                0               0                   0               0   \n2774                0               0                   0               0   \n4668                0               0                   0               1   \n2737                1               0                   0               0   \n...               ...             ...                 ...             ...   \n6996                0               0                   0               0   \n1998                1               0                   0               0   \n7988                1               0                   0               0   \n4387                0               0                   0               1   \n7254                1               0                   0               0   \n\n      cap-color_green  cap-color_pink  cap-color_purple  cap-color_red  \\\n445                 0               0                 0              0   \n4293                0               0                 0              0   \n2774                0               0                 0              1   \n4668                0               0                 0              0   \n2737                0               0                 0              0   \n...               ...             ...               ...            ...   \n6996                0               0                 0              1   \n1998                0               0                 0              0   \n7988                0               0                 0              0   \n4387                0               0                 0              0   \n7254                0               0                 0              0   \n\n      cap-color_white  cap-color_yellow  bruises_bruises  bruises_no  \\\n445                 0                 0                1           0   \n4293                0                 1                0           1   \n2774                0                 0                1           0   \n4668                0                 0                0           1   \n2737                0                 0                1           0   \n...               ...               ...              ...         ...   \n6996                0                 0                0           1   \n1998                0                 0                0           1   \n7988                0                 0                0           1   \n4387                0                 0                0           1   \n7254                0                 0                0           1   \n\n      odor_almond  odor_anise  odor_creosote  odor_fishy  odor_foul  \\\n445             0           1              0           0          0   \n4293            0           0              0           0          1   \n2774            0           0              0           0          0   \n4668            0           0              0           0          1   \n2737            0           0              0           0          0   \n...           ...         ...            ...         ...        ...   \n6996            0           0              0           0          0   \n1998            0           0              0           0          0   \n7988            0           0              0           0          0   \n4387            0           0              0           0          1   \n7254            0           0              0           1          0   \n\n      odor_musty  odor_none  odor_pungent  odor_spicy  \\\n445            0          0             0           0   \n4293           0          0             0           0   \n2774           0          1             0           0   \n4668           0          0             0           0   \n2737           0          1             0           0   \n...          ...        ...           ...         ...   \n6996           0          0             0           1   \n1998           0          1             0           0   \n7988           0          1             0           0   \n4387           0          0             0           0   \n7254           0          0             0           0   \n\n      gill-attachment_attached  gill-attachment_free  gill-spacing_close  \\\n445                          0                     1                   1   \n4293                         0                     1                   1   \n2774                         0                     1                   1   \n4668                         0                     1                   1   \n2737                         0                     1                   1   \n...                        ...                   ...                 ...   \n6996                         0                     1                   1   \n1998                         0                     1                   0   \n7988                         1                     0                   1   \n4387                         0                     1                   1   \n7254                         0                     1                   1   \n\n      gill-spacing_crowded  gill-size_broad  gill-size_narrow  \\\n445                      0                1                 0   \n4293                     0                1                 0   \n2774                     0                1                 0   \n4668                     0                1                 0   \n2737                     0                1                 0   \n...                    ...              ...               ...   \n6996                     0                0                 1   \n1998                     1                1                 0   \n7988                     0                1                 0   \n4387                     0                1                 0   \n7254                     0                0                 1   \n\n      gill-color_black  gill-color_brown  gill-color_buff  \\\n445                  0                 0                0   \n4293                 0                 0                0   \n2774                 0                 0                0   \n4668                 0                 0                0   \n2737                 0                 0                0   \n...                ...               ...              ...   \n6996                 0                 0                1   \n1998                 1                 0                0   \n7988                 0                 0                0   \n4387                 0                 0                0   \n7254                 0                 0                1   \n\n      gill-color_chocolate  gill-color_gray  gill-color_green  \\\n445                      0                0                 0   \n4293                     0                0                 0   \n2774                     0                0                 0   \n4668                     0                1                 0   \n2737                     0                0                 0   \n...                    ...              ...               ...   \n6996                     0                0                 0   \n1998                     0                0                 0   \n7988                     0                0                 0   \n4387                     0                0                 0   \n7254                     0                0                 0   \n\n      gill-color_orange  gill-color_pink  gill-color_purple  gill-color_red  \\\n445                   0                1                  0               0   \n4293                  0                1                  0               0   \n2774                  0                1                  0               0   \n4668                  0                0                  0               0   \n2737                  0                0                  0               0   \n...                 ...              ...                ...             ...   \n6996                  0                0                  0               0   \n1998                  0                0                  0               0   \n7988                  1                0                  0               0   \n4387                  0                1                  0               0   \n7254                  0                0                  0               0   \n\n      gill-color_white  gill-color_yellow  stalk-shape_enlarging  \\\n445                  0                  0                      1   \n4293                 0                  0                      1   \n2774                 0                  0                      0   \n4668                 0                  0                      1   \n2737                 1                  0                      0   \n...                ...                ...                    ...   \n6996                 0                  0                      0   \n1998                 0                  0                      0   \n7988                 0                  0                      1   \n4387                 0                  0                      1   \n7254                 0                  0                      0   \n\n      stalk-shape_tapering  stalk-root_bulbous  stalk-root_club  \\\n445                      0                   0                0   \n4293                     0                   1                0   \n2774                     1                   1                0   \n4668                     0                   1                0   \n2737                     1                   1                0   \n...                    ...                 ...              ...   \n6996                     1                   0                0   \n1998                     1                   0                0   \n7988                     0                   0                0   \n4387                     0                   1                0   \n7254                     1                   0                0   \n\n      stalk-root_equal  stalk-root_rooted  stalk-root_unknown  \\\n445                  0                  1                   0   \n4293                 0                  0                   0   \n2774                 0                  0                   0   \n4668                 0                  0                   0   \n2737                 0                  0                   0   \n...                ...                ...                 ...   \n6996                 0                  0                   1   \n1998                 1                  0                   0   \n7988                 0                  0                   1   \n4387                 0                  0                   0   \n7254                 0                  0                   1   \n\n      stalk-surface-above-ring_fibrous  stalk-surface-above-ring_scaly  \\\n445                                  0                               0   \n4293                                 0                               0   \n2774                                 0                               0   \n4668                                 0                               0   \n2737                                 0                               0   \n...                                ...                             ...   \n6996                                 0                               0   \n1998                                 1                               0   \n7988                                 0                               0   \n4387                                 0                               0   \n7254                                 0                               0   \n\n      stalk-surface-above-ring_silky  stalk-surface-above-ring_smooth  \\\n445                                0                                1   \n4293                               1                                0   \n2774                               0                                1   \n4668                               1                                0   \n2737                               0                                1   \n...                              ...                              ...   \n6996                               0                                1   \n1998                               0                                0   \n7988                               0                                1   \n4387                               1                                0   \n7254                               1                                0   \n\n      stalk-surface-below-ring_fibrous  stalk-surface-below-ring_scaly  \\\n445                                  0                               1   \n4293                                 0                               0   \n2774                                 0                               0   \n4668                                 0                               0   \n2737                                 0                               0   \n...                                ...                             ...   \n6996                                 0                               0   \n1998                                 1                               0   \n7988                                 0                               0   \n4387                                 0                               0   \n7254                                 0                               0   \n\n      stalk-surface-below-ring_silky  stalk-surface-below-ring_smooth  \\\n445                                0                                0   \n4293                               1                                0   \n2774                               0                                1   \n4668                               1                                0   \n2737                               0                                1   \n...                              ...                              ...   \n6996                               1                                0   \n1998                               0                                0   \n7988                               0                                1   \n4387                               1                                0   \n7254                               1                                0   \n\n      stalk-color-above-ring_brown  stalk-color-above-ring_buff  \\\n445                              0                            0   \n4293                             0                            0   \n2774                             0                            0   \n4668                             0                            0   \n2737                             0                            0   \n...                            ...                          ...   \n6996                             0                            0   \n1998                             0                            0   \n7988                             0                            0   \n4387                             1                            0   \n7254                             0                            0   \n\n      stalk-color-above-ring_cinnamon  stalk-color-above-ring_gray  \\\n445                                 0                            0   \n4293                                0                            0   \n2774                                0                            0   \n4668                                0                            0   \n2737                                0                            0   \n...                               ...                          ...   \n6996                                0                            0   \n1998                                0                            0   \n7988                                0                            0   \n4387                                0                            0   \n7254                                0                            0   \n\n      stalk-color-above-ring_orange  stalk-color-above-ring_pink  \\\n445                               0                            0   \n4293                              0                            1   \n2774                              0                            1   \n4668                              0                            1   \n2737                              0                            0   \n...                             ...                          ...   \n6996                              0                            0   \n1998                              0                            0   \n7988                              1                            0   \n4387                              0                            0   \n7254                              0                            0   \n\n      stalk-color-above-ring_red  stalk-color-above-ring_white  \\\n445                            0                             1   \n4293                           0                             0   \n2774                           0                             0   \n4668                           0                             0   \n2737                           0                             1   \n...                          ...                           ...   \n6996                           0                             1   \n1998                           0                             1   \n7988                           0                             0   \n4387                           0                             0   \n7254                           0                             1   \n\n      stalk-color-above-ring_yellow  stalk-color-below-ring_brown  \\\n445                               0                             0   \n4293                              0                             1   \n2774                              0                             0   \n4668                              0                             0   \n2737                              0                             0   \n...                             ...                           ...   \n6996                              0                             0   \n1998                              0                             0   \n7988                              0                             0   \n4387                              0                             1   \n7254                              0                             0   \n\n      stalk-color-below-ring_buff  stalk-color-below-ring_cinnamon  \\\n445                             0                                0   \n4293                            0                                0   \n2774                            0                                0   \n4668                            1                                0   \n2737                            0                                0   \n...                           ...                              ...   \n6996                            0                                0   \n1998                            0                                0   \n7988                            0                                0   \n4387                            0                                0   \n7254                            0                                0   \n\n      stalk-color-below-ring_gray  stalk-color-below-ring_orange  \\\n445                             0                              0   \n4293                            0                              0   \n2774                            1                              0   \n4668                            0                              0   \n2737                            1                              0   \n...                           ...                            ...   \n6996                            0                              0   \n1998                            0                              0   \n7988                            0                              1   \n4387                            0                              0   \n7254                            0                              0   \n\n      stalk-color-below-ring_pink  stalk-color-below-ring_red  \\\n445                             0                           0   \n4293                            0                           0   \n2774                            0                           0   \n4668                            0                           0   \n2737                            0                           0   \n...                           ...                         ...   \n6996                            1                           0   \n1998                            0                           0   \n7988                            0                           0   \n4387                            0                           0   \n7254                            1                           0   \n\n      stalk-color-below-ring_white  stalk-color-below-ring_yellow  \\\n445                              1                              0   \n4293                             0                              0   \n2774                             0                              0   \n4668                             0                              0   \n2737                             0                              0   \n...                            ...                            ...   \n6996                             0                              0   \n1998                             1                              0   \n7988                             0                              0   \n4387                             0                              0   \n7254                             0                              0   \n\n      veil-type_partial  veil-color_brown  veil-color_orange  \\\n445                   1                 0                  0   \n4293                  1                 0                  0   \n2774                  1                 0                  0   \n4668                  1                 0                  0   \n2737                  1                 0                  0   \n...                 ...               ...                ...   \n6996                  1                 0                  0   \n1998                  1                 0                  0   \n7988                  1                 0                  1   \n4387                  1                 0                  0   \n7254                  1                 0                  0   \n\n      veil-color_white  veil-color_yellow  ring-number_none  ring-number_one  \\\n445                  1                  0                 0                1   \n4293                 1                  0                 0                1   \n2774                 1                  0                 0                1   \n4668                 1                  0                 0                1   \n2737                 1                  0                 0                1   \n...                ...                ...               ...              ...   \n6996                 1                  0                 0                1   \n1998                 1                  0                 0                1   \n7988                 0                  0                 0                1   \n4387                 1                  0                 0                1   \n7254                 1                  0                 0                1   \n\n      ring-number_two  ring-type_evanescent  ring-type_flaring  \\\n445                 0                     0                  0   \n4293                0                     0                  0   \n2774                0                     0                  0   \n4668                0                     0                  0   \n2737                0                     0                  0   \n...               ...                   ...                ...   \n6996                0                     1                  0   \n1998                0                     1                  0   \n7988                0                     0                  0   \n4387                0                     0                  0   \n7254                0                     1                  0   \n\n      ring-type_large  ring-type_none  ring-type_pendant  \\\n445                 0               0                  1   \n4293                1               0                  0   \n2774                0               0                  1   \n4668                1               0                  0   \n2737                0               0                  1   \n...               ...             ...                ...   \n6996                0               0                  0   \n1998                0               0                  0   \n7988                0               0                  1   \n4387                1               0                  0   \n7254                0               0                  0   \n\n      spore-print-color_black  spore-print-color_brown  \\\n445                         1                        0   \n4293                        0                        0   \n2774                        1                        0   \n4668                        0                        0   \n2737                        1                        0   \n...                       ...                      ...   \n6996                        0                        0   \n1998                        1                        0   \n7988                        0                        0   \n4387                        0                        0   \n7254                        0                        0   \n\n      spore-print-color_buff  spore-print-color_chocolate  \\\n445                        0                            0   \n4293                       0                            1   \n2774                       0                            0   \n4668                       0                            1   \n2737                       0                            0   \n...                      ...                          ...   \n6996                       0                            0   \n1998                       0                            0   \n7988                       1                            0   \n4387                       0                            1   \n7254                       0                            0   \n\n      spore-print-color_green  spore-print-color_orange  \\\n445                         0                         0   \n4293                        0                         0   \n2774                        0                         0   \n4668                        0                         0   \n2737                        0                         0   \n...                       ...                       ...   \n6996                        0                         0   \n1998                        0                         0   \n7988                        0                         0   \n4387                        0                         0   \n7254                        0                         0   \n\n      spore-print-color_purple  spore-print-color_white  \\\n445                          0                        0   \n4293                         0                        0   \n2774                         0                        0   \n4668                         0                        0   \n2737                         0                        0   \n...                        ...                      ...   \n6996                         0                        1   \n1998                         0                        0   \n7988                         0                        0   \n4387                         0                        0   \n7254                         0                        1   \n\n      spore-print-color_yellow  population_abundant  population_clustered  \\\n445                          0                    0                     0   \n4293                         0                    0                     0   \n2774                         0                    0                     0   \n4668                         0                    0                     0   \n2737                         0                    0                     0   \n...                        ...                  ...                   ...   \n6996                         0                    0                     0   \n1998                         0                    1                     0   \n7988                         0                    0                     1   \n4387                         0                    0                     0   \n7254                         0                    0                     0   \n\n      population_numerous  population_scattered  population_several  \\\n445                     0                     1                   0   \n4293                    0                     0                   1   \n2774                    0                     0                   1   \n4668                    0                     0                   0   \n2737                    0                     0                   0   \n...                   ...                   ...                 ...   \n6996                    0                     0                   1   \n1998                    0                     0                   0   \n7988                    0                     0                   0   \n4387                    0                     0                   0   \n7254                    0                     0                   1   \n\n      population_solitary  habitat_grasses  habitat_leaves  habitat_meadows  \\\n445                     0                1               0                0   \n4293                    0                0               0                0   \n2774                    0                0               0                0   \n4668                    1                0               0                0   \n2737                    1                0               0                0   \n...                   ...              ...             ...              ...   \n6996                    0                0               0                0   \n1998                    0                1               0                0   \n7988                    0                0               1                0   \n4387                    1                1               0                0   \n7254                    0                0               0                0   \n\n      habitat_paths  habitat_urban  habitat_waste  habitat_woods  \n445               0              0              0              0  \n4293              1              0              0              0  \n2774              0              0              0              1  \n4668              1              0              0              0  \n2737              0              0              0              1  \n...             ...            ...            ...            ...  \n6996              0              0              0              1  \n1998              0              0              0              0  \n7988              0              0              0              0  \n4387              0              0              0              0  \n7254              0              0              0              1  \n\n[6499 rows x 117 columns]",
      "text/html": "<div>\n<style scoped>\n    .dataframe tbody tr th:only-of-type {\n        vertical-align: middle;\n    }\n\n    .dataframe tbody tr th {\n        vertical-align: top;\n    }\n\n    .dataframe thead th {\n        text-align: right;\n    }\n</style>\n<table border=\"1\" class=\"dataframe\">\n  <thead>\n    <tr style=\"text-align: right;\">\n      <th></th>\n      <th>cap-shape_bell</th>\n      <th>cap-shape_conical</th>\n      <th>cap-shape_convex</th>\n      <th>cap-shape_flat</th>\n      <th>cap-shape_knobbed</th>\n      <th>cap-shape_sunken</th>\n      <th>cap-surface_fibrous</th>\n      <th>cap-surface_grooves</th>\n      <th>cap-surface_scaly</th>\n      <th>cap-surface_smooth</th>\n      <th>cap-color_brown</th>\n      <th>cap-color_buff</th>\n      <th>cap-color_cinnamon</th>\n      <th>cap-color_gray</th>\n      <th>cap-color_green</th>\n      <th>cap-color_pink</th>\n      <th>cap-color_purple</th>\n      <th>cap-color_red</th>\n      <th>cap-color_white</th>\n      <th>cap-color_yellow</th>\n      <th>bruises_bruises</th>\n      <th>bruises_no</th>\n      <th>odor_almond</th>\n      <th>odor_anise</th>\n      <th>odor_creosote</th>\n      <th>odor_fishy</th>\n      <th>odor_foul</th>\n      <th>odor_musty</th>\n      <th>odor_none</th>\n      <th>odor_pungent</th>\n      <th>odor_spicy</th>\n      <th>gill-attachment_attached</th>\n      <th>gill-attachment_free</th>\n      <th>gill-spacing_close</th>\n      <th>gill-spacing_crowded</th>\n      <th>gill-size_broad</th>\n      <th>gill-size_narrow</th>\n      <th>gill-color_black</th>\n      <th>gill-color_brown</th>\n      <th>gill-color_buff</th>\n      <th>gill-color_chocolate</th>\n      <th>gill-color_gray</th>\n      <th>gill-color_green</th>\n      <th>gill-color_orange</th>\n      <th>gill-color_pink</th>\n      <th>gill-color_purple</th>\n      <th>gill-color_red</th>\n      <th>gill-color_white</th>\n      <th>gill-color_yellow</th>\n      <th>stalk-shape_enlarging</th>\n      <th>stalk-shape_tapering</th>\n      <th>stalk-root_bulbous</th>\n      <th>stalk-root_club</th>\n      <th>stalk-root_equal</th>\n      <th>stalk-root_rooted</th>\n      <th>stalk-root_unknown</th>\n      <th>stalk-surface-above-ring_fibrous</th>\n      <th>stalk-surface-above-ring_scaly</th>\n      <th>stalk-surface-above-ring_silky</th>\n      <th>stalk-surface-above-ring_smooth</th>\n      <th>stalk-surface-below-ring_fibrous</th>\n      <th>stalk-surface-below-ring_scaly</th>\n      <th>stalk-surface-below-ring_silky</th>\n      <th>stalk-surface-below-ring_smooth</th>\n      <th>stalk-color-above-ring_brown</th>\n      <th>stalk-color-above-ring_buff</th>\n      <th>stalk-color-above-ring_cinnamon</th>\n      <th>stalk-color-above-ring_gray</th>\n      <th>stalk-color-above-ring_orange</th>\n      <th>stalk-color-above-ring_pink</th>\n      <th>stalk-color-above-ring_red</th>\n      <th>stalk-color-above-ring_white</th>\n      <th>stalk-color-above-ring_yellow</th>\n      <th>stalk-color-below-ring_brown</th>\n      <th>stalk-color-below-ring_buff</th>\n      <th>stalk-color-below-ring_cinnamon</th>\n      <th>stalk-color-below-ring_gray</th>\n      <th>stalk-color-below-ring_orange</th>\n      <th>stalk-color-below-ring_pink</th>\n      <th>stalk-color-below-ring_red</th>\n      <th>stalk-color-below-ring_white</th>\n      <th>stalk-color-below-ring_yellow</th>\n      <th>veil-type_partial</th>\n      <th>veil-color_brown</th>\n      <th>veil-color_orange</th>\n      <th>veil-color_white</th>\n      <th>veil-color_yellow</th>\n      <th>ring-number_none</th>\n      <th>ring-number_one</th>\n      <th>ring-number_two</th>\n      <th>ring-type_evanescent</th>\n      <th>ring-type_flaring</th>\n      <th>ring-type_large</th>\n      <th>ring-type_none</th>\n      <th>ring-type_pendant</th>\n      <th>spore-print-color_black</th>\n      <th>spore-print-color_brown</th>\n      <th>spore-print-color_buff</th>\n      <th>spore-print-color_chocolate</th>\n      <th>spore-print-color_green</th>\n      <th>spore-print-color_orange</th>\n      <th>spore-print-color_purple</th>\n      <th>spore-print-color_white</th>\n      <th>spore-print-color_yellow</th>\n      <th>population_abundant</th>\n      <th>population_clustered</th>\n      <th>population_numerous</th>\n      <th>population_scattered</th>\n      <th>population_several</th>\n      <th>population_solitary</th>\n      <th>habitat_grasses</th>\n      <th>habitat_leaves</th>\n      <th>habitat_meadows</th>\n      <th>habitat_paths</th>\n      <th>habitat_urban</th>\n      <th>habitat_waste</th>\n      <th>habitat_woods</th>\n    </tr>\n  </thead>\n  <tbody>\n    <tr>\n      <th>445</th>\n      <td>0</td>\n      <td>0</td>\n      <td>1</td>\n      <td>0</td>\n      <td>0</td>\n      <td>0</td>\n      <td>0</td>\n      <td>0</td>\n      <td>1</td>\n      <td>0</td>\n      <td>1</td>\n      <td>0</td>\n      <td>0</td>\n      <td>0</td>\n      <td>0</td>\n      <td>0</td>\n      <td>0</td>\n      <td>0</td>\n      <td>0</td>\n      <td>0</td>\n      <td>1</td>\n      <td>0</td>\n      <td>0</td>\n      <td>1</td>\n      <td>0</td>\n      <td>0</td>\n      <td>0</td>\n      <td>0</td>\n      <td>0</td>\n      <td>0</td>\n      <td>0</td>\n      <td>0</td>\n      <td>1</td>\n      <td>1</td>\n      <td>0</td>\n      <td>1</td>\n      <td>0</td>\n      <td>0</td>\n      <td>0</td>\n      <td>0</td>\n      <td>0</td>\n      <td>0</td>\n      <td>0</td>\n      <td>0</td>\n      <td>1</td>\n      <td>0</td>\n      <td>0</td>\n      <td>0</td>\n      <td>0</td>\n      <td>1</td>\n      <td>0</td>\n      <td>0</td>\n      <td>0</td>\n      <td>0</td>\n      <td>1</td>\n      <td>0</td>\n      <td>0</td>\n      <td>0</td>\n      <td>0</td>\n      <td>1</td>\n      <td>0</td>\n      <td>1</td>\n      <td>0</td>\n      <td>0</td>\n      <td>0</td>\n      <td>0</td>\n      <td>0</td>\n      <td>0</td>\n      <td>0</td>\n      <td>0</td>\n      <td>0</td>\n      <td>1</td>\n      <td>0</td>\n      <td>0</td>\n      <td>0</td>\n      <td>0</td>\n      <td>0</td>\n      <td>0</td>\n      <td>0</td>\n      <td>0</td>\n      <td>1</td>\n      <td>0</td>\n      <td>1</td>\n      <td>0</td>\n      <td>0</td>\n      <td>1</td>\n      <td>0</td>\n      <td>0</td>\n      <td>1</td>\n      <td>0</td>\n      <td>0</td>\n      <td>0</td>\n      <td>0</td>\n      <td>0</td>\n      <td>1</td>\n      <td>1</td>\n      <td>0</td>\n      <td>0</td>\n      <td>0</td>\n      <td>0</td>\n      <td>0</td>\n      <td>0</td>\n      <td>0</td>\n      <td>0</td>\n      <td>0</td>\n      <td>0</td>\n      <td>0</td>\n      <td>1</td>\n      <td>0</td>\n      <td>0</td>\n      <td>1</td>\n      <td>0</td>\n      <td>0</td>\n      <td>0</td>\n      <td>0</td>\n      <td>0</td>\n      <td>0</td>\n    </tr>\n    <tr>\n      <th>4293</th>\n      <td>0</td>\n      <td>0</td>\n      <td>0</td>\n      <td>1</td>\n      <td>0</td>\n      <td>0</td>\n      <td>1</td>\n      <td>0</td>\n      <td>0</td>\n      <td>0</td>\n      <td>0</td>\n      <td>0</td>\n      <td>0</td>\n      <td>0</td>\n      <td>0</td>\n      <td>0</td>\n      <td>0</td>\n      <td>0</td>\n      <td>0</td>\n      <td>1</td>\n      <td>0</td>\n      <td>1</td>\n      <td>0</td>\n      <td>0</td>\n      <td>0</td>\n      <td>0</td>\n      <td>1</td>\n      <td>0</td>\n      <td>0</td>\n      <td>0</td>\n      <td>0</td>\n      <td>0</td>\n      <td>1</td>\n      <td>1</td>\n      <td>0</td>\n      <td>1</td>\n      <td>0</td>\n      <td>0</td>\n      <td>0</td>\n      <td>0</td>\n      <td>0</td>\n      <td>0</td>\n      <td>0</td>\n      <td>0</td>\n      <td>1</td>\n      <td>0</td>\n      <td>0</td>\n      <td>0</td>\n      <td>0</td>\n      <td>1</td>\n      <td>0</td>\n      <td>1</td>\n      <td>0</td>\n      <td>0</td>\n      <td>0</td>\n      <td>0</td>\n      <td>0</td>\n      <td>0</td>\n      <td>1</td>\n      <td>0</td>\n      <td>0</td>\n      <td>0</td>\n      <td>1</td>\n      <td>0</td>\n      <td>0</td>\n      <td>0</td>\n      <td>0</td>\n      <td>0</td>\n      <td>0</td>\n      <td>1</td>\n      <td>0</td>\n      <td>0</td>\n      <td>0</td>\n      <td>1</td>\n      <td>0</td>\n      <td>0</td>\n      <td>0</td>\n      <td>0</td>\n      <td>0</td>\n      <td>0</td>\n      <td>0</td>\n      <td>0</td>\n      <td>1</td>\n      <td>0</td>\n      <td>0</td>\n      <td>1</td>\n      <td>0</td>\n      <td>0</td>\n      <td>1</td>\n      <td>0</td>\n      <td>0</td>\n      <td>0</td>\n      <td>1</td>\n      <td>0</td>\n      <td>0</td>\n      <td>0</td>\n      <td>0</td>\n      <td>0</td>\n      <td>1</td>\n      <td>0</td>\n      <td>0</td>\n      <td>0</td>\n      <td>0</td>\n      <td>0</td>\n      <td>0</td>\n      <td>0</td>\n      <td>0</td>\n      <td>0</td>\n      <td>1</td>\n      <td>0</td>\n      <td>0</td>\n      <td>0</td>\n      <td>0</td>\n      <td>1</td>\n      <td>0</td>\n      <td>0</td>\n      <td>0</td>\n    </tr>\n    <tr>\n      <th>2774</th>\n      <td>0</td>\n      <td>0</td>\n      <td>1</td>\n      <td>0</td>\n      <td>0</td>\n      <td>0</td>\n      <td>1</td>\n      <td>0</td>\n      <td>0</td>\n      <td>0</td>\n      <td>0</td>\n      <td>0</td>\n      <td>0</td>\n      <td>0</td>\n      <td>0</td>\n      <td>0</td>\n      <td>0</td>\n      <td>1</td>\n      <td>0</td>\n      <td>0</td>\n      <td>1</td>\n      <td>0</td>\n      <td>0</td>\n      <td>0</td>\n      <td>0</td>\n      <td>0</td>\n      <td>0</td>\n      <td>0</td>\n      <td>1</td>\n      <td>0</td>\n      <td>0</td>\n      <td>0</td>\n      <td>1</td>\n      <td>1</td>\n      <td>0</td>\n      <td>1</td>\n      <td>0</td>\n      <td>0</td>\n      <td>0</td>\n      <td>0</td>\n      <td>0</td>\n      <td>0</td>\n      <td>0</td>\n      <td>0</td>\n      <td>1</td>\n      <td>0</td>\n      <td>0</td>\n      <td>0</td>\n      <td>0</td>\n      <td>0</td>\n      <td>1</td>\n      <td>1</td>\n      <td>0</td>\n      <td>0</td>\n      <td>0</td>\n      <td>0</td>\n      <td>0</td>\n      <td>0</td>\n      <td>0</td>\n      <td>1</td>\n      <td>0</td>\n      <td>0</td>\n      <td>0</td>\n      <td>1</td>\n      <td>0</td>\n      <td>0</td>\n      <td>0</td>\n      <td>0</td>\n      <td>0</td>\n      <td>1</td>\n      <td>0</td>\n      <td>0</td>\n      <td>0</td>\n      <td>0</td>\n      <td>0</td>\n      <td>0</td>\n      <td>1</td>\n      <td>0</td>\n      <td>0</td>\n      <td>0</td>\n      <td>0</td>\n      <td>0</td>\n      <td>1</td>\n      <td>0</td>\n      <td>0</td>\n      <td>1</td>\n      <td>0</td>\n      <td>0</td>\n      <td>1</td>\n      <td>0</td>\n      <td>0</td>\n      <td>0</td>\n      <td>0</td>\n      <td>0</td>\n      <td>1</td>\n      <td>1</td>\n      <td>0</td>\n      <td>0</td>\n      <td>0</td>\n      <td>0</td>\n      <td>0</td>\n      <td>0</td>\n      <td>0</td>\n      <td>0</td>\n      <td>0</td>\n      <td>0</td>\n      <td>0</td>\n      <td>0</td>\n      <td>1</td>\n      <td>0</td>\n      <td>0</td>\n      <td>0</td>\n      <td>0</td>\n      <td>0</td>\n      <td>0</td>\n      <td>0</td>\n      <td>1</td>\n    </tr>\n    <tr>\n      <th>4668</th>\n      <td>0</td>\n      <td>0</td>\n      <td>1</td>\n      <td>0</td>\n      <td>0</td>\n      <td>0</td>\n      <td>0</td>\n      <td>0</td>\n      <td>1</td>\n      <td>0</td>\n      <td>0</td>\n      <td>0</td>\n      <td>0</td>\n      <td>1</td>\n      <td>0</td>\n      <td>0</td>\n      <td>0</td>\n      <td>0</td>\n      <td>0</td>\n      <td>0</td>\n      <td>0</td>\n      <td>1</td>\n      <td>0</td>\n      <td>0</td>\n      <td>0</td>\n      <td>0</td>\n      <td>1</td>\n      <td>0</td>\n      <td>0</td>\n      <td>0</td>\n      <td>0</td>\n      <td>0</td>\n      <td>1</td>\n      <td>1</td>\n      <td>0</td>\n      <td>1</td>\n      <td>0</td>\n      <td>0</td>\n      <td>0</td>\n      <td>0</td>\n      <td>0</td>\n      <td>1</td>\n      <td>0</td>\n      <td>0</td>\n      <td>0</td>\n      <td>0</td>\n      <td>0</td>\n      <td>0</td>\n      <td>0</td>\n      <td>1</td>\n      <td>0</td>\n      <td>1</td>\n      <td>0</td>\n      <td>0</td>\n      <td>0</td>\n      <td>0</td>\n      <td>0</td>\n      <td>0</td>\n      <td>1</td>\n      <td>0</td>\n      <td>0</td>\n      <td>0</td>\n      <td>1</td>\n      <td>0</td>\n      <td>0</td>\n      <td>0</td>\n      <td>0</td>\n      <td>0</td>\n      <td>0</td>\n      <td>1</td>\n      <td>0</td>\n      <td>0</td>\n      <td>0</td>\n      <td>0</td>\n      <td>1</td>\n      <td>0</td>\n      <td>0</td>\n      <td>0</td>\n      <td>0</td>\n      <td>0</td>\n      <td>0</td>\n      <td>0</td>\n      <td>1</td>\n      <td>0</td>\n      <td>0</td>\n      <td>1</td>\n      <td>0</td>\n      <td>0</td>\n      <td>1</td>\n      <td>0</td>\n      <td>0</td>\n      <td>0</td>\n      <td>1</td>\n      <td>0</td>\n      <td>0</td>\n      <td>0</td>\n      <td>0</td>\n      <td>0</td>\n      <td>1</td>\n      <td>0</td>\n      <td>0</td>\n      <td>0</td>\n      <td>0</td>\n      <td>0</td>\n      <td>0</td>\n      <td>0</td>\n      <td>0</td>\n      <td>0</td>\n      <td>0</td>\n      <td>1</td>\n      <td>0</td>\n      <td>0</td>\n      <td>0</td>\n      <td>1</td>\n      <td>0</td>\n      <td>0</td>\n      <td>0</td>\n    </tr>\n    <tr>\n      <th>2737</th>\n      <td>0</td>\n      <td>0</td>\n      <td>1</td>\n      <td>0</td>\n      <td>0</td>\n      <td>0</td>\n      <td>0</td>\n      <td>0</td>\n      <td>1</td>\n      <td>0</td>\n      <td>1</td>\n      <td>0</td>\n      <td>0</td>\n      <td>0</td>\n      <td>0</td>\n      <td>0</td>\n      <td>0</td>\n      <td>0</td>\n      <td>0</td>\n      <td>0</td>\n      <td>1</td>\n      <td>0</td>\n      <td>0</td>\n      <td>0</td>\n      <td>0</td>\n      <td>0</td>\n      <td>0</td>\n      <td>0</td>\n      <td>1</td>\n      <td>0</td>\n      <td>0</td>\n      <td>0</td>\n      <td>1</td>\n      <td>1</td>\n      <td>0</td>\n      <td>1</td>\n      <td>0</td>\n      <td>0</td>\n      <td>0</td>\n      <td>0</td>\n      <td>0</td>\n      <td>0</td>\n      <td>0</td>\n      <td>0</td>\n      <td>0</td>\n      <td>0</td>\n      <td>0</td>\n      <td>1</td>\n      <td>0</td>\n      <td>0</td>\n      <td>1</td>\n      <td>1</td>\n      <td>0</td>\n      <td>0</td>\n      <td>0</td>\n      <td>0</td>\n      <td>0</td>\n      <td>0</td>\n      <td>0</td>\n      <td>1</td>\n      <td>0</td>\n      <td>0</td>\n      <td>0</td>\n      <td>1</td>\n      <td>0</td>\n      <td>0</td>\n      <td>0</td>\n      <td>0</td>\n      <td>0</td>\n      <td>0</td>\n      <td>0</td>\n      <td>1</td>\n      <td>0</td>\n      <td>0</td>\n      <td>0</td>\n      <td>0</td>\n      <td>1</td>\n      <td>0</td>\n      <td>0</td>\n      <td>0</td>\n      <td>0</td>\n      <td>0</td>\n      <td>1</td>\n      <td>0</td>\n      <td>0</td>\n      <td>1</td>\n      <td>0</td>\n      <td>0</td>\n      <td>1</td>\n      <td>0</td>\n      <td>0</td>\n      <td>0</td>\n      <td>0</td>\n      <td>0</td>\n      <td>1</td>\n      <td>1</td>\n      <td>0</td>\n      <td>0</td>\n      <td>0</td>\n      <td>0</td>\n      <td>0</td>\n      <td>0</td>\n      <td>0</td>\n      <td>0</td>\n      <td>0</td>\n      <td>0</td>\n      <td>0</td>\n      <td>0</td>\n      <td>0</td>\n      <td>1</td>\n      <td>0</td>\n      <td>0</td>\n      <td>0</td>\n      <td>0</td>\n      <td>0</td>\n      <td>0</td>\n      <td>1</td>\n    </tr>\n    <tr>\n      <th>...</th>\n      <td>...</td>\n      <td>...</td>\n      <td>...</td>\n      <td>...</td>\n      <td>...</td>\n      <td>...</td>\n      <td>...</td>\n      <td>...</td>\n      <td>...</td>\n      <td>...</td>\n      <td>...</td>\n      <td>...</td>\n      <td>...</td>\n      <td>...</td>\n      <td>...</td>\n      <td>...</td>\n      <td>...</td>\n      <td>...</td>\n      <td>...</td>\n      <td>...</td>\n      <td>...</td>\n      <td>...</td>\n      <td>...</td>\n      <td>...</td>\n      <td>...</td>\n      <td>...</td>\n      <td>...</td>\n      <td>...</td>\n      <td>...</td>\n      <td>...</td>\n      <td>...</td>\n      <td>...</td>\n      <td>...</td>\n      <td>...</td>\n      <td>...</td>\n      <td>...</td>\n      <td>...</td>\n      <td>...</td>\n      <td>...</td>\n      <td>...</td>\n      <td>...</td>\n      <td>...</td>\n      <td>...</td>\n      <td>...</td>\n      <td>...</td>\n      <td>...</td>\n      <td>...</td>\n      <td>...</td>\n      <td>...</td>\n      <td>...</td>\n      <td>...</td>\n      <td>...</td>\n      <td>...</td>\n      <td>...</td>\n      <td>...</td>\n      <td>...</td>\n      <td>...</td>\n      <td>...</td>\n      <td>...</td>\n      <td>...</td>\n      <td>...</td>\n      <td>...</td>\n      <td>...</td>\n      <td>...</td>\n      <td>...</td>\n      <td>...</td>\n      <td>...</td>\n      <td>...</td>\n      <td>...</td>\n      <td>...</td>\n      <td>...</td>\n      <td>...</td>\n      <td>...</td>\n      <td>...</td>\n      <td>...</td>\n      <td>...</td>\n      <td>...</td>\n      <td>...</td>\n      <td>...</td>\n      <td>...</td>\n      <td>...</td>\n      <td>...</td>\n      <td>...</td>\n      <td>...</td>\n      <td>...</td>\n      <td>...</td>\n      <td>...</td>\n      <td>...</td>\n      <td>...</td>\n      <td>...</td>\n      <td>...</td>\n      <td>...</td>\n      <td>...</td>\n      <td>...</td>\n      <td>...</td>\n      <td>...</td>\n      <td>...</td>\n      <td>...</td>\n      <td>...</td>\n      <td>...</td>\n      <td>...</td>\n      <td>...</td>\n      <td>...</td>\n      <td>...</td>\n      <td>...</td>\n      <td>...</td>\n      <td>...</td>\n      <td>...</td>\n      <td>...</td>\n      <td>...</td>\n      <td>...</td>\n      <td>...</td>\n      <td>...</td>\n      <td>...</td>\n      <td>...</td>\n      <td>...</td>\n      <td>...</td>\n    </tr>\n    <tr>\n      <th>6996</th>\n      <td>0</td>\n      <td>0</td>\n      <td>0</td>\n      <td>0</td>\n      <td>1</td>\n      <td>0</td>\n      <td>0</td>\n      <td>0</td>\n      <td>1</td>\n      <td>0</td>\n      <td>0</td>\n      <td>0</td>\n      <td>0</td>\n      <td>0</td>\n      <td>0</td>\n      <td>0</td>\n      <td>0</td>\n      <td>1</td>\n      <td>0</td>\n      <td>0</td>\n      <td>0</td>\n      <td>1</td>\n      <td>0</td>\n      <td>0</td>\n      <td>0</td>\n      <td>0</td>\n      <td>0</td>\n      <td>0</td>\n      <td>0</td>\n      <td>0</td>\n      <td>1</td>\n      <td>0</td>\n      <td>1</td>\n      <td>1</td>\n      <td>0</td>\n      <td>0</td>\n      <td>1</td>\n      <td>0</td>\n      <td>0</td>\n      <td>1</td>\n      <td>0</td>\n      <td>0</td>\n      <td>0</td>\n      <td>0</td>\n      <td>0</td>\n      <td>0</td>\n      <td>0</td>\n      <td>0</td>\n      <td>0</td>\n      <td>0</td>\n      <td>1</td>\n      <td>0</td>\n      <td>0</td>\n      <td>0</td>\n      <td>0</td>\n      <td>1</td>\n      <td>0</td>\n      <td>0</td>\n      <td>0</td>\n      <td>1</td>\n      <td>0</td>\n      <td>0</td>\n      <td>1</td>\n      <td>0</td>\n      <td>0</td>\n      <td>0</td>\n      <td>0</td>\n      <td>0</td>\n      <td>0</td>\n      <td>0</td>\n      <td>0</td>\n      <td>1</td>\n      <td>0</td>\n      <td>0</td>\n      <td>0</td>\n      <td>0</td>\n      <td>0</td>\n      <td>0</td>\n      <td>1</td>\n      <td>0</td>\n      <td>0</td>\n      <td>0</td>\n      <td>1</td>\n      <td>0</td>\n      <td>0</td>\n      <td>1</td>\n      <td>0</td>\n      <td>0</td>\n      <td>1</td>\n      <td>0</td>\n      <td>1</td>\n      <td>0</td>\n      <td>0</td>\n      <td>0</td>\n      <td>0</td>\n      <td>0</td>\n      <td>0</td>\n      <td>0</td>\n      <td>0</td>\n      <td>0</td>\n      <td>0</td>\n      <td>0</td>\n      <td>1</td>\n      <td>0</td>\n      <td>0</td>\n      <td>0</td>\n      <td>0</td>\n      <td>0</td>\n      <td>1</td>\n      <td>0</td>\n      <td>0</td>\n      <td>0</td>\n      <td>0</td>\n      <td>0</td>\n      <td>0</td>\n      <td>0</td>\n      <td>1</td>\n    </tr>\n    <tr>\n      <th>1998</th>\n      <td>0</td>\n      <td>0</td>\n      <td>1</td>\n      <td>0</td>\n      <td>0</td>\n      <td>0</td>\n      <td>0</td>\n      <td>0</td>\n      <td>0</td>\n      <td>1</td>\n      <td>1</td>\n      <td>0</td>\n      <td>0</td>\n      <td>0</td>\n      <td>0</td>\n      <td>0</td>\n      <td>0</td>\n      <td>0</td>\n      <td>0</td>\n      <td>0</td>\n      <td>0</td>\n      <td>1</td>\n      <td>0</td>\n      <td>0</td>\n      <td>0</td>\n      <td>0</td>\n      <td>0</td>\n      <td>0</td>\n      <td>1</td>\n      <td>0</td>\n      <td>0</td>\n      <td>0</td>\n      <td>1</td>\n      <td>0</td>\n      <td>1</td>\n      <td>1</td>\n      <td>0</td>\n      <td>1</td>\n      <td>0</td>\n      <td>0</td>\n      <td>0</td>\n      <td>0</td>\n      <td>0</td>\n      <td>0</td>\n      <td>0</td>\n      <td>0</td>\n      <td>0</td>\n      <td>0</td>\n      <td>0</td>\n      <td>0</td>\n      <td>1</td>\n      <td>0</td>\n      <td>0</td>\n      <td>1</td>\n      <td>0</td>\n      <td>0</td>\n      <td>1</td>\n      <td>0</td>\n      <td>0</td>\n      <td>0</td>\n      <td>1</td>\n      <td>0</td>\n      <td>0</td>\n      <td>0</td>\n      <td>0</td>\n      <td>0</td>\n      <td>0</td>\n      <td>0</td>\n      <td>0</td>\n      <td>0</td>\n      <td>0</td>\n      <td>1</td>\n      <td>0</td>\n      <td>0</td>\n      <td>0</td>\n      <td>0</td>\n      <td>0</td>\n      <td>0</td>\n      <td>0</td>\n      <td>0</td>\n      <td>1</td>\n      <td>0</td>\n      <td>1</td>\n      <td>0</td>\n      <td>0</td>\n      <td>1</td>\n      <td>0</td>\n      <td>0</td>\n      <td>1</td>\n      <td>0</td>\n      <td>1</td>\n      <td>0</td>\n      <td>0</td>\n      <td>0</td>\n      <td>0</td>\n      <td>1</td>\n      <td>0</td>\n      <td>0</td>\n      <td>0</td>\n      <td>0</td>\n      <td>0</td>\n      <td>0</td>\n      <td>0</td>\n      <td>0</td>\n      <td>1</td>\n      <td>0</td>\n      <td>0</td>\n      <td>0</td>\n      <td>0</td>\n      <td>0</td>\n      <td>1</td>\n      <td>0</td>\n      <td>0</td>\n      <td>0</td>\n      <td>0</td>\n      <td>0</td>\n      <td>0</td>\n    </tr>\n    <tr>\n      <th>7988</th>\n      <td>1</td>\n      <td>0</td>\n      <td>0</td>\n      <td>0</td>\n      <td>0</td>\n      <td>0</td>\n      <td>0</td>\n      <td>0</td>\n      <td>0</td>\n      <td>1</td>\n      <td>1</td>\n      <td>0</td>\n      <td>0</td>\n      <td>0</td>\n      <td>0</td>\n      <td>0</td>\n      <td>0</td>\n      <td>0</td>\n      <td>0</td>\n      <td>0</td>\n      <td>0</td>\n      <td>1</td>\n      <td>0</td>\n      <td>0</td>\n      <td>0</td>\n      <td>0</td>\n      <td>0</td>\n      <td>0</td>\n      <td>1</td>\n      <td>0</td>\n      <td>0</td>\n      <td>1</td>\n      <td>0</td>\n      <td>1</td>\n      <td>0</td>\n      <td>1</td>\n      <td>0</td>\n      <td>0</td>\n      <td>0</td>\n      <td>0</td>\n      <td>0</td>\n      <td>0</td>\n      <td>0</td>\n      <td>1</td>\n      <td>0</td>\n      <td>0</td>\n      <td>0</td>\n      <td>0</td>\n      <td>0</td>\n      <td>1</td>\n      <td>0</td>\n      <td>0</td>\n      <td>0</td>\n      <td>0</td>\n      <td>0</td>\n      <td>1</td>\n      <td>0</td>\n      <td>0</td>\n      <td>0</td>\n      <td>1</td>\n      <td>0</td>\n      <td>0</td>\n      <td>0</td>\n      <td>1</td>\n      <td>0</td>\n      <td>0</td>\n      <td>0</td>\n      <td>0</td>\n      <td>1</td>\n      <td>0</td>\n      <td>0</td>\n      <td>0</td>\n      <td>0</td>\n      <td>0</td>\n      <td>0</td>\n      <td>0</td>\n      <td>0</td>\n      <td>1</td>\n      <td>0</td>\n      <td>0</td>\n      <td>0</td>\n      <td>0</td>\n      <td>1</td>\n      <td>0</td>\n      <td>1</td>\n      <td>0</td>\n      <td>0</td>\n      <td>0</td>\n      <td>1</td>\n      <td>0</td>\n      <td>0</td>\n      <td>0</td>\n      <td>0</td>\n      <td>0</td>\n      <td>1</td>\n      <td>0</td>\n      <td>0</td>\n      <td>1</td>\n      <td>0</td>\n      <td>0</td>\n      <td>0</td>\n      <td>0</td>\n      <td>0</td>\n      <td>0</td>\n      <td>0</td>\n      <td>1</td>\n      <td>0</td>\n      <td>0</td>\n      <td>0</td>\n      <td>0</td>\n      <td>0</td>\n      <td>1</td>\n      <td>0</td>\n      <td>0</td>\n      <td>0</td>\n      <td>0</td>\n      <td>0</td>\n    </tr>\n    <tr>\n      <th>4387</th>\n      <td>0</td>\n      <td>0</td>\n      <td>1</td>\n      <td>0</td>\n      <td>0</td>\n      <td>0</td>\n      <td>1</td>\n      <td>0</td>\n      <td>0</td>\n      <td>0</td>\n      <td>0</td>\n      <td>0</td>\n      <td>0</td>\n      <td>1</td>\n      <td>0</td>\n      <td>0</td>\n      <td>0</td>\n      <td>0</td>\n      <td>0</td>\n      <td>0</td>\n      <td>0</td>\n      <td>1</td>\n      <td>0</td>\n      <td>0</td>\n      <td>0</td>\n      <td>0</td>\n      <td>1</td>\n      <td>0</td>\n      <td>0</td>\n      <td>0</td>\n      <td>0</td>\n      <td>0</td>\n      <td>1</td>\n      <td>1</td>\n      <td>0</td>\n      <td>1</td>\n      <td>0</td>\n      <td>0</td>\n      <td>0</td>\n      <td>0</td>\n      <td>0</td>\n      <td>0</td>\n      <td>0</td>\n      <td>0</td>\n      <td>1</td>\n      <td>0</td>\n      <td>0</td>\n      <td>0</td>\n      <td>0</td>\n      <td>1</td>\n      <td>0</td>\n      <td>1</td>\n      <td>0</td>\n      <td>0</td>\n      <td>0</td>\n      <td>0</td>\n      <td>0</td>\n      <td>0</td>\n      <td>1</td>\n      <td>0</td>\n      <td>0</td>\n      <td>0</td>\n      <td>1</td>\n      <td>0</td>\n      <td>1</td>\n      <td>0</td>\n      <td>0</td>\n      <td>0</td>\n      <td>0</td>\n      <td>0</td>\n      <td>0</td>\n      <td>0</td>\n      <td>0</td>\n      <td>1</td>\n      <td>0</td>\n      <td>0</td>\n      <td>0</td>\n      <td>0</td>\n      <td>0</td>\n      <td>0</td>\n      <td>0</td>\n      <td>0</td>\n      <td>1</td>\n      <td>0</td>\n      <td>0</td>\n      <td>1</td>\n      <td>0</td>\n      <td>0</td>\n      <td>1</td>\n      <td>0</td>\n      <td>0</td>\n      <td>0</td>\n      <td>1</td>\n      <td>0</td>\n      <td>0</td>\n      <td>0</td>\n      <td>0</td>\n      <td>0</td>\n      <td>1</td>\n      <td>0</td>\n      <td>0</td>\n      <td>0</td>\n      <td>0</td>\n      <td>0</td>\n      <td>0</td>\n      <td>0</td>\n      <td>0</td>\n      <td>0</td>\n      <td>0</td>\n      <td>1</td>\n      <td>1</td>\n      <td>0</td>\n      <td>0</td>\n      <td>0</td>\n      <td>0</td>\n      <td>0</td>\n      <td>0</td>\n    </tr>\n    <tr>\n      <th>7254</th>\n      <td>0</td>\n      <td>0</td>\n      <td>0</td>\n      <td>0</td>\n      <td>1</td>\n      <td>0</td>\n      <td>0</td>\n      <td>0</td>\n      <td>0</td>\n      <td>1</td>\n      <td>1</td>\n      <td>0</td>\n      <td>0</td>\n      <td>0</td>\n      <td>0</td>\n      <td>0</td>\n      <td>0</td>\n      <td>0</td>\n      <td>0</td>\n      <td>0</td>\n      <td>0</td>\n      <td>1</td>\n      <td>0</td>\n      <td>0</td>\n      <td>0</td>\n      <td>1</td>\n      <td>0</td>\n      <td>0</td>\n      <td>0</td>\n      <td>0</td>\n      <td>0</td>\n      <td>0</td>\n      <td>1</td>\n      <td>1</td>\n      <td>0</td>\n      <td>0</td>\n      <td>1</td>\n      <td>0</td>\n      <td>0</td>\n      <td>1</td>\n      <td>0</td>\n      <td>0</td>\n      <td>0</td>\n      <td>0</td>\n      <td>0</td>\n      <td>0</td>\n      <td>0</td>\n      <td>0</td>\n      <td>0</td>\n      <td>0</td>\n      <td>1</td>\n      <td>0</td>\n      <td>0</td>\n      <td>0</td>\n      <td>0</td>\n      <td>1</td>\n      <td>0</td>\n      <td>0</td>\n      <td>1</td>\n      <td>0</td>\n      <td>0</td>\n      <td>0</td>\n      <td>1</td>\n      <td>0</td>\n      <td>0</td>\n      <td>0</td>\n      <td>0</td>\n      <td>0</td>\n      <td>0</td>\n      <td>0</td>\n      <td>0</td>\n      <td>1</td>\n      <td>0</td>\n      <td>0</td>\n      <td>0</td>\n      <td>0</td>\n      <td>0</td>\n      <td>0</td>\n      <td>1</td>\n      <td>0</td>\n      <td>0</td>\n      <td>0</td>\n      <td>1</td>\n      <td>0</td>\n      <td>0</td>\n      <td>1</td>\n      <td>0</td>\n      <td>0</td>\n      <td>1</td>\n      <td>0</td>\n      <td>1</td>\n      <td>0</td>\n      <td>0</td>\n      <td>0</td>\n      <td>0</td>\n      <td>0</td>\n      <td>0</td>\n      <td>0</td>\n      <td>0</td>\n      <td>0</td>\n      <td>0</td>\n      <td>0</td>\n      <td>1</td>\n      <td>0</td>\n      <td>0</td>\n      <td>0</td>\n      <td>0</td>\n      <td>0</td>\n      <td>1</td>\n      <td>0</td>\n      <td>0</td>\n      <td>0</td>\n      <td>0</td>\n      <td>0</td>\n      <td>0</td>\n      <td>0</td>\n      <td>1</td>\n    </tr>\n  </tbody>\n</table>\n<p>6499 rows × 117 columns</p>\n</div>"
     },
     "execution_count": 2,
     "metadata": {},
     "output_type": "execute_result"
    }
   ],
   "source": [
    "dataset = repo.get_mushrooms_dataset()\n",
    "dataset.train_data"
   ]
  },
  {
   "cell_type": "markdown",
   "metadata": {},
   "source": [
    "\n",
    "\n",
    "\n",
    "\n",
    "## Train different classifiers on selected dataset (with their default settings)"
   ]
  },
  {
   "cell_type": "code",
   "execution_count": 3,
   "metadata": {
    "pycharm": {
     "name": "#%%\n"
    }
   },
   "outputs": [],
   "source": [
    "models = [\n",
    "    (\"Random Forest\", sklearn.ensemble.RandomForestClassifier(n_jobs=-1)),\n",
    "    (\"AdaBoost\", sklearn.ensemble.AdaBoostClassifier()),\n",
    "    (\"DecisionTree\", sklearn.tree.DecisionTreeClassifier()),\n",
    "    (\"Neural Network\", sklearn.neural_network.MLPClassifier()),\n",
    "    # (\"SVM\", sklearn.svm.LinearSVC()), do not provide predict_proba\n",
    "    (\"Naive Bayes\", sklearn.naive_bayes.GaussianNB()),\n",
    "    (\"kNN\", sklearn.neighbors.KNeighborsClassifier())\n",
    "]\n",
    "precision_for_classifier = {}\n",
    "recall_for_classifier = {}\n",
    "f1_for_classifier = {}\n",
    "for (classifier_name, model) in models:\n",
    "    x = dataset.train_data.to_numpy()\n",
    "    y = dataset.train_labels.to_numpy()\n",
    "    model.fit(x, y)\n",
    "\n",
    "    x = dataset.test_data.to_numpy()\n",
    "    y_true = dataset.test_labels.to_numpy()\n",
    "    y_predicted = model.predict(x)\n",
    "\n",
    "    precision_for_classifier[classifier_name] = sklearn.metrics.precision_score(y_true=y_true, y_pred=y_predicted, average=\"macro\")\n",
    "    recall_for_classifier[classifier_name] = sklearn.metrics.recall_score(y_true=y_true, y_pred=y_predicted, average=\"macro\")\n",
    "    f1_for_classifier[classifier_name] = sklearn.metrics.f1_score(y_true=y_true, y_pred=y_predicted, average=\"macro\")\n",
    "    \n",
    "test_data_subset = dataset.test_data.to_numpy()\n",
    "\n",
    "labels_count = 2\n",
    "bins_count = 30\n",
    "test_instances_count = test_data_subset.shape[0]\n"
   ]
  },
  {
   "cell_type": "code",
   "execution_count": 4,
   "metadata": {
    "pycharm": {
     "name": "#%%\n"
    }
   },
   "outputs": [
    {
     "data": {
      "text/plain": "<Figure size 1008x288 with 1 Axes>",
      "image/png": "[encoded data removed]"
     },
     "metadata": {},
     "output_type": "display_data"
    }
   ],
   "source": [
    "plt.figure(figsize=(14,4))\n",
    "plt.bar(f1_for_classifier.keys(), f1_for_classifier.values(), width=0.5)\n",
    "plt.title(\"f1_score\")\n",
    "plt.grid(axis=\"y\")\n",
    "plt.show()"
   ]
  },
  {
   "cell_type": "markdown",
   "metadata": {
    "pycharm": {
     "name": "#%% md\n"
    }
   },
   "source": [
    "\n",
    "\n",
    "\n",
    "\n",
    "## Use original LIME to explain classifiers' predictions"
   ]
  },
  {
   "cell_type": "code",
   "execution_count": null,
   "metadata": {
    "pycharm": {
     "name": "#%%\n",
     "is_executing": true
    }
   },
   "outputs": [
    {
     "name": "stderr",
     "output_type": "stream",
     "text": [
      "Random Forest       100%|██████████| 1625/1625 [57:00<00:00,  2.11s/it] \n",
      "AdaBoost             36%|███▌      | 578/1625 [18:53<32:40,  1.87s/it]  "
     ]
    }
   ],
   "source": [
    "scores_for_surrogate_model_default = \\\n",
    "    np.empty(shape=(len(models), test_instances_count, labels_count), dtype=\"float32\")\n",
    "losses_for_surrogate_model_default = \\\n",
    "    np.empty(shape=(len(models), test_instances_count, labels_count), dtype=\"float32\")\n",
    "fidelity_loss_on_explanation_default = \\\n",
    "    np.empty(shape=(len(models), test_instances_count,), dtype=\"float32\")\n",
    "fidelity_loss_on_generated_data_default = \\\n",
    "    np.empty(shape=(len(models), test_instances_count,), dtype=\"float32\")\n",
    "fidelity_loss_distribution_quantiles_default = \\\n",
    "    np.empty(shape=(len(models), test_instances_count, bins_count), dtype=\"float32\")\n",
    "\n",
    "for model_idx, (classifier_name, model) in enumerate(models):\n",
    "\n",
    "    explainer_default = lime.lime_tabular_mod.LimeTabularExplainerMod(\n",
    "        dataset.train_data.to_numpy(),\n",
    "        feature_names = dataset.train_data.columns.to_list(),\n",
    "        class_names = model.classes_,\n",
    "        discretize_continuous=False,\n",
    "        sample_around_instance=True,\n",
    "        categorical_features=dataset.categorical_features\n",
    "    )\n",
    "\n",
    "    for instance_idx, test_instance in enumerate(tqdm(\n",
    "                test_data_subset,\n",
    "                desc=f\"{classifier_name}\",\n",
    "                bar_format=\"{desc:<20}{percentage:3.0f}%|{bar}{r_bar}\"\n",
    "    )):\n",
    "\n",
    "        explanation = explainer_default.explain_instance(\n",
    "            test_instance.reshape(-1),\n",
    "            model.predict_proba,\n",
    "            num_features = 4,\n",
    "            top_labels = labels_count,\n",
    "            distance_metric=\"minkowski\",\n",
    "            minkowski_norm=100.\n",
    "        )\n",
    "        scores_for_surrogate_model_default[model_idx, instance_idx, :] = \\\n",
    "            explanation.get_scores_for_surrogate_model()\n",
    "        losses_for_surrogate_model_default[model_idx, instance_idx, :] = \\\n",
    "            explanation.get_losses_for_surrogate_model()\n",
    "        fidelity_loss_on_explanation_default[model_idx, instance_idx] = \\\n",
    "            explanation.get_fidelity_loss_on_explanation()\n",
    "        fidelity_loss_on_generated_data_default[model_idx, instance_idx] = \\\n",
    "            explanation.get_fidelity_loss_on_generated_data()\n",
    "        fidelity_loss_distribution_quantiles_default[model_idx, instance_idx, :] = \\\n",
    "            explanation.get_fidelity_loss_distribution(bins=bins_count)\n",
    "\n",
    "postprocessor_default = rp.ResultsProcessing(\n",
    "    models,\n",
    "    labels_count,\n",
    "    scores_for_surrogate_model_default,\n",
    "    losses_for_surrogate_model_default,\n",
    "    fidelity_loss_on_explanation_default,\n",
    "    fidelity_loss_on_generated_data_default,\n",
    "    fidelity_loss_distribution_quantiles_default\n",
    ")"
   ]
  },
  {
   "cell_type": "code",
   "execution_count": null,
   "metadata": {
    "pycharm": {
     "name": "#%%\n",
     "is_executing": true
    }
   },
   "outputs": [],
   "source": [
    "postprocessor_default.plot_scores_for_surrogate_model()"
   ]
  },
  {
   "cell_type": "code",
   "execution_count": null,
   "metadata": {
    "pycharm": {
     "name": "#%%\n",
     "is_executing": true
    }
   },
   "outputs": [],
   "source": [
    "postprocessor_default.plot_losses_for_surrogate_model()"
   ]
  },
  {
   "cell_type": "code",
   "execution_count": null,
   "metadata": {
    "pycharm": {
     "name": "#%%\n",
     "is_executing": true
    }
   },
   "outputs": [],
   "source": [
    "postprocessor_default.plot_fidelity_loss_on_explanation()"
   ]
  },
  {
   "cell_type": "code",
   "execution_count": null,
   "metadata": {
    "pycharm": {
     "name": "#%%\n",
     "is_executing": true
    }
   },
   "outputs": [],
   "source": [
    "postprocessor_default.plot_fidelity_losses_on_generated_data()"
   ]
  },
  {
   "cell_type": "code",
   "execution_count": null,
   "metadata": {
    "pycharm": {
     "name": "#%%\n",
     "is_executing": true
    }
   },
   "outputs": [],
   "source": [
    "postprocessor_default.plot_fidelity_loss_distribution(domain_unit=\"Bins\")"
   ]
  },
  {
   "cell_type": "markdown",
   "source": [
    "\n",
    "\n",
    "\n",
    "\n",
    "## Use modified LIME to explain classifiers' predictions"
   ],
   "metadata": {
    "collapsed": false,
    "pycharm": {
     "name": "#%% md\n"
    }
   }
  },
  {
   "cell_type": "markdown",
   "source": [
    "\n",
    "\n",
    "\n",
    "\n",
    "### Use multiple Regression Trees as local surrogate"
   ],
   "metadata": {
    "collapsed": false
   }
  },
  {
   "cell_type": "code",
   "execution_count": null,
   "outputs": [],
   "source": [
    "scores_for_surrogate_model_multiregression = \\\n",
    "    np.empty(shape=(len(models), test_instances_count, labels_count), dtype=\"float32\")\n",
    "losses_for_surrogate_model_multiregression = \\\n",
    "    np.empty(shape=(len(models), test_instances_count, labels_count), dtype=\"float32\")\n",
    "fidelity_loss_on_explanation_multiregression = \\\n",
    "    np.empty(shape=(len(models), test_instances_count,), dtype=\"float32\")\n",
    "fidelity_loss_on_generated_data_multiregression = \\\n",
    "    np.empty(shape=(len(models), test_instances_count,), dtype=\"float32\")\n",
    "fidelity_loss_distribution_quantiles_multiregression = \\\n",
    "    np.empty(shape=(len(models), test_instances_count, bins_count), dtype=\"float32\")\n",
    "\n",
    "for model_idx, (classifier_name, model) in enumerate(models):\n",
    "\n",
    "    explainer_multiregression = lime.lime_tabular_multiregressor.LTEMultiRegressionTree(\n",
    "        dataset.train_data.to_numpy(),\n",
    "        feature_names = dataset.train_data.columns.to_list(),\n",
    "        class_names = model.classes_,\n",
    "        discretize_continuous=False,\n",
    "        sample_around_instance=True,\n",
    "        categorical_features=dataset.categorical_features\n",
    "    )\n",
    "\n",
    "    for instance_idx, test_instance in enumerate(tqdm(\n",
    "                test_data_subset,\n",
    "                desc=f\"{classifier_name}\",\n",
    "                bar_format=\"{desc:<20}{percentage:3.0f}%|{bar}{r_bar}\"\n",
    "    )):\n",
    "\n",
    "        explanation = explainer_multiregression.explain_instance(\n",
    "            test_instance.reshape(-1),\n",
    "            model.predict_proba,\n",
    "            num_features = 4,\n",
    "            top_labels = labels_count,\n",
    "            distance_metric=\"minkowski\",\n",
    "            minkowski_norm=100.\n",
    "        )\n",
    "        scores_for_surrogate_model_multiregression[model_idx, instance_idx, :] = \\\n",
    "            explanation.get_scores_for_surrogate_model()\n",
    "        losses_for_surrogate_model_multiregression[model_idx, instance_idx, :] = \\\n",
    "            explanation.get_losses_for_surrogate_model()\n",
    "        fidelity_loss_on_explanation_multiregression[model_idx, instance_idx] = \\\n",
    "            explanation.get_fidelity_loss_on_explanation()\n",
    "        fidelity_loss_on_generated_data_multiregression[model_idx, instance_idx] = \\\n",
    "            explanation.get_fidelity_loss_on_generated_data()\n",
    "        fidelity_loss_distribution_quantiles_multiregression[model_idx, instance_idx, :] = \\\n",
    "            explanation.get_fidelity_loss_distribution(bins=bins_count)\n",
    "\n",
    "\n",
    "postprocessor_multiregression = rp.ResultsProcessing(\n",
    "    models,\n",
    "    labels_count,\n",
    "    scores_for_surrogate_model_multiregression,\n",
    "    losses_for_surrogate_model_multiregression,\n",
    "    fidelity_loss_on_explanation_multiregression,\n",
    "    fidelity_loss_on_generated_data_multiregression,\n",
    "    fidelity_loss_distribution_quantiles_multiregression\n",
    ")"
   ],
   "metadata": {
    "collapsed": false,
    "pycharm": {
     "name": "#%%\n",
     "is_executing": true
    }
   }
  },
  {
   "cell_type": "code",
   "execution_count": null,
   "outputs": [],
   "source": [
    "postprocessor_multiregression.plot_scores_for_surrogate_model()"
   ],
   "metadata": {
    "collapsed": false,
    "pycharm": {
     "name": "#%%\n",
     "is_executing": true
    }
   }
  },
  {
   "cell_type": "code",
   "execution_count": null,
   "outputs": [],
   "source": [
    "postprocessor_multiregression.plot_losses_for_surrogate_model()"
   ],
   "metadata": {
    "collapsed": false,
    "pycharm": {
     "name": "#%%\n",
     "is_executing": true
    }
   }
  },
  {
   "cell_type": "code",
   "execution_count": null,
   "outputs": [],
   "source": [
    "postprocessor_multiregression.plot_fidelity_loss_on_explanation()"
   ],
   "metadata": {
    "collapsed": false,
    "pycharm": {
     "name": "#%%\n",
     "is_executing": true
    }
   }
  },
  {
   "cell_type": "code",
   "execution_count": null,
   "outputs": [],
   "source": [
    "postprocessor_multiregression.plot_fidelity_losses_on_generated_data()"
   ],
   "metadata": {
    "collapsed": false,
    "pycharm": {
     "name": "#%%\n",
     "is_executing": true
    }
   }
  },
  {
   "cell_type": "code",
   "execution_count": null,
   "outputs": [],
   "source": [
    "postprocessor_multiregression.plot_fidelity_loss_distribution(domain_unit=\"Bins\")"
   ],
   "metadata": {
    "collapsed": false,
    "pycharm": {
     "name": "#%%\n",
     "is_executing": true
    }
   }
  },
  {
   "cell_type": "code",
   "execution_count": null,
   "outputs": [],
   "source": [
    "with open(f\"saved_results/Mushrooms/multiregression_results.npy\", \"wb\") as file:\n",
    "    np.save(file, postprocessor_multiregression.scores_for_surrogate_model)\n",
    "    np.save(file, postprocessor_multiregression.losses_for_surrogate_model)\n",
    "    np.save(file, postprocessor_multiregression.fidelity_loss_on_explanation)\n",
    "    np.save(file, postprocessor_multiregression.fidelity_loss_on_generated_data)\n",
    "    np.save(file, postprocessor_multiregression.fidelity_loss_distribution)\n",
    "\n",
    "with open(f\"saved_results/Mushrooms/default_results.npy\", \"wb\") as file:\n",
    "    np.save(file, postprocessor_default.scores_for_surrogate_model)\n",
    "    np.save(file, postprocessor_default.losses_for_surrogate_model)\n",
    "    np.save(file, postprocessor_default.fidelity_loss_on_explanation)\n",
    "    np.save(file, postprocessor_default.fidelity_loss_on_generated_data)\n",
    "    np.save(file, postprocessor_default.fidelity_loss_distribution)\n"
   ],
   "metadata": {
    "collapsed": false,
    "pycharm": {
     "name": "#%%\n",
     "is_executing": true
    }
   }
  },
  {
   "cell_type": "code",
   "execution_count": null,
   "outputs": [],
   "source": [],
   "metadata": {
    "collapsed": false,
    "pycharm": {
     "name": "#%%\n"
    }
   }
  }
 ],
 "metadata": {
  "kernelspec": {
   "display_name": "Python 3",
   "language": "python",
   "name": "python3"
  },
  "language_info": {
   "codemirror_mode": {
    "name": "ipython",
    "version": 3
   },
   "file_extension": ".py",
   "mimetype": "text/x-python",
   "name": "python",
   "nbconvert_exporter": "python",
   "pygments_lexer": "ipython3",
   "version": "3.7.2"
  }
 },
 "nbformat": 4,
 "nbformat_minor": 1
}