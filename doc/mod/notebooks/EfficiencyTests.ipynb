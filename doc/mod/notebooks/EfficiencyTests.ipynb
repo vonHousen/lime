{
 "cells": [
  {
   "cell_type": "code",
   "execution_count": 24,
   "outputs": [],
   "source": [
    "import pandas as pd\n",
    "import numpy as np\n",
    "import sklearn.ensemble\n",
    "import sklearn.neural_network\n",
    "import sklearn.svm\n",
    "import sklearn.naive_bayes\n",
    "import sklearn.tree\n",
    "import lime.lime_tabular_mod\n",
    "import matplotlib.pyplot as plt\n",
    "import doc.mod.utils.DatasetRepository as dr\n",
    "from tqdm import tqdm\n",
    "\n",
    "import importlib\n",
    "importlib.reload(lime.lime_tabular_mod)\n",
    "repo = dr.DatasetRepository(\"../data\")\n",
    "\n",
    "\n",
    "pd.set_option(\"display.max_columns\", None)\n",
    "pd.set_option(\"mode.chained_assignment\", None)\n",
    "plt.style.use({\"figure.facecolor\": \"white\"})"
   ],
   "metadata": {
    "collapsed": false,
    "pycharm": {
     "name": "#%%\n"
    }
   }
  },
  {
   "cell_type": "markdown",
   "source": [
    "### Load datasets"
   ],
   "metadata": {
    "collapsed": false
   }
  },
  {
   "cell_type": "code",
   "execution_count": 2,
   "outputs": [
    {
     "name": "stdout",
     "output_type": "stream",
     "text": [
      "titanic\n",
      "fetal health\n",
      "wines\n",
      "mushrooms\n",
      "heart disease\n"
     ]
    }
   ],
   "source": [
    "for dataset in repo.get_all_datasets():\n",
    "    print(dataset.name)"
   ],
   "metadata": {
    "collapsed": false,
    "pycharm": {
     "name": "#%%\n"
    }
   }
  },
  {
   "cell_type": "code",
   "execution_count": 3,
   "outputs": [
    {
     "data": {
      "text/plain": "             Pclass  Sex        Age  SibSp  Parch      Fare  embarked_C  \\\nPassengerId                                                               \n144               3    1  19.000000      0      0    6.7500           0   \n777               3    1  29.699118      0      0    7.7500           0   \n842               2    1  16.000000      0      0   10.5000           0   \n240               2    1  33.000000      0      0   12.2750           0   \n681               3    0  29.699118      0      0    8.1375           0   \n...             ...  ...        ...    ...    ...       ...         ...   \n306               1    1   0.920000      1      2  151.5500           0   \n564               3    1  29.699118      0      0    8.0500           0   \n818               2    1  31.000000      1      1   37.0042           1   \n835               3    1  18.000000      0      0    8.3000           0   \n169               1    1  29.699118      0      0   25.9250           0   \n\n             embarked_Q  embarked_S  embarked_unknown  cabin_level_A  \\\nPassengerId                                                            \n144                   1           0                 0              0   \n777                   1           0                 0              0   \n842                   0           1                 0              0   \n240                   0           1                 0              0   \n681                   1           0                 0              0   \n...                 ...         ...               ...            ...   \n306                   0           1                 0              0   \n564                   0           1                 0              0   \n818                   0           0                 0              0   \n835                   0           1                 0              0   \n169                   0           1                 0              0   \n\n             cabin_level_B  cabin_level_C  cabin_level_D  cabin_level_E  \\\nPassengerId                                                               \n144                      0              0              0              0   \n777                      0              0              0              0   \n842                      0              0              0              0   \n240                      0              0              0              0   \n681                      0              0              0              0   \n...                    ...            ...            ...            ...   \n306                      0              1              0              0   \n564                      0              0              0              0   \n818                      0              0              0              0   \n835                      0              0              0              0   \n169                      0              0              0              0   \n\n             cabin_level_F  cabin_level_G  cabin_level_T  cabin_level_unknown  \nPassengerId                                                                    \n144                      0              0              0                    1  \n777                      1              0              0                    0  \n842                      0              0              0                    1  \n240                      0              0              0                    1  \n681                      0              0              0                    1  \n...                    ...            ...            ...                  ...  \n306                      0              0              0                    0  \n564                      0              0              0                    1  \n818                      0              0              0                    1  \n835                      0              0              0                    1  \n169                      0              0              0                    1  \n\n[801 rows x 19 columns]",
      "text/html": "<div>\n<style scoped>\n    .dataframe tbody tr th:only-of-type {\n        vertical-align: middle;\n    }\n\n    .dataframe tbody tr th {\n        vertical-align: top;\n    }\n\n    .dataframe thead th {\n        text-align: right;\n    }\n</style>\n<table border=\"1\" class=\"dataframe\">\n  <thead>\n    <tr style=\"text-align: right;\">\n      <th></th>\n      <th>Pclass</th>\n      <th>Sex</th>\n      <th>Age</th>\n      <th>SibSp</th>\n      <th>Parch</th>\n      <th>Fare</th>\n      <th>embarked_C</th>\n      <th>embarked_Q</th>\n      <th>embarked_S</th>\n      <th>embarked_unknown</th>\n      <th>cabin_level_A</th>\n      <th>cabin_level_B</th>\n      <th>cabin_level_C</th>\n      <th>cabin_level_D</th>\n      <th>cabin_level_E</th>\n      <th>cabin_level_F</th>\n      <th>cabin_level_G</th>\n      <th>cabin_level_T</th>\n      <th>cabin_level_unknown</th>\n    </tr>\n    <tr>\n      <th>PassengerId</th>\n      <th></th>\n      <th></th>\n      <th></th>\n      <th></th>\n      <th></th>\n      <th></th>\n      <th></th>\n      <th></th>\n      <th></th>\n      <th></th>\n      <th></th>\n      <th></th>\n      <th></th>\n      <th></th>\n      <th></th>\n      <th></th>\n      <th></th>\n      <th></th>\n      <th></th>\n    </tr>\n  </thead>\n  <tbody>\n    <tr>\n      <th>144</th>\n      <td>3</td>\n      <td>1</td>\n      <td>19.000000</td>\n      <td>0</td>\n      <td>0</td>\n      <td>6.7500</td>\n      <td>0</td>\n      <td>1</td>\n      <td>0</td>\n      <td>0</td>\n      <td>0</td>\n      <td>0</td>\n      <td>0</td>\n      <td>0</td>\n      <td>0</td>\n      <td>0</td>\n      <td>0</td>\n      <td>0</td>\n      <td>1</td>\n    </tr>\n    <tr>\n      <th>777</th>\n      <td>3</td>\n      <td>1</td>\n      <td>29.699118</td>\n      <td>0</td>\n      <td>0</td>\n      <td>7.7500</td>\n      <td>0</td>\n      <td>1</td>\n      <td>0</td>\n      <td>0</td>\n      <td>0</td>\n      <td>0</td>\n      <td>0</td>\n      <td>0</td>\n      <td>0</td>\n      <td>1</td>\n      <td>0</td>\n      <td>0</td>\n      <td>0</td>\n    </tr>\n    <tr>\n      <th>842</th>\n      <td>2</td>\n      <td>1</td>\n      <td>16.000000</td>\n      <td>0</td>\n      <td>0</td>\n      <td>10.5000</td>\n      <td>0</td>\n      <td>0</td>\n      <td>1</td>\n      <td>0</td>\n      <td>0</td>\n      <td>0</td>\n      <td>0</td>\n      <td>0</td>\n      <td>0</td>\n      <td>0</td>\n      <td>0</td>\n      <td>0</td>\n      <td>1</td>\n    </tr>\n    <tr>\n      <th>240</th>\n      <td>2</td>\n      <td>1</td>\n      <td>33.000000</td>\n      <td>0</td>\n      <td>0</td>\n      <td>12.2750</td>\n      <td>0</td>\n      <td>0</td>\n      <td>1</td>\n      <td>0</td>\n      <td>0</td>\n      <td>0</td>\n      <td>0</td>\n      <td>0</td>\n      <td>0</td>\n      <td>0</td>\n      <td>0</td>\n      <td>0</td>\n      <td>1</td>\n    </tr>\n    <tr>\n      <th>681</th>\n      <td>3</td>\n      <td>0</td>\n      <td>29.699118</td>\n      <td>0</td>\n      <td>0</td>\n      <td>8.1375</td>\n      <td>0</td>\n      <td>1</td>\n      <td>0</td>\n      <td>0</td>\n      <td>0</td>\n      <td>0</td>\n      <td>0</td>\n      <td>0</td>\n      <td>0</td>\n      <td>0</td>\n      <td>0</td>\n      <td>0</td>\n      <td>1</td>\n    </tr>\n    <tr>\n      <th>...</th>\n      <td>...</td>\n      <td>...</td>\n      <td>...</td>\n      <td>...</td>\n      <td>...</td>\n      <td>...</td>\n      <td>...</td>\n      <td>...</td>\n      <td>...</td>\n      <td>...</td>\n      <td>...</td>\n      <td>...</td>\n      <td>...</td>\n      <td>...</td>\n      <td>...</td>\n      <td>...</td>\n      <td>...</td>\n      <td>...</td>\n      <td>...</td>\n    </tr>\n    <tr>\n      <th>306</th>\n      <td>1</td>\n      <td>1</td>\n      <td>0.920000</td>\n      <td>1</td>\n      <td>2</td>\n      <td>151.5500</td>\n      <td>0</td>\n      <td>0</td>\n      <td>1</td>\n      <td>0</td>\n      <td>0</td>\n      <td>0</td>\n      <td>1</td>\n      <td>0</td>\n      <td>0</td>\n      <td>0</td>\n      <td>0</td>\n      <td>0</td>\n      <td>0</td>\n    </tr>\n    <tr>\n      <th>564</th>\n      <td>3</td>\n      <td>1</td>\n      <td>29.699118</td>\n      <td>0</td>\n      <td>0</td>\n      <td>8.0500</td>\n      <td>0</td>\n      <td>0</td>\n      <td>1</td>\n      <td>0</td>\n      <td>0</td>\n      <td>0</td>\n      <td>0</td>\n      <td>0</td>\n      <td>0</td>\n      <td>0</td>\n      <td>0</td>\n      <td>0</td>\n      <td>1</td>\n    </tr>\n    <tr>\n      <th>818</th>\n      <td>2</td>\n      <td>1</td>\n      <td>31.000000</td>\n      <td>1</td>\n      <td>1</td>\n      <td>37.0042</td>\n      <td>1</td>\n      <td>0</td>\n      <td>0</td>\n      <td>0</td>\n      <td>0</td>\n      <td>0</td>\n      <td>0</td>\n      <td>0</td>\n      <td>0</td>\n      <td>0</td>\n      <td>0</td>\n      <td>0</td>\n      <td>1</td>\n    </tr>\n    <tr>\n      <th>835</th>\n      <td>3</td>\n      <td>1</td>\n      <td>18.000000</td>\n      <td>0</td>\n      <td>0</td>\n      <td>8.3000</td>\n      <td>0</td>\n      <td>0</td>\n      <td>1</td>\n      <td>0</td>\n      <td>0</td>\n      <td>0</td>\n      <td>0</td>\n      <td>0</td>\n      <td>0</td>\n      <td>0</td>\n      <td>0</td>\n      <td>0</td>\n      <td>1</td>\n    </tr>\n    <tr>\n      <th>169</th>\n      <td>1</td>\n      <td>1</td>\n      <td>29.699118</td>\n      <td>0</td>\n      <td>0</td>\n      <td>25.9250</td>\n      <td>0</td>\n      <td>0</td>\n      <td>1</td>\n      <td>0</td>\n      <td>0</td>\n      <td>0</td>\n      <td>0</td>\n      <td>0</td>\n      <td>0</td>\n      <td>0</td>\n      <td>0</td>\n      <td>0</td>\n      <td>1</td>\n    </tr>\n  </tbody>\n</table>\n<p>801 rows × 19 columns</p>\n</div>"
     },
     "execution_count": 3,
     "metadata": {},
     "output_type": "execute_result"
    }
   ],
   "source": [
    "sample_dataset = repo.get_titanic_dataset()\n",
    "sample_dataset.train_data"
   ],
   "metadata": {
    "collapsed": false,
    "pycharm": {
     "name": "#%%\n"
    }
   }
  },
  {
   "cell_type": "markdown",
   "source": [
    "## Check performance of different classifiers on selected dataset (with their default settings)"
   ],
   "metadata": {
    "collapsed": false
   }
  },
  {
   "cell_type": "code",
   "execution_count": 4,
   "outputs": [
    {
     "name": "stderr",
     "output_type": "stream",
     "text": [
      "c:\\users\\kamil zych\\documents\\mgr\\lime\\venv\\lib\\site-packages\\sklearn\\svm\\_base.py:977: ConvergenceWarning: Liblinear failed to converge, increase the number of iterations.\n",
      "  \"the number of iterations.\", ConvergenceWarning)\n"
     ]
    }
   ],
   "source": [
    "models = [\n",
    "    (\"Random Forest\", sklearn.ensemble.RandomForestClassifier(n_jobs=-1)),\n",
    "    (\"AdaBoost\", sklearn.ensemble.AdaBoostClassifier()),\n",
    "    (\"DecisionTree\", sklearn.tree.DecisionTreeClassifier()),\n",
    "    (\"Neural Network\", sklearn.neural_network.MLPClassifier()),\n",
    "    (\"SVM\", sklearn.svm.LinearSVC()),\n",
    "    (\"Naive Bayes\", sklearn.naive_bayes.GaussianNB()),\n",
    "    (\"kNN\", sklearn.neighbors.KNeighborsClassifier())\n",
    "]\n",
    "precision_for_classifier = {}\n",
    "recall_for_classifier = {}\n",
    "f1_for_classifier = {}\n",
    "for (classifier_name, model) in models:\n",
    "    x = sample_dataset.train_data.to_numpy()\n",
    "    y = sample_dataset.train_labels.to_numpy()\n",
    "    model.fit(x, y)\n",
    "\n",
    "    x = sample_dataset.test_data.to_numpy()\n",
    "    y_true = sample_dataset.test_labels.to_numpy()\n",
    "    y_predicted = model.predict(x)\n",
    "\n",
    "    precision_for_classifier[classifier_name] = sklearn.metrics.precision_score(y_true=y_true, y_pred=y_predicted, average=\"macro\")\n",
    "    recall_for_classifier[classifier_name] = sklearn.metrics.recall_score(y_true=y_true, y_pred=y_predicted, average=\"macro\")\n",
    "    f1_for_classifier[classifier_name] = sklearn.metrics.f1_score(y_true=y_true, y_pred=y_predicted, average=\"macro\")"
   ],
   "metadata": {
    "collapsed": false,
    "pycharm": {
     "name": "#%%\n"
    }
   }
  },
  {
   "cell_type": "code",
   "execution_count": 5,
   "outputs": [
    {
     "data": {
      "text/plain": "<Figure size 1008x288 with 1 Axes>",
      "image/png": "[encoded data removed]"
     },
     "metadata": {},
     "output_type": "display_data"
    }
   ],
   "source": [
    "plt.figure(figsize=(14,4))\n",
    "plt.bar(f1_for_classifier.keys(), f1_for_classifier.values(), width=0.5)\n",
    "plt.title(\"f1_score\")\n",
    "plt.grid(axis=\"y\")\n",
    "plt.show()"
   ],
   "metadata": {
    "collapsed": false,
    "pycharm": {
     "name": "#%%\n"
    }
   }
  },
  {
   "cell_type": "markdown",
   "source": [
    "## Use LIME to explain prediction\n",
    "### Create explainer object\n",
    "At first create explainer object that makes use of training data.\n",
    "It may be used by discretizer inner object and enhance local surrogate's performance."
   ],
   "metadata": {
    "collapsed": false,
    "pycharm": {
     "name": "#%% md\n"
    }
   }
  },
  {
   "cell_type": "code",
   "execution_count": 6,
   "outputs": [],
   "source": [
    "explainer = lime.lime_tabular_mod.LimeTabularExplainerMod(\n",
    "    sample_dataset.train_data.to_numpy(),\n",
    "    feature_names = sample_dataset.train_data.columns.to_list(),\n",
    "    class_names = sample_dataset.train_labels.drop_duplicates().to_list(),\n",
    "    discretize_continuous=False,\n",
    "    sample_around_instance=True,\n",
    "    categorical_features=sample_dataset.categorical_features\n",
    ")"
   ],
   "metadata": {
    "collapsed": false,
    "pycharm": {
     "name": "#%%\n"
    }
   }
  },
  {
   "cell_type": "code",
   "execution_count": 30,
   "outputs": [
    {
     "name": "stderr",
     "output_type": "stream",
     "text": [
      "100%|██████████| 90/90 [01:24<00:00,  1.06it/s]\n"
     ]
    }
   ],
   "source": [
    "test_data_subset = sample_dataset.test_data.to_numpy()\n",
    "fidelity_loss_on_explanation = []\n",
    "fidelity_loss_on_generated_data = []\n",
    "fidelity_loss_distribution_quantiles = []\n",
    "\n",
    "for test_instance in tqdm(test_data_subset):\n",
    "    explanation = explainer.explain_instance(\n",
    "        test_instance.reshape(-1),\n",
    "        model.predict_proba,\n",
    "        num_features = 4,\n",
    "        top_labels = 2,\n",
    "        distance_metric=\"minkowski\",\n",
    "        minkowski_norm=100.\n",
    "    )\n",
    "\n",
    "    fidelity_loss_on_explanation.append(explanation.get_fidelity_loss_on_explanation())\n",
    "    fidelity_loss_on_generated_data.append(explanation.get_fidelity_loss_on_generated_data())\n",
    "    fidelity_loss_distribution_quantiles.append(explanation.get_fidelity_loss_distribution(quantiles=30))"
   ],
   "metadata": {
    "collapsed": false,
    "pycharm": {
     "name": "#%%\n"
    }
   }
  },
  {
   "cell_type": "code",
   "execution_count": 35,
   "outputs": [
    {
     "name": "stdout",
     "output_type": "stream",
     "text": [
      "0.08159122763413916\n"
     ]
    },
    {
     "data": {
      "text/plain": "<Figure size 432x288 with 1 Axes>",
      "image/png": "[encoded data removed]"
     },
     "metadata": {},
     "output_type": "display_data"
    }
   ],
   "source": [
    "print(np.mean(fidelity_loss_on_explanation))\n",
    "plt.hist(fidelity_loss_on_explanation, bins=20)\n",
    "plt.show()"
   ],
   "metadata": {
    "collapsed": false,
    "pycharm": {
     "name": "#%%\n"
    }
   }
  },
  {
   "cell_type": "code",
   "execution_count": 36,
   "outputs": [
    {
     "name": "stdout",
     "output_type": "stream",
     "text": [
      "0.06145542029696509\n"
     ]
    },
    {
     "data": {
      "text/plain": "<Figure size 432x288 with 1 Axes>",
      "image/png": "[encoded data removed]"
     },
     "metadata": {},
     "output_type": "display_data"
    }
   ],
   "source": [
    "print(np.mean(fidelity_loss_on_generated_data))\n",
    "plt.hist(fidelity_loss_on_generated_data, bins=20)\n",
    "plt.show()"
   ],
   "metadata": {
    "collapsed": false,
    "pycharm": {
     "name": "#%%\n"
    }
   }
  },
  {
   "cell_type": "code",
   "execution_count": 39,
   "outputs": [
    {
     "name": "stderr",
     "output_type": "stream",
     "text": [
      "c:\\users\\kamil zych\\documents\\mgr\\lime\\venv\\lib\\site-packages\\matplotlib\\axes\\_base.py:405: FutureWarning: Support for multi-dimensional indexing (e.g. `obj[:, None]`) is deprecated and will be removed in a future version.  Convert to a numpy array before indexing instead.\n",
      "  x = x[:, np.newaxis]\n"
     ]
    },
    {
     "data": {
      "text/plain": "[<matplotlib.lines.Line2D at 0x27b68381cf8>]"
     },
     "execution_count": 39,
     "metadata": {},
     "output_type": "execute_result"
    },
    {
     "data": {
      "text/plain": "<Figure size 432x288 with 1 Axes>",
      "image/png": "[encoded data removed]"
     },
     "metadata": {},
     "output_type": "display_data"
    }
   ],
   "source": [
    "merged_distributions = pd.concat(fidelity_loss_distribution_quantiles, axis=1)\n",
    "plt.plot(merged_distributions.mean(axis=1))\n"
   ],
   "metadata": {
    "collapsed": false,
    "pycharm": {
     "name": "#%%\n"
    }
   }
  }
 ],
 "metadata": {
  "kernelspec": {
   "display_name": "Python 3",
   "language": "python",
   "name": "python3"
  },
  "language_info": {
   "codemirror_mode": {
    "name": "ipython",
    "version": 2
   },
   "file_extension": ".py",
   "mimetype": "text/x-python",
   "name": "python",
   "nbconvert_exporter": "python",
   "pygments_lexer": "ipython2",
   "version": "2.7.6"
  }
 },
 "nbformat": 4,
 "nbformat_minor": 0
}