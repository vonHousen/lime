{
 "cells": [
  {
   "cell_type": "code",
   "execution_count": 12,
   "metadata": {},
   "outputs": [],
   "source": [
    "import pandas as pd\n",
    "import numpy as np\n",
    "import sklearn.ensemble\n",
    "import lime.lime_tabular_mod\n",
    "import matplotlib.pyplot as plt\n",
    "from sklearn.tree import DecisionTreeRegressor\n",
    "from sklearn.metrics import mean_squared_error\n",
    "\n",
    "import doc.mod.utils.DatasetRepository as dr\n",
    "repo = dr.DatasetRepository(\"../data\")\n",
    "\n",
    "pd.set_option(\"display.max_columns\", None)\n",
    "pd.set_option(\"mode.chained_assignment\", None)\n",
    "plt.style.use({\"figure.facecolor\": \"white\"})"
   ]
  },
  {
   "cell_type": "markdown",
   "metadata": {
    "pycharm": {
     "name": "#%% md\n"
    }
   },
   "source": [
    "### Load regression dataset"
   ]
  },
  {
   "cell_type": "code",
   "execution_count": 8,
   "metadata": {
    "pycharm": {
     "name": "#%%\n"
    }
   },
   "outputs": [
    {
     "data": {
      "text/plain": "      fixed acidity  volatile acidity  citric acid  residual sugar  chlorides  \\\n810             7.3              0.49         0.10             2.6      0.068   \n1148            7.8              0.39         0.42             2.0      0.086   \n1523            6.8              0.48         0.25             2.0      0.076   \n785             9.9              0.35         0.41             2.3      0.083   \n1033            7.5              0.57         0.08             2.6      0.089   \n...             ...               ...          ...             ...        ...   \n1050            7.1              0.43         0.17             1.8      0.082   \n1409            6.0              0.51         0.00             2.1      0.064   \n1081            7.9              0.30         0.68             8.3      0.050   \n535             9.1              0.22         0.24             2.1      0.078   \n1137           10.4              0.52         0.45             2.0      0.080   \n\n      free sulfur dioxide  total sulfur dioxide  density    pH  sulphates  \\\n810                   4.0                  14.0  0.99562  3.30       0.47   \n1148                  9.0                  21.0  0.99526  3.39       0.66   \n1523                 29.0                  61.0  0.99530  3.34       0.60   \n785                  11.0                  61.0  0.99820  3.21       0.50   \n1033                 14.0                  27.0  0.99592  3.30       0.59   \n...                   ...                   ...      ...   ...        ...   \n1050                 27.0                  51.0  0.99634  3.49       0.64   \n1409                 40.0                  54.0  0.99500  3.54       0.93   \n1081                 37.5                 289.0  0.99316  3.01       0.51   \n535                   1.0                  28.0  0.99900  3.41       0.87   \n1137                  6.0                  13.0  0.99774  3.22       0.76   \n\n      alcohol  \n810      10.5  \n1148     11.6  \n1523     10.4  \n785       9.5  \n1033     10.4  \n...       ...  \n1050     10.4  \n1409     10.7  \n1081     12.3  \n535      10.3  \n1137     11.4  \n\n[1439 rows x 11 columns]",
      "text/html": "<div>\n<style scoped>\n    .dataframe tbody tr th:only-of-type {\n        vertical-align: middle;\n    }\n\n    .dataframe tbody tr th {\n        vertical-align: top;\n    }\n\n    .dataframe thead th {\n        text-align: right;\n    }\n</style>\n<table border=\"1\" class=\"dataframe\">\n  <thead>\n    <tr style=\"text-align: right;\">\n      <th></th>\n      <th>fixed acidity</th>\n      <th>volatile acidity</th>\n      <th>citric acid</th>\n      <th>residual sugar</th>\n      <th>chlorides</th>\n      <th>free sulfur dioxide</th>\n      <th>total sulfur dioxide</th>\n      <th>density</th>\n      <th>pH</th>\n      <th>sulphates</th>\n      <th>alcohol</th>\n    </tr>\n  </thead>\n  <tbody>\n    <tr>\n      <th>810</th>\n      <td>7.3</td>\n      <td>0.49</td>\n      <td>0.10</td>\n      <td>2.6</td>\n      <td>0.068</td>\n      <td>4.0</td>\n      <td>14.0</td>\n      <td>0.99562</td>\n      <td>3.30</td>\n      <td>0.47</td>\n      <td>10.5</td>\n    </tr>\n    <tr>\n      <th>1148</th>\n      <td>7.8</td>\n      <td>0.39</td>\n      <td>0.42</td>\n      <td>2.0</td>\n      <td>0.086</td>\n      <td>9.0</td>\n      <td>21.0</td>\n      <td>0.99526</td>\n      <td>3.39</td>\n      <td>0.66</td>\n      <td>11.6</td>\n    </tr>\n    <tr>\n      <th>1523</th>\n      <td>6.8</td>\n      <td>0.48</td>\n      <td>0.25</td>\n      <td>2.0</td>\n      <td>0.076</td>\n      <td>29.0</td>\n      <td>61.0</td>\n      <td>0.99530</td>\n      <td>3.34</td>\n      <td>0.60</td>\n      <td>10.4</td>\n    </tr>\n    <tr>\n      <th>785</th>\n      <td>9.9</td>\n      <td>0.35</td>\n      <td>0.41</td>\n      <td>2.3</td>\n      <td>0.083</td>\n      <td>11.0</td>\n      <td>61.0</td>\n      <td>0.99820</td>\n      <td>3.21</td>\n      <td>0.50</td>\n      <td>9.5</td>\n    </tr>\n    <tr>\n      <th>1033</th>\n      <td>7.5</td>\n      <td>0.57</td>\n      <td>0.08</td>\n      <td>2.6</td>\n      <td>0.089</td>\n      <td>14.0</td>\n      <td>27.0</td>\n      <td>0.99592</td>\n      <td>3.30</td>\n      <td>0.59</td>\n      <td>10.4</td>\n    </tr>\n    <tr>\n      <th>...</th>\n      <td>...</td>\n      <td>...</td>\n      <td>...</td>\n      <td>...</td>\n      <td>...</td>\n      <td>...</td>\n      <td>...</td>\n      <td>...</td>\n      <td>...</td>\n      <td>...</td>\n      <td>...</td>\n    </tr>\n    <tr>\n      <th>1050</th>\n      <td>7.1</td>\n      <td>0.43</td>\n      <td>0.17</td>\n      <td>1.8</td>\n      <td>0.082</td>\n      <td>27.0</td>\n      <td>51.0</td>\n      <td>0.99634</td>\n      <td>3.49</td>\n      <td>0.64</td>\n      <td>10.4</td>\n    </tr>\n    <tr>\n      <th>1409</th>\n      <td>6.0</td>\n      <td>0.51</td>\n      <td>0.00</td>\n      <td>2.1</td>\n      <td>0.064</td>\n      <td>40.0</td>\n      <td>54.0</td>\n      <td>0.99500</td>\n      <td>3.54</td>\n      <td>0.93</td>\n      <td>10.7</td>\n    </tr>\n    <tr>\n      <th>1081</th>\n      <td>7.9</td>\n      <td>0.30</td>\n      <td>0.68</td>\n      <td>8.3</td>\n      <td>0.050</td>\n      <td>37.5</td>\n      <td>289.0</td>\n      <td>0.99316</td>\n      <td>3.01</td>\n      <td>0.51</td>\n      <td>12.3</td>\n    </tr>\n    <tr>\n      <th>535</th>\n      <td>9.1</td>\n      <td>0.22</td>\n      <td>0.24</td>\n      <td>2.1</td>\n      <td>0.078</td>\n      <td>1.0</td>\n      <td>28.0</td>\n      <td>0.99900</td>\n      <td>3.41</td>\n      <td>0.87</td>\n      <td>10.3</td>\n    </tr>\n    <tr>\n      <th>1137</th>\n      <td>10.4</td>\n      <td>0.52</td>\n      <td>0.45</td>\n      <td>2.0</td>\n      <td>0.080</td>\n      <td>6.0</td>\n      <td>13.0</td>\n      <td>0.99774</td>\n      <td>3.22</td>\n      <td>0.76</td>\n      <td>11.4</td>\n    </tr>\n  </tbody>\n</table>\n<p>1439 rows × 11 columns</p>\n</div>"
     },
     "execution_count": 8,
     "metadata": {},
     "output_type": "execute_result"
    }
   ],
   "source": [
    "dataset = repo.get_wines_dataset()\n",
    "dataset.train_data"
   ]
  },
  {
   "cell_type": "code",
   "execution_count": 13,
   "metadata": {
    "pycharm": {
     "name": "#%%\n"
    }
   },
   "outputs": [
    {
     "data": {
      "text/plain": "0.61875"
     },
     "execution_count": 13,
     "metadata": {},
     "output_type": "execute_result"
    }
   ],
   "source": [
    "model = DecisionTreeRegressor()\n",
    "model.fit(dataset.train_data, dataset.train_labels)\n",
    "predicted = model.predict(dataset.test_data)\n",
    "mean_squared_error(dataset.test_labels, predicted)"
   ]
  },
  {
   "cell_type": "code",
   "execution_count": 14,
   "outputs": [
    {
     "data": {
      "text/plain": "array([0.0343001 , 0.15845008, 0.05202884, 0.0671129 , 0.06452156,\n       0.04728031, 0.06196537, 0.07137451, 0.06104521, 0.11234515,\n       0.26957596])"
     },
     "execution_count": 14,
     "metadata": {},
     "output_type": "execute_result"
    }
   ],
   "source": [
    "model.feature_importances_\n"
   ],
   "metadata": {
    "collapsed": false,
    "pycharm": {
     "name": "#%%\n"
    }
   }
  },
  {
   "cell_type": "code",
   "execution_count": 17,
   "outputs": [
    {
     "data": {
      "text/plain": "array([0.0343001 , 0.15845008, 0.05202884, 0.0671129 , 0.06452156,\n       0.04728031, 0.06196537, 0.07137451, 0.06104521, 0.11234515,\n       0.26957596])"
     },
     "execution_count": 17,
     "metadata": {},
     "output_type": "execute_result"
    }
   ],
   "source": [
    "model.tree_.compute_feature_importances()\n"
   ],
   "metadata": {
    "collapsed": false,
    "pycharm": {
     "name": "#%%\n"
    }
   }
  }
 ],
 "metadata": {
  "kernelspec": {
   "display_name": "Python 3",
   "language": "python",
   "name": "python3"
  },
  "language_info": {
   "codemirror_mode": {
    "name": "ipython",
    "version": 3
   },
   "file_extension": ".py",
   "mimetype": "text/x-python",
   "name": "python",
   "nbconvert_exporter": "python",
   "pygments_lexer": "ipython3",
   "version": "3.8.0"
  }
 },
 "nbformat": 4,
 "nbformat_minor": 1
}