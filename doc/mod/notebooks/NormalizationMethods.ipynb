{
 "cells": [
  {
   "cell_type": "code",
   "execution_count": 1,
   "metadata": {
    "collapsed": true
   },
   "outputs": [],
   "source": [
    "import numpy as np\n",
    "from scipy.special import softmax\n",
    "import lime.tools as lime_utils"
   ]
  },
  {
   "cell_type": "code",
   "execution_count": 2,
   "outputs": [],
   "source": [
    "test_set = []\n",
    "test_set.append(np.array([ 0.00, 0.00, 1.00]))\n",
    "test_set.append(np.array([-0.20, 0.01, 0.80]))\n",
    "test_set.append(np.array([ 0.10, 0.10, 0.80]))\n",
    "test_set.append(np.array([ 0.00, 0.00, 0.00]))"
   ],
   "metadata": {
    "collapsed": false,
    "pycharm": {
     "name": "#%%\n"
    }
   }
  },
  {
   "cell_type": "code",
   "execution_count": 3,
   "outputs": [
    {
     "name": "stdout",
     "output_type": "stream",
     "text": [
      "x=[0. 0. 1.]\n",
      "softmax(x)=[0.21194156 0.21194156 0.57611688]\n",
      "custom_norm(x)=[0. 0. 1.]\n",
      "\n",
      "x=[-0.2   0.01  0.8 ]\n",
      "softmax(x)=[0.20194025 0.24912925 0.5489305 ]\n",
      "custom_norm(x)=[0.         0.01234568 0.98765432]\n",
      "\n",
      "x=[0.1 0.1 0.8]\n",
      "softmax(x)=[0.2491434 0.2491434 0.5017132]\n",
      "custom_norm(x)=[0.1 0.1 0.8]\n",
      "\n",
      "x=[0. 0. 0.]\n",
      "softmax(x)=[0.33333333 0.33333333 0.33333333]\n",
      "custom_norm(x)=[0.33333334 0.33333334 0.33333334]\n",
      "\n"
     ]
    }
   ],
   "source": [
    "for x in test_set:\n",
    "    print(f\"x={x}\")\n",
    "    print(f\"softmax(x)={softmax(x)}\")\n",
    "    print(f\"custom_norm(x)={lime_utils.custom_normalize(x)}\")\n",
    "    print()\n"
   ],
   "metadata": {
    "collapsed": false,
    "pycharm": {
     "name": "#%%\n"
    }
   }
  },
  {
   "cell_type": "code",
   "execution_count": 4,
   "outputs": [
    {
     "name": "stdout",
     "output_type": "stream",
     "text": [
      "[[ 0.    0.    1.  ]\n",
      " [-0.2   0.01  0.8 ]\n",
      " [ 0.1   0.1   0.8 ]\n",
      " [ 0.    0.    0.  ]]\n",
      "\n",
      "[[0.         0.         1.        ]\n",
      " [0.         0.01234568 0.98765432]\n",
      " [0.1        0.1        0.8       ]\n",
      " [0.33333334 0.33333334 0.33333334]]\n"
     ]
    }
   ],
   "source": [
    "x = np.stack(test_set)\n",
    "print(x)\n",
    "print()\n",
    "print(lime_utils.custom_normalize(x))\n"
   ],
   "metadata": {
    "collapsed": false,
    "pycharm": {
     "name": "#%%\n"
    }
   }
  }
 ],
 "metadata": {
  "kernelspec": {
   "display_name": "Python 3",
   "language": "python",
   "name": "python3"
  },
  "language_info": {
   "codemirror_mode": {
    "name": "ipython",
    "version": 2
   },
   "file_extension": ".py",
   "mimetype": "text/x-python",
   "name": "python",
   "nbconvert_exporter": "python",
   "pygments_lexer": "ipython2",
   "version": "2.7.6"
  }
 },
 "nbformat": 4,
 "nbformat_minor": 0
}