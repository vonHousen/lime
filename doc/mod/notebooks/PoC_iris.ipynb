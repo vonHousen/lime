{
 "cells": [
  {
   "cell_type": "code",
   "execution_count": 1,
   "metadata": {},
   "outputs": [],
   "source": [
    "import pandas as pd\n",
    "import numpy as np\n",
    "import sklearn.ensemble\n",
    "import lime.lime_tabular\n"
   ]
  },
  {
   "cell_type": "markdown",
   "metadata": {
    "pycharm": {
     "name": "#%% md\n"
    }
   },
   "source": [
    "### Load iris dataset"
   ]
  },
  {
   "cell_type": "code",
   "execution_count": 2,
   "metadata": {
    "pycharm": {
     "name": "#%%\n"
    }
   },
   "outputs": [
    {
     "data": {
      "text/plain": "     sepal_length  sepal_width  petal_length  petal_width            label\n59            5.2          2.7           3.9          1.4  Iris-versicolor\n91            6.1          3.0           4.6          1.4  Iris-versicolor\n108           6.7          2.5           5.8          1.8   Iris-virginica\n129           7.2          3.0           5.8          1.6   Iris-virginica\n99            5.7          2.8           4.1          1.3  Iris-versicolor\n..            ...          ...           ...          ...              ...\n37            4.9          3.1           1.5          0.1      Iris-setosa\n22            4.6          3.6           1.0          0.2      Iris-setosa\n52            6.9          3.1           4.9          1.5  Iris-versicolor\n125           7.2          3.2           6.0          1.8   Iris-virginica\n14            5.8          4.0           1.2          0.2      Iris-setosa\n\n[150 rows x 5 columns]",
      "text/html": "<div>\n<style scoped>\n    .dataframe tbody tr th:only-of-type {\n        vertical-align: middle;\n    }\n\n    .dataframe tbody tr th {\n        vertical-align: top;\n    }\n\n    .dataframe thead th {\n        text-align: right;\n    }\n</style>\n<table border=\"1\" class=\"dataframe\">\n  <thead>\n    <tr style=\"text-align: right;\">\n      <th></th>\n      <th>sepal_length</th>\n      <th>sepal_width</th>\n      <th>petal_length</th>\n      <th>petal_width</th>\n      <th>label</th>\n    </tr>\n  </thead>\n  <tbody>\n    <tr>\n      <th>59</th>\n      <td>5.2</td>\n      <td>2.7</td>\n      <td>3.9</td>\n      <td>1.4</td>\n      <td>Iris-versicolor</td>\n    </tr>\n    <tr>\n      <th>91</th>\n      <td>6.1</td>\n      <td>3.0</td>\n      <td>4.6</td>\n      <td>1.4</td>\n      <td>Iris-versicolor</td>\n    </tr>\n    <tr>\n      <th>108</th>\n      <td>6.7</td>\n      <td>2.5</td>\n      <td>5.8</td>\n      <td>1.8</td>\n      <td>Iris-virginica</td>\n    </tr>\n    <tr>\n      <th>129</th>\n      <td>7.2</td>\n      <td>3.0</td>\n      <td>5.8</td>\n      <td>1.6</td>\n      <td>Iris-virginica</td>\n    </tr>\n    <tr>\n      <th>99</th>\n      <td>5.7</td>\n      <td>2.8</td>\n      <td>4.1</td>\n      <td>1.3</td>\n      <td>Iris-versicolor</td>\n    </tr>\n    <tr>\n      <th>...</th>\n      <td>...</td>\n      <td>...</td>\n      <td>...</td>\n      <td>...</td>\n      <td>...</td>\n    </tr>\n    <tr>\n      <th>37</th>\n      <td>4.9</td>\n      <td>3.1</td>\n      <td>1.5</td>\n      <td>0.1</td>\n      <td>Iris-setosa</td>\n    </tr>\n    <tr>\n      <th>22</th>\n      <td>4.6</td>\n      <td>3.6</td>\n      <td>1.0</td>\n      <td>0.2</td>\n      <td>Iris-setosa</td>\n    </tr>\n    <tr>\n      <th>52</th>\n      <td>6.9</td>\n      <td>3.1</td>\n      <td>4.9</td>\n      <td>1.5</td>\n      <td>Iris-versicolor</td>\n    </tr>\n    <tr>\n      <th>125</th>\n      <td>7.2</td>\n      <td>3.2</td>\n      <td>6.0</td>\n      <td>1.8</td>\n      <td>Iris-virginica</td>\n    </tr>\n    <tr>\n      <th>14</th>\n      <td>5.8</td>\n      <td>4.0</td>\n      <td>1.2</td>\n      <td>0.2</td>\n      <td>Iris-setosa</td>\n    </tr>\n  </tbody>\n</table>\n<p>150 rows × 5 columns</p>\n</div>"
     },
     "execution_count": 2,
     "metadata": {},
     "output_type": "execute_result"
    }
   ],
   "source": [
    "iris_dataset = pd.read_csv(\n",
    "    \"../data/iris-classification/iris.data\",\n",
    "    names=[\n",
    "        \"sepal_length\",\n",
    "        \"sepal_width\",\n",
    "        \"petal_length\",\n",
    "        \"petal_width\",\n",
    "        \"label\"\n",
    "    ]).sample(frac=1)\n",
    "iris_dataset"
   ]
  },
  {
   "cell_type": "code",
   "execution_count": 3,
   "metadata": {
    "pycharm": {
     "name": "#%%\n"
    }
   },
   "outputs": [
    {
     "data": {
      "text/plain": "       sepal_length  sepal_width  petal_length  petal_width\ncount    150.000000   150.000000    150.000000   150.000000\nmean       5.843333     3.054000      3.758667     1.198667\nstd        0.828066     0.433594      1.764420     0.763161\nmin        4.300000     2.000000      1.000000     0.100000\n25%        5.100000     2.800000      1.600000     0.300000\n50%        5.800000     3.000000      4.350000     1.300000\n75%        6.400000     3.300000      5.100000     1.800000\nmax        7.900000     4.400000      6.900000     2.500000",
      "text/html": "<div>\n<style scoped>\n    .dataframe tbody tr th:only-of-type {\n        vertical-align: middle;\n    }\n\n    .dataframe tbody tr th {\n        vertical-align: top;\n    }\n\n    .dataframe thead th {\n        text-align: right;\n    }\n</style>\n<table border=\"1\" class=\"dataframe\">\n  <thead>\n    <tr style=\"text-align: right;\">\n      <th></th>\n      <th>sepal_length</th>\n      <th>sepal_width</th>\n      <th>petal_length</th>\n      <th>petal_width</th>\n    </tr>\n  </thead>\n  <tbody>\n    <tr>\n      <th>count</th>\n      <td>150.000000</td>\n      <td>150.000000</td>\n      <td>150.000000</td>\n      <td>150.000000</td>\n    </tr>\n    <tr>\n      <th>mean</th>\n      <td>5.843333</td>\n      <td>3.054000</td>\n      <td>3.758667</td>\n      <td>1.198667</td>\n    </tr>\n    <tr>\n      <th>std</th>\n      <td>0.828066</td>\n      <td>0.433594</td>\n      <td>1.764420</td>\n      <td>0.763161</td>\n    </tr>\n    <tr>\n      <th>min</th>\n      <td>4.300000</td>\n      <td>2.000000</td>\n      <td>1.000000</td>\n      <td>0.100000</td>\n    </tr>\n    <tr>\n      <th>25%</th>\n      <td>5.100000</td>\n      <td>2.800000</td>\n      <td>1.600000</td>\n      <td>0.300000</td>\n    </tr>\n    <tr>\n      <th>50%</th>\n      <td>5.800000</td>\n      <td>3.000000</td>\n      <td>4.350000</td>\n      <td>1.300000</td>\n    </tr>\n    <tr>\n      <th>75%</th>\n      <td>6.400000</td>\n      <td>3.300000</td>\n      <td>5.100000</td>\n      <td>1.800000</td>\n    </tr>\n    <tr>\n      <th>max</th>\n      <td>7.900000</td>\n      <td>4.400000</td>\n      <td>6.900000</td>\n      <td>2.500000</td>\n    </tr>\n  </tbody>\n</table>\n</div>"
     },
     "execution_count": 3,
     "metadata": {},
     "output_type": "execute_result"
    }
   ],
   "source": [
    "iris_dataset.describe()"
   ]
  },
  {
   "cell_type": "code",
   "execution_count": 4,
   "metadata": {
    "pycharm": {
     "name": "#%%\n"
    }
   },
   "outputs": [
    {
     "data": {
      "text/plain": "              sepal_length  sepal_width  petal_length  petal_width\nsepal_length      1.000000    -0.109369      0.871754     0.817954\nsepal_width      -0.109369     1.000000     -0.420516    -0.356544\npetal_length      0.871754    -0.420516      1.000000     0.962757\npetal_width       0.817954    -0.356544      0.962757     1.000000",
      "text/html": "<div>\n<style scoped>\n    .dataframe tbody tr th:only-of-type {\n        vertical-align: middle;\n    }\n\n    .dataframe tbody tr th {\n        vertical-align: top;\n    }\n\n    .dataframe thead th {\n        text-align: right;\n    }\n</style>\n<table border=\"1\" class=\"dataframe\">\n  <thead>\n    <tr style=\"text-align: right;\">\n      <th></th>\n      <th>sepal_length</th>\n      <th>sepal_width</th>\n      <th>petal_length</th>\n      <th>petal_width</th>\n    </tr>\n  </thead>\n  <tbody>\n    <tr>\n      <th>sepal_length</th>\n      <td>1.000000</td>\n      <td>-0.109369</td>\n      <td>0.871754</td>\n      <td>0.817954</td>\n    </tr>\n    <tr>\n      <th>sepal_width</th>\n      <td>-0.109369</td>\n      <td>1.000000</td>\n      <td>-0.420516</td>\n      <td>-0.356544</td>\n    </tr>\n    <tr>\n      <th>petal_length</th>\n      <td>0.871754</td>\n      <td>-0.420516</td>\n      <td>1.000000</td>\n      <td>0.962757</td>\n    </tr>\n    <tr>\n      <th>petal_width</th>\n      <td>0.817954</td>\n      <td>-0.356544</td>\n      <td>0.962757</td>\n      <td>1.000000</td>\n    </tr>\n  </tbody>\n</table>\n</div>"
     },
     "execution_count": 4,
     "metadata": {},
     "output_type": "execute_result"
    }
   ],
   "source": [
    "iris_dataset.corr()"
   ]
  },
  {
   "cell_type": "code",
   "execution_count": 5,
   "metadata": {
    "pycharm": {
     "name": "#%%\n"
    }
   },
   "outputs": [],
   "source": [
    "# encoder = OneHotEncoder(sparse=False)\n",
    "# categories_transformed = encoder.fit_transform(iris_dataset[[\"label\"]])\n",
    "# encoder.categories_[0]"
   ]
  },
  {
   "cell_type": "code",
   "execution_count": 6,
   "outputs": [
    {
     "data": {
      "text/plain": "                 sepal_length  sepal_width  petal_length  petal_width  \\\nsepal_length         1.000000    -0.109369      0.871754     0.817954   \nsepal_width         -0.109369     1.000000     -0.420516    -0.356544   \npetal_length         0.871754    -0.420516      1.000000     0.962757   \npetal_width          0.817954    -0.356544      0.962757     1.000000   \niris_setosa         -0.717416     0.595601     -0.922688    -0.887510   \niris_versicolor      0.079396    -0.464700      0.201587     0.118376   \niris_virginica       0.638020    -0.130901      0.721102     0.769134   \n\n                 iris_setosa  iris_versicolor  iris_virginica  \nsepal_length       -0.717416         0.079396        0.638020  \nsepal_width         0.595601        -0.464700       -0.130901  \npetal_length       -0.922688         0.201587        0.721102  \npetal_width        -0.887510         0.118376        0.769134  \niris_setosa         1.000000        -0.500000       -0.500000  \niris_versicolor    -0.500000         1.000000       -0.500000  \niris_virginica     -0.500000        -0.500000        1.000000  ",
      "text/html": "<div>\n<style scoped>\n    .dataframe tbody tr th:only-of-type {\n        vertical-align: middle;\n    }\n\n    .dataframe tbody tr th {\n        vertical-align: top;\n    }\n\n    .dataframe thead th {\n        text-align: right;\n    }\n</style>\n<table border=\"1\" class=\"dataframe\">\n  <thead>\n    <tr style=\"text-align: right;\">\n      <th></th>\n      <th>sepal_length</th>\n      <th>sepal_width</th>\n      <th>petal_length</th>\n      <th>petal_width</th>\n      <th>iris_setosa</th>\n      <th>iris_versicolor</th>\n      <th>iris_virginica</th>\n    </tr>\n  </thead>\n  <tbody>\n    <tr>\n      <th>sepal_length</th>\n      <td>1.000000</td>\n      <td>-0.109369</td>\n      <td>0.871754</td>\n      <td>0.817954</td>\n      <td>-0.717416</td>\n      <td>0.079396</td>\n      <td>0.638020</td>\n    </tr>\n    <tr>\n      <th>sepal_width</th>\n      <td>-0.109369</td>\n      <td>1.000000</td>\n      <td>-0.420516</td>\n      <td>-0.356544</td>\n      <td>0.595601</td>\n      <td>-0.464700</td>\n      <td>-0.130901</td>\n    </tr>\n    <tr>\n      <th>petal_length</th>\n      <td>0.871754</td>\n      <td>-0.420516</td>\n      <td>1.000000</td>\n      <td>0.962757</td>\n      <td>-0.922688</td>\n      <td>0.201587</td>\n      <td>0.721102</td>\n    </tr>\n    <tr>\n      <th>petal_width</th>\n      <td>0.817954</td>\n      <td>-0.356544</td>\n      <td>0.962757</td>\n      <td>1.000000</td>\n      <td>-0.887510</td>\n      <td>0.118376</td>\n      <td>0.769134</td>\n    </tr>\n    <tr>\n      <th>iris_setosa</th>\n      <td>-0.717416</td>\n      <td>0.595601</td>\n      <td>-0.922688</td>\n      <td>-0.887510</td>\n      <td>1.000000</td>\n      <td>-0.500000</td>\n      <td>-0.500000</td>\n    </tr>\n    <tr>\n      <th>iris_versicolor</th>\n      <td>0.079396</td>\n      <td>-0.464700</td>\n      <td>0.201587</td>\n      <td>0.118376</td>\n      <td>-0.500000</td>\n      <td>1.000000</td>\n      <td>-0.500000</td>\n    </tr>\n    <tr>\n      <th>iris_virginica</th>\n      <td>0.638020</td>\n      <td>-0.130901</td>\n      <td>0.721102</td>\n      <td>0.769134</td>\n      <td>-0.500000</td>\n      <td>-0.500000</td>\n      <td>1.000000</td>\n    </tr>\n  </tbody>\n</table>\n</div>"
     },
     "execution_count": 6,
     "metadata": {},
     "output_type": "execute_result"
    }
   ],
   "source": [
    "iris_dataset_transformed_labels = iris_dataset.copy()\n",
    "iris_dataset_transformed_labels[\"iris_setosa\"] = iris_dataset_transformed_labels[\"label\"] == \"Iris-setosa\"\n",
    "iris_dataset_transformed_labels[\"iris_versicolor\"] = iris_dataset_transformed_labels[\"label\"] == \"Iris-versicolor\"\n",
    "iris_dataset_transformed_labels[\"iris_virginica\"] = iris_dataset_transformed_labels[\"label\"] == \"Iris-virginica\"\n",
    "iris_dataset_transformed_labels.corr()"
   ],
   "metadata": {
    "collapsed": false,
    "pycharm": {
     "name": "#%%\n"
    }
   }
  },
  {
   "cell_type": "markdown",
   "metadata": {
    "pycharm": {
     "name": "#%% md\n"
    }
   },
   "source": [
    "### Prepare dataset "
   ]
  },
  {
   "cell_type": "code",
   "execution_count": 7,
   "metadata": {
    "pycharm": {
     "name": "#%%\n"
    }
   },
   "outputs": [
    {
     "name": "stdout",
     "output_type": "stream",
     "text": [
      "Labels: ['Iris-setosa' 'Iris-versicolor' 'Iris-virginica']\n",
      "Attributes: ['petal_length', 'petal_width', 'sepal_length', 'sepal_width']\n"
     ]
    }
   ],
   "source": [
    "labels_column_name = \"label\"\n",
    "train_set = iris_dataset.drop(columns=labels_column_name).values\n",
    "train_labels = iris_dataset[labels_column_name].values\n",
    "jackknife_idx = np.random.randint(0, train_set.shape[0])\n",
    "test_set = train_set[[jackknife_idx], :]\n",
    "test_labels = train_labels[[jackknife_idx]]\n",
    "\n",
    "\n",
    "unique_labels = np.unique(train_labels)\n",
    "attributes = iris_dataset.columns.tolist()\n",
    "attributes.remove(labels_column_name)\n",
    "unique_labels.sort()\n",
    "attributes.sort()\n",
    "print(f\"Labels: {unique_labels}\")\n",
    "print(f\"Attributes: {attributes}\")"
   ]
  },
  {
   "cell_type": "code",
   "execution_count": 8,
   "metadata": {
    "pycharm": {
     "name": "#%%\n"
    }
   },
   "outputs": [
    {
     "data": {
      "text/plain": "RandomForestClassifier(n_estimators=42)"
     },
     "execution_count": 8,
     "metadata": {},
     "output_type": "execute_result"
    }
   ],
   "source": [
    "random_forest = sklearn.ensemble.RandomForestClassifier(n_estimators = 42)\n",
    "random_forest.fit(train_set, train_labels)"
   ]
  },
  {
   "cell_type": "code",
   "execution_count": 9,
   "metadata": {
    "pycharm": {
     "name": "#%%\n"
    }
   },
   "outputs": [
    {
     "name": "stdout",
     "output_type": "stream",
     "text": [
      "Predicted: ['Iris-versicolor']. It's accuracy: 1.0\n"
     ]
    }
   ],
   "source": [
    "result = random_forest.predict(test_set)\n",
    "accuracy = sklearn.metrics.accuracy_score(test_labels, result)\n",
    "print(f\"Predicted: {result}. It's accuracy: {accuracy}\")"
   ]
  },
  {
   "cell_type": "markdown",
   "metadata": {
    "pycharm": {
     "name": "#%% md\n"
    }
   },
   "source": [
    "### Use LIME to explain local prediction"
   ]
  },
  {
   "cell_type": "code",
   "execution_count": 10,
   "metadata": {
    "pycharm": {
     "name": "#%%\n"
    }
   },
   "outputs": [],
   "source": [
    "explainer = lime.lime_tabular.LimeTabularExplainer(\n",
    "    train_set,\n",
    "    feature_names = attributes,\n",
    "    class_names = train_labels\n",
    ")"
   ]
  },
  {
   "cell_type": "markdown",
   "metadata": {},
   "source": [
    "Show probabilities for random instance (given by random forest on test dataset)"
   ]
  },
  {
   "cell_type": "code",
   "execution_count": 11,
   "metadata": {
    "pycharm": {
     "name": "#%%\n"
    }
   },
   "outputs": [
    {
     "name": "stdout",
     "output_type": "stream",
     "text": [
      "{'Iris-setosa': 0.0, 'Iris-versicolor': 1.0, 'Iris-virginica': 0.0}\n"
     ]
    }
   ],
   "source": [
    "instance = test_set[0]\n",
    "probabilities = random_forest.predict_proba(instance.reshape(1,-1))[0,:]\n",
    "probabilities_for_labels = {}\n",
    "for label, probability in zip(random_forest.classes_, probabilities):\n",
    "    probabilities_for_labels[label] = probability\n",
    "print(probabilities_for_labels)\n",
    "predicted_label_id = np.argmax(probabilities)"
   ]
  },
  {
   "cell_type": "markdown",
   "metadata": {},
   "source": [
    "Explain the instance"
   ]
  },
  {
   "cell_type": "code",
   "execution_count": 12,
   "metadata": {
    "pycharm": {
     "name": "#%%\n"
    }
   },
   "outputs": [
    {
     "data": {
      "text/plain": "array([0., 1., 0.])"
     },
     "execution_count": 12,
     "metadata": {},
     "output_type": "execute_result"
    },
    {
     "data": {
      "text/plain": "<Figure size 432x288 with 1 Axes>",
      "image/png": "[encoded data removed]"
     },
     "metadata": {
      "needs_background": "light"
     },
     "output_type": "display_data"
    }
   ],
   "source": [
    "exp = explainer.explain_instance(\n",
    "    instance,\n",
    "    random_forest.predict_proba,\n",
    "    num_features = 4,\n",
    "    top_labels = 3\n",
    ")\n",
    "exp.as_pyplot_figure(predicted_label_id)\n",
    "exp.predict_proba"
   ]
  },
  {
   "cell_type": "markdown",
   "metadata": {},
   "source": [
    "Update some attributes to see if probabilities would change"
   ]
  },
  {
   "cell_type": "code",
   "execution_count": 13,
   "outputs": [
    {
     "data": {
      "text/plain": "[('4.35 < sepal_length <= 5.10', 0.22323523733089304),\n ('0.30 < sepal_width <= 1.30', 0.1769453831946335),\n ('petal_width <= 2.80', -0.03171686063470365),\n ('5.80 < petal_length <= 6.40', 0.02583719714608582)]"
     },
     "execution_count": 13,
     "metadata": {},
     "output_type": "execute_result"
    }
   ],
   "source": [
    "most_important_feature_id = exp.as_map()[predicted_label_id][0][0]\n",
    "exp.as_list(predicted_label_id)\n"
   ],
   "metadata": {
    "collapsed": false,
    "pycharm": {
     "name": "#%%\n"
    }
   }
  },
  {
   "cell_type": "code",
   "execution_count": 14,
   "outputs": [
    {
     "data": {
      "text/plain": "array([6.3, 2.3, 4.4, 1.3])"
     },
     "execution_count": 14,
     "metadata": {},
     "output_type": "execute_result"
    }
   ],
   "source": [
    "instance"
   ],
   "metadata": {
    "collapsed": false,
    "pycharm": {
     "name": "#%%\n"
    }
   }
  },
  {
   "cell_type": "code",
   "execution_count": 15,
   "metadata": {
    "pycharm": {
     "name": "#%%\n"
    }
   },
   "outputs": [
    {
     "name": "stdout",
     "output_type": "stream",
     "text": [
      "Probabilities before: [[0. 1. 0.]]\n",
      "Probabilities after: [[0.52380952 0.47619048 0.        ]]\n"
     ]
    }
   ],
   "source": [
    "instance_to_experiment_with = instance.copy()\n",
    "print('Probabilities before:', random_forest.predict_proba(instance_to_experiment_with.reshape(1,-1)))\n",
    "instance_to_experiment_with[most_important_feature_id] = 2.0\n",
    "print('Probabilities after:', random_forest.predict_proba(instance_to_experiment_with.reshape(1,-1)))"
   ]
  },
  {
   "cell_type": "markdown",
   "metadata": {},
   "source": [
    "Explain changed instance to see the changes"
   ]
  },
  {
   "cell_type": "code",
   "execution_count": 16,
   "outputs": [
    {
     "data": {
      "text/plain": "[array([5.1, 5.8, 6.4]),\n array([2.8, 3. , 3.3]),\n array([1.6 , 4.35, 5.1 ]),\n array([0.3, 1.3, 1.8])]"
     },
     "execution_count": 16,
     "metadata": {},
     "output_type": "execute_result"
    }
   ],
   "source": [
    "explainer.discretizer.bins_map  # TODO need to modify src to get suggested change"
   ],
   "metadata": {
    "collapsed": false,
    "pycharm": {
     "name": "#%%\n"
    }
   }
  },
  {
   "cell_type": "code",
   "execution_count": 17,
   "metadata": {
    "pycharm": {
     "name": "#%%\n"
    }
   },
   "outputs": [
    {
     "data": {
      "text/plain": "array([0.52380952, 0.47619048, 0.        ])"
     },
     "execution_count": 17,
     "metadata": {},
     "output_type": "execute_result"
    },
    {
     "data": {
      "text/plain": "<Figure size 432x288 with 1 Axes>",
      "image/png": "[encoded data removed]"
     },
     "metadata": {
      "needs_background": "light"
     },
     "output_type": "display_data"
    }
   ],
   "source": [
    "exp = explainer.explain_instance(\n",
    "    instance_to_experiment_with,\n",
    "    random_forest.predict_proba,\n",
    "    num_features = 4,\n",
    "    top_labels = 3\n",
    ")\n",
    "exp.as_pyplot_figure(predicted_label_id)\n",
    "exp.predict_proba"
   ]
  },
  {
   "cell_type": "code",
   "execution_count": 17,
   "metadata": {
    "pycharm": {
     "name": "#%%\n"
    }
   },
   "outputs": [],
   "source": []
  },
  {
   "cell_type": "code",
   "execution_count": 17,
   "metadata": {
    "pycharm": {
     "name": "#%%\n"
    }
   },
   "outputs": [],
   "source": []
  }
 ],
 "metadata": {
  "kernelspec": {
   "display_name": "Python 3",
   "language": "python",
   "name": "python3"
  },
  "language_info": {
   "codemirror_mode": {
    "name": "ipython",
    "version": 3
   },
   "file_extension": ".py",
   "mimetype": "text/x-python",
   "name": "python",
   "nbconvert_exporter": "python",
   "pygments_lexer": "ipython3",
   "version": "3.8.0"
  }
 },
 "nbformat": 4,
 "nbformat_minor": 1
}