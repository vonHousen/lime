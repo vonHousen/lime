{
 "cells": [
  {
   "cell_type": "code",
   "execution_count": 40,
   "outputs": [],
   "source": [
    "import lime\n",
    "import sklearn\n",
    "import numpy as np\n",
    "import pandas as pd\n",
    "import sklearn\n",
    "import sklearn.ensemble\n",
    "import sklearn.metrics\n"
   ],
   "metadata": {
    "collapsed": false,
    "pycharm": {
     "name": "#%%\n"
    }
   }
  },
  {
   "cell_type": "markdown",
   "source": [
    "Load data about wines' quality"
   ],
   "metadata": {
    "collapsed": false
   }
  },
  {
   "cell_type": "code",
   "execution_count": 41,
   "outputs": [
    {
     "data": {
      "text/plain": "      fixed acidity  volatile acidity  citric acid  residual sugar  chlorides  \\\n1408            8.1              0.29         0.36             2.2      0.048   \n1054            8.2              0.64         0.27             2.0      0.095   \n696             7.0              0.65         0.02             2.1      0.066   \n939             6.2              0.46         0.17             1.6      0.073   \n301            11.1              0.18         0.48             1.5      0.068   \n\n      free sulfur dioxide  total sulfur dioxide  density    pH  sulphates  \\\n1408                 35.0                  53.0  0.99500  3.27       1.01   \n1054                  5.0                  77.0  0.99747  3.13       0.62   \n696                   8.0                  25.0  0.99720  3.47       0.67   \n939                   7.0                  11.0  0.99425  3.61       0.54   \n301                   7.0                  15.0  0.99730  3.22       0.64   \n\n      alcohol  quality  \n1408     12.4        7  \n1054      9.1        6  \n696       9.5        6  \n939      11.4        5  \n301      10.1        6  ",
      "text/html": "<div>\n<style scoped>\n    .dataframe tbody tr th:only-of-type {\n        vertical-align: middle;\n    }\n\n    .dataframe tbody tr th {\n        vertical-align: top;\n    }\n\n    .dataframe thead th {\n        text-align: right;\n    }\n</style>\n<table border=\"1\" class=\"dataframe\">\n  <thead>\n    <tr style=\"text-align: right;\">\n      <th></th>\n      <th>fixed acidity</th>\n      <th>volatile acidity</th>\n      <th>citric acid</th>\n      <th>residual sugar</th>\n      <th>chlorides</th>\n      <th>free sulfur dioxide</th>\n      <th>total sulfur dioxide</th>\n      <th>density</th>\n      <th>pH</th>\n      <th>sulphates</th>\n      <th>alcohol</th>\n      <th>quality</th>\n    </tr>\n  </thead>\n  <tbody>\n    <tr>\n      <th>1408</th>\n      <td>8.1</td>\n      <td>0.29</td>\n      <td>0.36</td>\n      <td>2.2</td>\n      <td>0.048</td>\n      <td>35.0</td>\n      <td>53.0</td>\n      <td>0.99500</td>\n      <td>3.27</td>\n      <td>1.01</td>\n      <td>12.4</td>\n      <td>7</td>\n    </tr>\n    <tr>\n      <th>1054</th>\n      <td>8.2</td>\n      <td>0.64</td>\n      <td>0.27</td>\n      <td>2.0</td>\n      <td>0.095</td>\n      <td>5.0</td>\n      <td>77.0</td>\n      <td>0.99747</td>\n      <td>3.13</td>\n      <td>0.62</td>\n      <td>9.1</td>\n      <td>6</td>\n    </tr>\n    <tr>\n      <th>696</th>\n      <td>7.0</td>\n      <td>0.65</td>\n      <td>0.02</td>\n      <td>2.1</td>\n      <td>0.066</td>\n      <td>8.0</td>\n      <td>25.0</td>\n      <td>0.99720</td>\n      <td>3.47</td>\n      <td>0.67</td>\n      <td>9.5</td>\n      <td>6</td>\n    </tr>\n    <tr>\n      <th>939</th>\n      <td>6.2</td>\n      <td>0.46</td>\n      <td>0.17</td>\n      <td>1.6</td>\n      <td>0.073</td>\n      <td>7.0</td>\n      <td>11.0</td>\n      <td>0.99425</td>\n      <td>3.61</td>\n      <td>0.54</td>\n      <td>11.4</td>\n      <td>5</td>\n    </tr>\n    <tr>\n      <th>301</th>\n      <td>11.1</td>\n      <td>0.18</td>\n      <td>0.48</td>\n      <td>1.5</td>\n      <td>0.068</td>\n      <td>7.0</td>\n      <td>15.0</td>\n      <td>0.99730</td>\n      <td>3.22</td>\n      <td>0.64</td>\n      <td>10.1</td>\n      <td>6</td>\n    </tr>\n  </tbody>\n</table>\n</div>"
     },
     "execution_count": 41,
     "metadata": {},
     "output_type": "execute_result"
    }
   ],
   "source": [
    "data = pd.read_csv('../data/WINE/winequality-red.csv', sep = ';')\n",
    "tr_data, ts_data = sklearn.model_selection.train_test_split(data, train_size=0.80)\n",
    "labels_column_name = 'quality'\n",
    "tr_data.head()"
   ],
   "metadata": {
    "collapsed": false,
    "pycharm": {
     "name": "#%%\n"
    }
   }
  },
  {
   "cell_type": "markdown",
   "source": [
    "Prepare data"
   ],
   "metadata": {
    "collapsed": false
   }
  },
  {
   "cell_type": "code",
   "execution_count": 42,
   "outputs": [
    {
     "name": "stdout",
     "output_type": "stream",
     "text": [
      "Labels:  [3 4 5 6 7 8]\n",
      "Attributes:  ['fixed acidity', 'volatile acidity', 'citric acid', 'residual sugar', 'chlorides', 'free sulfur dioxide', 'total sulfur dioxide', 'density', 'pH', 'sulphates', 'alcohol']\n"
     ]
    }
   ],
   "source": [
    "tr_labels = np.array(tr_data[labels_column_name])\n",
    "ts_labels = np.array(ts_data[labels_column_name])\n",
    "tr_data_without_classes = tr_data.drop(labels_column_name, axis = 1)\n",
    "ts_data_without_classes = ts_data.drop(labels_column_name, axis = 1)\n",
    "training_set = np.array(tr_data_without_classes)\n",
    "test_set = np.array(ts_data_without_classes)\n",
    "attributes = list(tr_data_without_classes)\n",
    "labels = data[labels_column_name].unique()\n",
    "labels.sort()\n",
    "print('Labels: ', labels)\n",
    "print('Attributes: ', attributes)"
   ],
   "metadata": {
    "collapsed": false,
    "pycharm": {
     "name": "#%%\n"
    }
   }
  },
  {
   "cell_type": "markdown",
   "source": [
    "Train random forest on prepared training dataset"
   ],
   "metadata": {
    "collapsed": false
   }
  },
  {
   "cell_type": "code",
   "execution_count": 43,
   "outputs": [
    {
     "data": {
      "text/plain": "RandomForestClassifier(n_estimators=800)"
     },
     "execution_count": 43,
     "metadata": {},
     "output_type": "execute_result"
    }
   ],
   "source": [
    "random_forest = sklearn.ensemble.RandomForestClassifier(n_estimators = 800) # TODO use regressor!\n",
    "random_forest.fit(training_set, tr_labels)"
   ],
   "metadata": {
    "collapsed": false,
    "pycharm": {
     "name": "#%%\n"
    }
   }
  },
  {
   "cell_type": "markdown",
   "source": [
    "Check forest quality with F-measure"
   ],
   "metadata": {
    "collapsed": false
   }
  },
  {
   "cell_type": "code",
   "execution_count": 44,
   "outputs": [
    {
     "data": {
      "text/plain": "0.703125"
     },
     "execution_count": 44,
     "metadata": {},
     "output_type": "execute_result"
    }
   ],
   "source": [
    "sklearn.metrics.accuracy_score(ts_labels, random_forest.predict(test_set))"
   ],
   "metadata": {
    "collapsed": false,
    "pycharm": {
     "name": "#%%\n"
    }
   }
  },
  {
   "cell_type": "markdown",
   "source": [
    "### Next, explain something using lime"
   ],
   "metadata": {
    "collapsed": false
   }
  },
  {
   "cell_type": "code",
   "execution_count": 45,
   "outputs": [],
   "source": [
    "import lime\n",
    "import lime.lime_tabular"
   ],
   "metadata": {
    "collapsed": false,
    "pycharm": {
     "name": "#%%\n"
    }
   }
  },
  {
   "cell_type": "markdown",
   "source": [
    "Create explainer object (it need to be trained on startup)"
   ],
   "metadata": {
    "collapsed": false
   }
  },
  {
   "cell_type": "code",
   "execution_count": 46,
   "outputs": [],
   "source": [
    "explainer = lime.lime_tabular.LimeTabularExplainer(\n",
    "    training_set,\n",
    "    feature_names = attributes,\n",
    "    class_names = labels\n",
    ")"
   ],
   "metadata": {
    "collapsed": false,
    "pycharm": {
     "name": "#%%\n"
    }
   }
  },
  {
   "cell_type": "markdown",
   "source": [
    "Show probabilities for random instance (given by random forest on test dataset)"
   ],
   "metadata": {
    "collapsed": false
   }
  },
  {
   "cell_type": "code",
   "execution_count": 47,
   "outputs": [
    {
     "name": "stdout",
     "output_type": "stream",
     "text": [
      "{3: [0.1325], 4: [0.31375], 5: [0.34], 6: [0.18375], 7: [0.03], 8: [0.0]}\n"
     ]
    }
   ],
   "source": [
    "# random_indx = np.random.randint(0, test_set.shape[0])\n",
    "# print(random_indx)\n",
    "random_indx = 50\n",
    "instance = test_set[random_indx].copy()\n",
    "probabilities = random_forest.predict_proba(instance.reshape(1,-1))[0,:]\n",
    "probabilities_for_labels = {}\n",
    "for label, probability in zip(random_forest.classes_, probabilities):\n",
    "    probabilities_for_labels.setdefault(label, []).append(probability)\n",
    "print(probabilities_for_labels)"
   ],
   "metadata": {
    "collapsed": false,
    "pycharm": {
     "name": "#%%\n"
    }
   }
  },
  {
   "cell_type": "markdown",
   "source": [
    "Explain the instance"
   ],
   "metadata": {
    "collapsed": false
   }
  },
  {
   "cell_type": "code",
   "execution_count": 48,
   "outputs": [],
   "source": [
    "exp = explainer.explain_instance(\n",
    "    test_set[random_indx],\n",
    "    random_forest.predict_proba,\n",
    "    num_features = 5,\n",
    "    top_labels = 2\n",
    ")\n",
    "# exp.show_in_notebook(show_table=True, show_all=False)\n",
    "exp.save_to_file('tmp/PoC_2.html')"
   ],
   "metadata": {
    "collapsed": false,
    "pycharm": {
     "name": "#%%\n"
    }
   }
  },
  {
   "cell_type": "code",
   "execution_count": 49,
   "outputs": [
    {
     "data": {
      "text/plain": "{1: [(9, 0.036275890433175195),\n  (1, 0.03370385496512335),\n  (8, 0.013096303351865648),\n  (5, 0.012518100203185271),\n  (3, 0.011642897207096273)],\n 2: [(9, 0.12396742147258427),\n  (1, 0.06906166811768981),\n  (10, -0.0627273578326701),\n  (6, -0.04933458621242057),\n  (7, 0.025975647550675985)]}"
     },
     "execution_count": 49,
     "metadata": {},
     "output_type": "execute_result"
    }
   ],
   "source": [
    "exp.as_map()"
   ],
   "metadata": {
    "collapsed": false,
    "pycharm": {
     "name": "#%%\n"
    }
   }
  },
  {
   "cell_type": "code",
   "execution_count": 50,
   "outputs": [
    {
     "data": {
      "text/plain": "<Figure size 432x288 with 1 Axes>",
      "image/png": "[encoded data removed]"
     },
     "metadata": {
      "needs_background": "light"
     },
     "output_type": "display_data"
    }
   ],
   "source": [
    "_ = exp.as_pyplot_figure(label=2)"
   ],
   "metadata": {
    "collapsed": false,
    "pycharm": {
     "name": "#%%\n"
    }
   }
  },
  {
   "cell_type": "code",
   "execution_count": 51,
   "outputs": [
    {
     "data": {
      "text/plain": "[(9, 0.12396742147258427),\n (1, 0.06906166811768981),\n (10, -0.0627273578326701),\n (6, -0.04933458621242057),\n (7, 0.025975647550675985)]"
     },
     "execution_count": 51,
     "metadata": {},
     "output_type": "execute_result"
    }
   ],
   "source": [
    "exp.as_map()[2]"
   ],
   "metadata": {
    "collapsed": false,
    "pycharm": {
     "name": "#%%\n"
    }
   }
  },
  {
   "cell_type": "markdown",
   "source": [
    "Update some attribute to see if probabilites would change"
   ],
   "metadata": {
    "collapsed": false
   }
  },
  {
   "cell_type": "code",
   "execution_count": 52,
   "outputs": [
    {
     "name": "stdout",
     "output_type": "stream",
     "text": [
      "P(quality = 5) before: 0.34\n",
      "P(quality = 6) before: 0.18375\n",
      "P(quality = 5) after change: 0.345\n",
      "P(quality = 6) after change: 0.25375\n"
     ]
    }
   ],
   "source": [
    "temp = test_set[random_indx]                # shallow copy!\n",
    "print('P(quality = 5) before:', random_forest.predict_proba(temp.reshape(1,-1))[0,2])\n",
    "print('P(quality = 6) before:', random_forest.predict_proba(temp.reshape(1,-1))[0,3])\n",
    "temp[attributes.index('alcohol')] = 12.0    # update attribute: alcohol\n",
    "print('P(quality = 5) after change:', random_forest.predict_proba(temp.reshape(1,-1))[0,2])\n",
    "print('P(quality = 6) after change:', random_forest.predict_proba(temp.reshape(1,-1))[0,3])"
   ],
   "metadata": {
    "collapsed": false,
    "pycharm": {
     "name": "#%%\n"
    }
   }
  },
  {
   "cell_type": "markdown",
   "source": [
    "Explain changed instance to see the changes"
   ],
   "metadata": {
    "collapsed": false
   }
  },
  {
   "cell_type": "code",
   "execution_count": 58,
   "outputs": [
    {
     "data": {
      "text/plain": "<Figure size 432x288 with 1 Axes>",
      "image/png": "[encoded data removed]"
     },
     "metadata": {
      "needs_background": "light"
     },
     "output_type": "display_data"
    }
   ],
   "source": [
    "exp = explainer.explain_instance(\n",
    "    test_set[random_indx],\n",
    "    random_forest.predict_proba,\n",
    "    num_features = 5,\n",
    "    top_labels = 2\n",
    ")\n",
    "_ = exp.as_pyplot_figure(label=2)\n"
   ],
   "metadata": {
    "collapsed": false,
    "pycharm": {
     "name": "#%%\n"
    }
   }
  },
  {
   "cell_type": "code",
   "execution_count": null,
   "outputs": [],
   "source": [],
   "metadata": {
    "collapsed": false,
    "pycharm": {
     "name": "#%%\n"
    }
   }
  }
 ],
 "metadata": {
  "kernelspec": {
   "display_name": "Python 3",
   "language": "python",
   "name": "python3"
  },
  "language_info": {
   "codemirror_mode": {
    "name": "ipython",
    "version": 2
   },
   "file_extension": ".py",
   "mimetype": "text/x-python",
   "name": "python",
   "nbconvert_exporter": "python",
   "pygments_lexer": "ipython2",
   "version": "2.7.6"
  }
 },
 "nbformat": 4,
 "nbformat_minor": 0
}